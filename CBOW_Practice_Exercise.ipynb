{
  "nbformat": 4,
  "nbformat_minor": 0,
  "metadata": {
    "colab": {
      "provenance": [],
      "include_colab_link": true
    },
    "kernelspec": {
      "name": "python3",
      "display_name": "Python 3"
    },
    "language_info": {
      "name": "python"
    }
  },
  "cells": [
    {
      "cell_type": "markdown",
      "metadata": {
        "id": "view-in-github",
        "colab_type": "text"
      },
      "source": [
        "<a href=\"https://colab.research.google.com/github/aliahalotaibi73/week7_exercises/blob/main/CBOW_Practice_Exercise.ipynb\" target=\"_parent\"><img src=\"https://colab.research.google.com/assets/colab-badge.svg\" alt=\"Open In Colab\"/></a>"
      ]
    },
    {
      "cell_type": "markdown",
      "source": [
        "# Continuous Bag of Words (CBOW) Model"
      ],
      "metadata": {
        "id": "L4G-WdYBozAF"
      }
    },
    {
      "cell_type": "markdown",
      "source": [
        "In this exercise, we will create a CBOW model using a sample Arabic medical corpus. The corpus consists of sentences describing various medical scenarios. The goal of the CBOW model is to predict a target word based on its surrounding context words."
      ],
      "metadata": {
        "id": "RhS9KCVPpSy2"
      }
    },
    {
      "cell_type": "markdown",
      "source": [
        "# Importing Required Libraries"
      ],
      "metadata": {
        "id": "BmX5AlBspz6g"
      }
    },
    {
      "cell_type": "markdown",
      "source": [
        "In this step, we import the necessary libraries to build and train the Continuous Bag of Words (CBOW) model.\n",
        "\n",
        "- **TensorFlow and Keras**: Used to build the neural network model, including the layers like `Embedding`, `Dense`, and `Lambda`.\n",
        "- **Tokenizer**: A utility from Keras for tokenizing and processing text data.\n",
        "- **NumPy**: Used for handling numerical operations, particularly for processing arrays and data manipulation.\n",
        "\n",
        "These libraries will provide the essential tools for text preprocessing and model development in the upcoming steps.\n",
        "\n",
        "Add more if needed!\n"
      ],
      "metadata": {
        "id": "S6Ba2ibzpydu"
      }
    },
    {
      "cell_type": "code",
      "source": [
        "import tensorflow as tf\n",
        "from tensorflow.keras.models import Sequential\n",
        "from tensorflow.keras.layers import Dense, Embedding, Lambda\n",
        "from tensorflow.keras.preprocessing.text import Tokenizer\n",
        "import numpy as np"
      ],
      "metadata": {
        "id": "vLFR0MF1p2Y2"
      },
      "execution_count": 1,
      "outputs": []
    },
    {
      "cell_type": "markdown",
      "source": [
        "# Preparing the Corpus"
      ],
      "metadata": {
        "id": "-LHg8WazpVFL"
      }
    },
    {
      "cell_type": "markdown",
      "source": [
        "In this step, we initialize the corpus that will be used for training the Continuous Bag of Words (CBOW) model. The corpus consists of Arabic sentences, each of which describes different medical scenarios.\n",
        "\n",
        "- **Corpus**: A collection of medical-related sentences in Arabic, focusing on various health conditions, treatments, and patient experiences.\n",
        "\n",
        "This step sets up the text data that we will use in the upcoming stages of tokenization and model training."
      ],
      "metadata": {
        "id": "aXDrgRcvoliV"
      }
    },
    {
      "cell_type": "code",
      "source": [
        "corpus = [\n",
        "    \"المريض يعاني من ارتفاع في ضغط الدم منذ فترة طويلة ويحتاج إلى تغيير نمط حياته لتجنب المضاعفات\",\n",
        "    \"الطبيب أشار إلى ضرورة إجراء فحوصات شاملة للتأكد من عدم وجود مشاكل أخرى تؤثر على القلب والجهاز التنفسي\",\n",
        "    \"كانت نتائج التحاليل المخبرية تشير إلى انخفاض حاد في نسبة الحديد مما يستدعي البدء في العلاج فوراً\",\n",
        "    \"المستشفى شهد ازدحامًا شديدًا اليوم بسبب تزايد حالات الطوارئ والحالات الحرجة التي وصلت خلال ساعات الصباح\",\n",
        "    \"المريض يحتاج إلى متابعة دورية من أجل التحكم في نسبة السكر في الدم وتجنب أي تدهور في حالته الصحية\",\n",
        "    \"الأشعة أكدت وجود كسر في العظام ويجب على المريض الراحة التامة والالتزام بالعلاج الموصوف من الطبيب\",\n",
        "    \"الجراحة كانت ناجحة والمريض بدأ يشعر بتحسن تدريجي في حالته ولكنه يحتاج إلى فترة نقاهة طويلة قبل العودة إلى نشاطاته\",\n",
        "    \"الطبيب نصح المريض باتباع نظام غذائي صحي وممارسة الرياضة بانتظام للحفاظ على صحته العامة والوقاية من الأمراض\",\n",
        "    \"تم تشخيص المريضة بمرض مزمن يتطلب علاجًا طويل الأمد وتغييرًا جذريًا في نمط الحياة للتعايش معه\",\n",
        "    \"المريض يشعر بألم حاد في الصدر منذ عدة أيام وقد أُحيل إلى قسم القلب لإجراء فحوصات تشخيصية شاملة\",\n",
        "    \"التحليل المخبري أكد وجود التهاب في المسالك البولية ويتطلب العلاج الفوري بالمضادات الحيوية لتفادي أي مضاعفات\",\n",
        "    \"المريض يعاني من أعراض الأنفلونزا الموسمية ولكن حالته مستقرة ولا تحتاج إلى دخول المستشفى\",\n",
        "    \"التهاب المفاصل تسبب في صعوبة الحركة لدى المريضة ويجب عليها البدء في العلاج الطبيعي لتخفيف الألم واستعادة الحركة\",\n",
        "    \"الفحص الطبي الدوري كشف عن ارتفاع في نسبة الكوليسترول مما يستدعي تغييرًا في النظام الغذائي والبدء في العلاج\",\n",
        "    \"المريضة تعاني من اضطرابات النوم بسبب القلق المفرط وقد تمت إحالتها إلى أخصائي نفسي لتقديم الدعم اللازم\",\n",
        "    \"تم اكتشاف ورم في مرحلة مبكرة لدى المريض ويجب إجراء المزيد من الفحوصات لتحديد أفضل خيارات العلاج المتاحة\",\n",
        "    \"التقرير الطبي أشار إلى أن المريض يعاني من مشاكل في الجهاز الهضمي ويحتاج إلى اتباع نظام غذائي خاص لتجنب الألم\",\n",
        "    \"العملية الجراحية التي أجريت كانت ناجحة ولكن المريض يحتاج إلى مراقبة مستمرة للتأكد من عدم حدوث أي مضاعفات\",\n",
        "    \"المريض يعاني من ضيق في التنفس وقد تم نقله إلى وحدة العناية المركزة لتلقي العلاج اللازم بشكل عاجل\",\n",
        "    \"العلاج الطبيعي الذي يخضع له المريض يساعد في تحسين حالته بشكل ملحوظ ولكنه يحتاج إلى الاستمرار لفترة طويلة\"\n",
        "]"
      ],
      "metadata": {
        "id": "qEQJL-CNjjvO"
      },
      "execution_count": 2,
      "outputs": []
    },
    {
      "cell_type": "markdown",
      "source": [
        "# Defining Vocabulary and Model Parameters"
      ],
      "metadata": {
        "id": "TtAp6KPlqBzA"
      }
    },
    {
      "cell_type": "markdown",
      "source": [
        "In this step, we define key parameters that will be used to configure the CBOW model.\n",
        "\n",
        "- **Vocabulary size**: We calculate the size of the vocabulary based on the number of unique words in the corpus. The `vocab_size` represents the total number of unique tokens (words) in the dataset plus one for padding.\n",
        "  \n",
        "- **Embedding size**: The `embedding_size` defines the dimensionality of the word embeddings. In this case, we set the embedding size to 10, meaning each word will be represented as a 10-dimensional vector in the embedding layer.\n",
        "\n",
        "- **Window size**: The `window_size` defines how many words to the left and right of the target word are considered as context. Here, a window size of 2 means that two words before and two words after the target word will be used as context.\n",
        "\n",
        "These parameters will play an essential role in shaping the CBOW model architecture.\n"
      ],
      "metadata": {
        "id": "EOPRl8IfqAHo"
      }
    },
    {
      "cell_type": "code",
      "source": [
        "tokenizer = Tokenizer()\n",
        "tokenizer.fit_on_texts(corpus)\n",
        "sequences = tokenizer.texts_to_sequences(corpus)\n",
        "print('After converting our words in the corpus into vector of integers:')\n",
        "print(sequences)"
      ],
      "metadata": {
        "id": "icwJ4As2qEkP",
        "outputId": "31645c7f-67d3-4881-aaa7-02eab4ebaba0",
        "colab": {
          "base_uri": "https://localhost:8080/"
        }
      },
      "execution_count": 3,
      "outputs": [
        {
          "output_type": "stream",
          "name": "stdout",
          "text": [
            "After converting our words in the corpus into vector of integers:\n",
            "[[3, 6, 4, 20, 1, 57, 21, 22, 23, 9, 24, 2, 58, 25, 59, 26, 60], [10, 27, 2, 61, 28, 29, 30, 31, 4, 32, 11, 33, 62, 63, 12, 34, 64, 65], [13, 66, 67, 68, 69, 2, 70, 35, 1, 14, 71, 36, 37, 38, 1, 5, 72], [39, 73, 74, 75, 76, 40, 77, 78, 79, 80, 81, 41, 82, 83, 84, 85], [3, 7, 2, 86, 87, 4, 88, 89, 1, 14, 90, 1, 21, 91, 15, 92, 1, 8, 93], [94, 95, 11, 96, 1, 97, 16, 12, 3, 98, 99, 100, 101, 102, 4, 10], [103, 13, 42, 104, 105, 43, 106, 107, 1, 8, 44, 7, 2, 23, 108, 9, 109, 110, 2, 111], [10, 112, 3, 113, 45, 46, 114, 115, 116, 117, 118, 12, 119, 120, 121, 4, 122], [17, 123, 18, 124, 125, 126, 127, 128, 129, 130, 131, 1, 25, 132, 133, 134], [3, 43, 135, 35, 1, 136, 22, 137, 138, 19, 139, 2, 140, 34, 141, 29, 142, 30], [143, 144, 145, 11, 47, 1, 146, 147, 148, 5, 149, 150, 151, 152, 15, 48], [3, 6, 4, 153, 154, 155, 49, 8, 156, 157, 158, 2, 159, 39], [47, 160, 161, 1, 162, 50, 51, 18, 16, 163, 38, 1, 5, 52, 164, 53, 165, 50], [166, 54, 167, 168, 169, 20, 1, 14, 170, 36, 37, 171, 1, 172, 173, 174, 1, 5], [18, 175, 4, 176, 177, 40, 178, 179, 19, 180, 181, 2, 182, 183, 184, 185, 55], [17, 186, 187, 1, 188, 189, 51, 3, 16, 28, 190, 4, 191, 192, 193, 194, 5, 195], [196, 54, 27, 2, 197, 3, 6, 4, 33, 1, 198, 199, 24, 2, 200, 45, 46, 201, 26, 53], [202, 203, 41, 204, 13, 42, 49, 3, 7, 2, 205, 206, 31, 4, 32, 207, 15, 48], [3, 6, 4, 208, 1, 209, 19, 17, 210, 2, 211, 212, 213, 214, 5, 55, 56, 215], [5, 52, 216, 217, 218, 3, 219, 1, 220, 8, 56, 221, 44, 7, 2, 222, 223, 9]]\n"
          ]
        }
      ]
    },
    {
      "cell_type": "code",
      "source": [
        "vocab_size = len(tokenizer.word_index) + 1\n",
        "embedding_size = 10\n",
        "window_size = 2"
      ],
      "metadata": {
        "id": "hDIPp7yW5ovG"
      },
      "execution_count": null,
      "outputs": []
    },
    {
      "cell_type": "markdown",
      "source": [
        "# Preparing Context-Target Pairs for CBOW"
      ],
      "metadata": {
        "id": "w6b35855qQqP"
      }
    },
    {
      "cell_type": "markdown",
      "source": [
        "In this step, we generate the context-target pairs from the tokenized sequences to train the CBOW model.\n",
        "\n",
        "- **Context words**: For each word in a sequence, the surrounding words (within the window size) are considered as context. The context consists of the words immediately before and after the target word.\n",
        "  \n",
        "- **Target word**: The word in the middle of the context window is treated as the target word that the model will learn to predict.\n",
        "\n",
        "We iterate through each sequence, collecting the context words and corresponding target words:\n",
        "- For each word in a sequence, we gather the surrounding words based on the defined window size.\n",
        "- The middle word is the target, and the surrounding words form the context.\n",
        "\n",
        "Finally:\n",
        "- **`X`**: An array of context words.\n",
        "- **`y`**: The target words are one-hot encoded, which means they are converted into a categorical format where each word is represented as a vector of length equal to the vocabulary size.\n",
        "\n",
        "These context-target pairs will be used to train the CBOW model to predict a target word based on its context.\n"
      ],
      "metadata": {
        "id": "589xXbYmqEuR"
      }
    },
    {
      "cell_type": "code",
      "source": [
        "contexts = []\n",
        "targets = []\n",
        "\n",
        "for sequence in sequences:\n",
        "    for i in  range(window_size, len(sequence) - window_size):\n",
        "        context = sequence[i - window_size : i] + sequence[i + 1 : i + window_size + 1]\n",
        "        target = sequence[i]\n",
        "        contexts.append(context)\n",
        "        targets.append(target)\n",
        "\n",
        "X = np.array(contexts)\n",
        "y = tf.keras.utils.to_categorical(targets, num_classes=vocab_size)"
      ],
      "metadata": {
        "id": "c8c1MkYOqSfd"
      },
      "execution_count": null,
      "outputs": []
    },
    {
      "cell_type": "markdown",
      "source": [
        "# Building and Training the CBOW Model"
      ],
      "metadata": {
        "id": "hgxmB4fZqU1A"
      }
    },
    {
      "cell_type": "markdown",
      "source": [
        "In this step, we build and train the Continuous Bag of Words (CBOW) model using the context-target pairs created earlier.\n",
        "\n",
        "1. **Model architecture**:\n",
        "   - **Embedding layer**: This layer transforms the input context words into dense vector representations (embeddings) of size defined by `embedding_size`. The `input_dim` is set to the vocabulary size, and the `input_length` is twice the window size (since context consists of words from both sides of the target).\n",
        "   \n",
        "   - **Lambda layer**: This layer computes the mean of the context word embeddings. It averages the embeddings of the context words to generate a single representation that will be used to predict the target word.\n",
        "   \n",
        "   - **Dense layer**: This fully connected layer outputs a probability distribution over the vocabulary, using the softmax activation function. It predicts the most likely target word based on the context word embeddings.\n",
        "\n",
        "2. **Compilation**:\n",
        "   The model is compiled using the Adam optimizer and categorical cross-entropy as the loss function, which is suitable for multi-class classification tasks. Accuracy is used as a metric to evaluate the model's performance during training.\n",
        "\n",
        "3. **Training the model**:\n",
        "   The model is trained on the context-target pairs for 500 epochs. During each epoch, the model learns to predict the target word based on the context, refining its weights to improve accuracy.\n",
        "\n",
        "4. **Saving the model weights**:\n",
        "   After training, the model weights are saved to a file (`cbow_model.weights.h5`) for future use. This allows us to load the trained model later without retraining.\n",
        "\n",
        "By the end of this step, the CBOW model will have learned to predict target words based on their surrounding context from the given corpus."
      ],
      "metadata": {
        "id": "QkXe33DgqSvD"
      }
    },
    {
      "cell_type": "code",
      "source": [
        "model = Sequential()\n",
        "model.add(Embedding(input_dim=vocab_size, output_dim=embedding_size, input_length=2*window_size))\n",
        "model.add(Lambda(lambda x: tf.reduce_mean(x, axis=1)))\n",
        "model.add(Dense(units=vocab_size, activation='softmax'))\n",
        "model.compile(optimizer='adam', loss='categorical_crossentropy', metrics=['accuracy'])"
      ],
      "metadata": {
        "id": "vL3UZZe3qhhh"
      },
      "execution_count": null,
      "outputs": []
    },
    {
      "cell_type": "code",
      "source": [
        "model.fit(X, y, epochs=100, verbose=1)\n",
        "model.save_weights('cbow_model.weights.h5')"
      ],
      "metadata": {
        "id": "rpwQXU5X7SPE"
      },
      "execution_count": null,
      "outputs": []
    },
    {
      "cell_type": "markdown",
      "source": [
        "# Predicting a Word Using the Trained CBOW Model"
      ],
      "metadata": {
        "id": "mLodiHWkqaL4"
      }
    },
    {
      "cell_type": "markdown",
      "source": [
        "In this step, we define a function to predict a word based on a given context using the trained CBOW model.\n",
        "\n",
        "1. **Function: `predict_word`**:\n",
        "   - **Input**: The function takes a list of context words as input. The number of context words should match the expected size (2 times the window size).\n",
        "   - **Context sequence conversion**: The input context words are tokenized into a sequence of integers using the same tokenizer that was used during training.\n",
        "   - **Input validation**: The function checks whether the length of the context sequence matches the expected size (2 times the window size). If not, it prints an error message.\n",
        "   - **Prediction**: The tokenized context is fed into the trained CBOW model, which predicts the probability distribution over the vocabulary.\n",
        "   - **Retrieve predicted word**: The predicted word is the one with the highest probability. The function retrieves the word corresponding to the predicted index from the tokenizer's word index.\n",
        "\n",
        "2. **Example**:\n",
        "   - We provide a sample context: `['في', 'ارتفاع', 'يعاني', 'المريض']`.\n",
        "   - The function predicts the word that fits best in this context, based on the model's learned weights.\n",
        "   - The predicted word is printed along with the input context.\n",
        "\n",
        "This function allows us to test the CBOW model by predicting words based on their surrounding context from the corpus."
      ],
      "metadata": {
        "id": "_SRP_chYqYKS"
      }
    },
    {
      "cell_type": "code",
      "source": [
        "def predict_word(context_words, model, tokenizer, window_size):\n",
        "    # Tokenize the context words to get their integer representations\n",
        "    context_sequence = tokenizer.texts_to_sequences([context_words])[0]\n",
        "\n",
        "    # Validate input length (should be 2 * window_size)\n",
        "    expected_length = 2 * window_size\n",
        "    if len(context_sequence) != expected_length:\n",
        "        print(f\"Error: Expected {expected_length} context words, got {len(context_sequence)}.\")\n",
        "        return None\n",
        "\n",
        "    # Reshape context sequence to match model input shape (e.g., (1, 2*window_size))\n",
        "    context_sequence = np.array(context_sequence).reshape(1, -1)\n",
        "    print(context_sequence)\n",
        "    # Use the trained CBOW model to predict the target word\n",
        "    prediction = model.predict(context_sequence)\n",
        "\n",
        "    # Find the index of the word with the highest probability\n",
        "    predicted_word_index = np.argmax(prediction)\n",
        "\n",
        "    # Map index back to word using tokenizer's word index\n",
        "    predicted_word = tokenizer.index_word.get(predicted_word_index, \"Unknown\")\n",
        "\n",
        "    # Print the result\n",
        "    print(f\"Context: {context_words}\")\n",
        "    print(f\"Predicted word: {predicted_word}\")\n",
        "\n",
        "    return predicted_word"
      ],
      "metadata": {
        "id": "ykhSWJY0qgCI"
      },
      "execution_count": null,
      "outputs": []
    },
    {
      "cell_type": "code",
      "source": [
        "context_words = ['في', 'ارتفاع', 'يعاني', 'المريض']\n",
        "model.load_weights('cbow_model.weights.h5')\n",
        "predicted_word = predict_word(context_words, model, tokenizer, window_size=2)"
      ],
      "metadata": {
        "id": "U-KHOP4t7dfy"
      },
      "execution_count": null,
      "outputs": []
    }
  ]
}