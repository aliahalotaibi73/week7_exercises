{
  "nbformat": 4,
  "nbformat_minor": 0,
  "metadata": {
    "colab": {
      "provenance": [],
      "gpuType": "T4",
      "include_colab_link": true
    },
    "kernelspec": {
      "name": "python3",
      "display_name": "Python 3"
    },
    "language_info": {
      "name": "python"
    },
    "accelerator": "GPU"
  },
  "cells": [
    {
      "cell_type": "markdown",
      "metadata": {
        "id": "view-in-github",
        "colab_type": "text"
      },
      "source": [
        "<a href=\"https://colab.research.google.com/github/aliahalotaibi73/week7_exercises/blob/main/Text_Classification_Practice_Exercise.ipynb\" target=\"_parent\"><img src=\"https://colab.research.google.com/assets/colab-badge.svg\" alt=\"Open In Colab\"/></a>"
      ]
    },
    {
      "cell_type": "markdown",
      "source": [
        "# Important Notice! 🚨"
      ],
      "metadata": {
        "id": "spruvyDmgE-J"
      }
    },
    {
      "cell_type": "markdown",
      "source": [
        "While this dataset might seem relatively clean, be prepared! In the actual exam, you may encounter a more challenging dataset containing URLs, emojis, Tashkeel, last Harakah, and other elements that will require proper handling.\n",
        "\n",
        "Don’t rely on this clean dataset alone! It’s highly recommended that you practice using a different, more complex dataset. Handling these types of noise effectively will not only help you excel in the exam but also prepare you for real-world projects involving Arabic text data.\n",
        "\n",
        "Here are a few things you might need to clean in other datasets:\n",
        "- URLs\n",
        "- Emojis\n",
        "- Arabic diacritics (Tashkeel) and last Harakah\n",
        "\n",
        "**Take Your Time**: The more you practice with noisy data, the better equipped you'll be to tackle these challenges confidently, both in the exam and in future projects! 🚀\n"
      ],
      "metadata": {
        "id": "haXAxpazgHm_"
      }
    },
    {
      "cell_type": "markdown",
      "source": [
        "# Install and Import Needed Libraries"
      ],
      "metadata": {
        "id": "oqw2El5mMxsz"
      }
    },
    {
      "cell_type": "markdown",
      "source": [
        "You can use `pyarabic` or any other library to pre-process and clean the Arabic text."
      ],
      "metadata": {
        "id": "4dTkHbSHNB4y"
      }
    },
    {
      "cell_type": "code",
      "source": [
        "!pip install pyarabic emoji"
      ],
      "metadata": {
        "id": "z6mRe6i5Wqqc",
        "colab": {
          "base_uri": "https://localhost:8080/"
        },
        "outputId": "c03b4911-b241-42ad-9da3-c149fb128e28"
      },
      "execution_count": 16,
      "outputs": [
        {
          "output_type": "stream",
          "name": "stdout",
          "text": [
            "Requirement already satisfied: pyarabic in /usr/local/lib/python3.10/dist-packages (0.6.15)\n",
            "Requirement already satisfied: emoji in /usr/local/lib/python3.10/dist-packages (2.12.1)\n",
            "Requirement already satisfied: six>=1.14.0 in /usr/local/lib/python3.10/dist-packages (from pyarabic) (1.16.0)\n",
            "Requirement already satisfied: typing-extensions>=4.7.0 in /usr/local/lib/python3.10/dist-packages (from emoji) (4.12.2)\n"
          ]
        }
      ]
    },
    {
      "cell_type": "code",
      "source": [
        "import re\n",
        "import pandas as pd\n",
        "import pyarabic.araby as araby\n",
        "import nltk\n",
        "from nltk.corpus import stopwords\n",
        "import nltk\n",
        "from nltk.stem.isri import ISRIStemmer\n",
        "nltk.download('stopwords')\n",
        "import tensorflow\n",
        "from tensorflow.keras.models import Sequential\n",
        "from tensorflow.keras.layers import Embedding, LSTM, Dense, Dropout, Input, Bidirectional, SimpleRNN, LSTM\n",
        "from tensorflow.keras.preprocessing.text import Tokenizer\n",
        "from tensorflow.keras.preprocessing.sequence import pad_sequences\n",
        "from sklearn.preprocessing import LabelEncoder\n",
        "from sklearn.model_selection import train_test_split\n",
        "import matplotlib.pyplot as plt\n",
        "import pyarabic.number as number\n",
        "import emoji\n",
        "from collections import Counter"
      ],
      "metadata": {
        "colab": {
          "base_uri": "https://localhost:8080/"
        },
        "id": "ijIqB9eihL8q",
        "outputId": "4887a6b6-5daa-4c13-fa4f-ca94b8978590"
      },
      "execution_count": 26,
      "outputs": [
        {
          "output_type": "stream",
          "name": "stderr",
          "text": [
            "[nltk_data] Downloading package stopwords to /root/nltk_data...\n",
            "[nltk_data]   Package stopwords is already up-to-date!\n"
          ]
        }
      ]
    },
    {
      "cell_type": "markdown",
      "source": [
        "# Download the Dataset"
      ],
      "metadata": {
        "id": "Hq5KJRZ5Ph0Z"
      }
    },
    {
      "cell_type": "code",
      "source": [
        "!kaggle datasets download -d abedkhooli/arabic-100k-reviews"
      ],
      "metadata": {
        "colab": {
          "base_uri": "https://localhost:8080/"
        },
        "id": "fa9DlT5K_QB7",
        "outputId": "550d3dac-728c-42ca-a83f-3cd5d7a1c0fb"
      },
      "execution_count": 17,
      "outputs": [
        {
          "output_type": "stream",
          "name": "stdout",
          "text": [
            "Dataset URL: https://www.kaggle.com/datasets/abedkhooli/arabic-100k-reviews\n",
            "License(s): copyright-authors\n",
            "arabic-100k-reviews.zip: Skipping, found more recently modified local copy (use --force to force download)\n"
          ]
        }
      ]
    },
    {
      "cell_type": "code",
      "source": [
        "!unzip arabic-100k-reviews.zip"
      ],
      "metadata": {
        "colab": {
          "base_uri": "https://localhost:8080/"
        },
        "id": "-xxSfZC0BOqY",
        "outputId": "d4833f38-192c-4d8b-f08c-bde1d1163da2"
      },
      "execution_count": 18,
      "outputs": [
        {
          "output_type": "stream",
          "name": "stdout",
          "text": [
            "Archive:  arabic-100k-reviews.zip\n",
            "replace ar_reviews_100k.tsv? [y]es, [n]o, [A]ll, [N]one, [r]ename: "
          ]
        }
      ]
    },
    {
      "cell_type": "markdown",
      "source": [
        "# Data Exploration"
      ],
      "metadata": {
        "id": "kVc0b_9fQGeH"
      }
    },
    {
      "cell_type": "markdown",
      "source": [
        "Before diving into preprocessing and model building, it’s important to first explore the dataset to understand its structure, distribution, and key characteristics. This step will help you gain insights into the data and guide your decisions in subsequent steps. Here’s what to consider:\n",
        "\n",
        "1. **Inspect the Data**:\n",
        "   Start by looking at the first few rows of the dataset to get a sense of its structure. Check the columns, data types, and a few sample entries. This helps to ensure that the data is loaded correctly and gives you an initial overview of the content.\n",
        "\n",
        "2. **Check for Missing Values**:\n",
        "   Identify if there are any missing values in the dataset. Missing data can cause issues during model training, so it’s important to handle them early on. You can choose to remove rows with missing values or fill them with appropriate replacements (imputation).\n",
        "\n",
        "3. **Distribution of Labels**:\n",
        "   Examine the distribution of the target labels (classes). This step is crucial in classification tasks to determine if the dataset is balanced or imbalanced. A balanced dataset has a roughly equal number of samples for each class, while an imbalanced dataset has a significantly higher number of samples for one class compared to others. For imbalanced datasets, you may need to apply techniques like class weighting or data augmentation.\n",
        "\n",
        "4. **Text Data Characteristics**:\n",
        "   Analyze the length of the text data. It is useful to calculate the number of words or characters in each text sample to understand how long the texts are. This will help you set a suitable `max_length` for tokenization and padding later. You can plot a histogram of text lengths to visualize the distribution.\n",
        "\n",
        "5. **Common Words and Vocabulary**:\n",
        "   Explore the most frequent words in the text data. This will give you a sense of which words dominate the dataset and could be helpful in later steps, such as stopword removal or adjusting tokenizer settings."
      ],
      "metadata": {
        "id": "a98DaVUvQsi8"
      }
    },
    {
      "cell_type": "code",
      "source": [
        "def remove_urls(text):                      #remove the links\n",
        "  return re.sub(r'http\\S+', '', text)\n",
        "\n",
        "\n",
        "\n",
        "def remove_emojis(text):                    #remove emojis\n",
        "  return emoji.replace_emoji(text, replace='')\n",
        "\n",
        "\n",
        "def remove_diacritics(text):                #remove diacritics\n",
        "  return araby.strip_tashkeel(text)\n",
        "\n",
        "#clean text\n",
        "\n",
        "\n",
        "def clean_text(text):\n",
        "  text = remove_urls(text)\n",
        "  text = remove_emojis(text)\n",
        "  text = remove_diacritics(text)\n",
        "  return text"
      ],
      "metadata": {
        "id": "aZgYQbZxWtAt"
      },
      "execution_count": null,
      "outputs": []
    },
    {
      "cell_type": "code",
      "source": [
        "df = pd.read_csv('/content/ar_reviews_100k.tsv', sep='\\t')\n",
        "df.head()"
      ],
      "metadata": {
        "colab": {
          "base_uri": "https://localhost:8080/",
          "height": 206
        },
        "id": "GioEALQPhrKg",
        "outputId": "59c841e7-7fdd-494b-f3e1-f53d879b42d7"
      },
      "execution_count": 20,
      "outputs": [
        {
          "output_type": "execute_result",
          "data": {
            "text/plain": [
              "      label                                               text\n",
              "0  Positive  ممتاز نوعا ما . النظافة والموقع والتجهيز والشا...\n",
              "1  Positive  أحد أسباب نجاح الإمارات أن كل شخص في هذه الدول...\n",
              "2  Positive  هادفة .. وقوية. تنقلك من صخب شوارع القاهرة الى...\n",
              "3  Positive  خلصنا .. مبدئيا اللي مستني ابهار زي الفيل الاز...\n",
              "4  Positive  ياسات جلوريا جزء لا يتجزأ من دبي . فندق متكامل..."
            ],
            "text/html": [
              "\n",
              "  <div id=\"df-3102ba45-36e9-4c7c-b943-56e682def207\" class=\"colab-df-container\">\n",
              "    <div>\n",
              "<style scoped>\n",
              "    .dataframe tbody tr th:only-of-type {\n",
              "        vertical-align: middle;\n",
              "    }\n",
              "\n",
              "    .dataframe tbody tr th {\n",
              "        vertical-align: top;\n",
              "    }\n",
              "\n",
              "    .dataframe thead th {\n",
              "        text-align: right;\n",
              "    }\n",
              "</style>\n",
              "<table border=\"1\" class=\"dataframe\">\n",
              "  <thead>\n",
              "    <tr style=\"text-align: right;\">\n",
              "      <th></th>\n",
              "      <th>label</th>\n",
              "      <th>text</th>\n",
              "    </tr>\n",
              "  </thead>\n",
              "  <tbody>\n",
              "    <tr>\n",
              "      <th>0</th>\n",
              "      <td>Positive</td>\n",
              "      <td>ممتاز نوعا ما . النظافة والموقع والتجهيز والشا...</td>\n",
              "    </tr>\n",
              "    <tr>\n",
              "      <th>1</th>\n",
              "      <td>Positive</td>\n",
              "      <td>أحد أسباب نجاح الإمارات أن كل شخص في هذه الدول...</td>\n",
              "    </tr>\n",
              "    <tr>\n",
              "      <th>2</th>\n",
              "      <td>Positive</td>\n",
              "      <td>هادفة .. وقوية. تنقلك من صخب شوارع القاهرة الى...</td>\n",
              "    </tr>\n",
              "    <tr>\n",
              "      <th>3</th>\n",
              "      <td>Positive</td>\n",
              "      <td>خلصنا .. مبدئيا اللي مستني ابهار زي الفيل الاز...</td>\n",
              "    </tr>\n",
              "    <tr>\n",
              "      <th>4</th>\n",
              "      <td>Positive</td>\n",
              "      <td>ياسات جلوريا جزء لا يتجزأ من دبي . فندق متكامل...</td>\n",
              "    </tr>\n",
              "  </tbody>\n",
              "</table>\n",
              "</div>\n",
              "    <div class=\"colab-df-buttons\">\n",
              "\n",
              "  <div class=\"colab-df-container\">\n",
              "    <button class=\"colab-df-convert\" onclick=\"convertToInteractive('df-3102ba45-36e9-4c7c-b943-56e682def207')\"\n",
              "            title=\"Convert this dataframe to an interactive table.\"\n",
              "            style=\"display:none;\">\n",
              "\n",
              "  <svg xmlns=\"http://www.w3.org/2000/svg\" height=\"24px\" viewBox=\"0 -960 960 960\">\n",
              "    <path d=\"M120-120v-720h720v720H120Zm60-500h600v-160H180v160Zm220 220h160v-160H400v160Zm0 220h160v-160H400v160ZM180-400h160v-160H180v160Zm440 0h160v-160H620v160ZM180-180h160v-160H180v160Zm440 0h160v-160H620v160Z\"/>\n",
              "  </svg>\n",
              "    </button>\n",
              "\n",
              "  <style>\n",
              "    .colab-df-container {\n",
              "      display:flex;\n",
              "      gap: 12px;\n",
              "    }\n",
              "\n",
              "    .colab-df-convert {\n",
              "      background-color: #E8F0FE;\n",
              "      border: none;\n",
              "      border-radius: 50%;\n",
              "      cursor: pointer;\n",
              "      display: none;\n",
              "      fill: #1967D2;\n",
              "      height: 32px;\n",
              "      padding: 0 0 0 0;\n",
              "      width: 32px;\n",
              "    }\n",
              "\n",
              "    .colab-df-convert:hover {\n",
              "      background-color: #E2EBFA;\n",
              "      box-shadow: 0px 1px 2px rgba(60, 64, 67, 0.3), 0px 1px 3px 1px rgba(60, 64, 67, 0.15);\n",
              "      fill: #174EA6;\n",
              "    }\n",
              "\n",
              "    .colab-df-buttons div {\n",
              "      margin-bottom: 4px;\n",
              "    }\n",
              "\n",
              "    [theme=dark] .colab-df-convert {\n",
              "      background-color: #3B4455;\n",
              "      fill: #D2E3FC;\n",
              "    }\n",
              "\n",
              "    [theme=dark] .colab-df-convert:hover {\n",
              "      background-color: #434B5C;\n",
              "      box-shadow: 0px 1px 3px 1px rgba(0, 0, 0, 0.15);\n",
              "      filter: drop-shadow(0px 1px 2px rgba(0, 0, 0, 0.3));\n",
              "      fill: #FFFFFF;\n",
              "    }\n",
              "  </style>\n",
              "\n",
              "    <script>\n",
              "      const buttonEl =\n",
              "        document.querySelector('#df-3102ba45-36e9-4c7c-b943-56e682def207 button.colab-df-convert');\n",
              "      buttonEl.style.display =\n",
              "        google.colab.kernel.accessAllowed ? 'block' : 'none';\n",
              "\n",
              "      async function convertToInteractive(key) {\n",
              "        const element = document.querySelector('#df-3102ba45-36e9-4c7c-b943-56e682def207');\n",
              "        const dataTable =\n",
              "          await google.colab.kernel.invokeFunction('convertToInteractive',\n",
              "                                                    [key], {});\n",
              "        if (!dataTable) return;\n",
              "\n",
              "        const docLinkHtml = 'Like what you see? Visit the ' +\n",
              "          '<a target=\"_blank\" href=https://colab.research.google.com/notebooks/data_table.ipynb>data table notebook</a>'\n",
              "          + ' to learn more about interactive tables.';\n",
              "        element.innerHTML = '';\n",
              "        dataTable['output_type'] = 'display_data';\n",
              "        await google.colab.output.renderOutput(dataTable, element);\n",
              "        const docLink = document.createElement('div');\n",
              "        docLink.innerHTML = docLinkHtml;\n",
              "        element.appendChild(docLink);\n",
              "      }\n",
              "    </script>\n",
              "  </div>\n",
              "\n",
              "\n",
              "<div id=\"df-eb245781-8302-4ee9-9731-5f9e16491cfd\">\n",
              "  <button class=\"colab-df-quickchart\" onclick=\"quickchart('df-eb245781-8302-4ee9-9731-5f9e16491cfd')\"\n",
              "            title=\"Suggest charts\"\n",
              "            style=\"display:none;\">\n",
              "\n",
              "<svg xmlns=\"http://www.w3.org/2000/svg\" height=\"24px\"viewBox=\"0 0 24 24\"\n",
              "     width=\"24px\">\n",
              "    <g>\n",
              "        <path d=\"M19 3H5c-1.1 0-2 .9-2 2v14c0 1.1.9 2 2 2h14c1.1 0 2-.9 2-2V5c0-1.1-.9-2-2-2zM9 17H7v-7h2v7zm4 0h-2V7h2v10zm4 0h-2v-4h2v4z\"/>\n",
              "    </g>\n",
              "</svg>\n",
              "  </button>\n",
              "\n",
              "<style>\n",
              "  .colab-df-quickchart {\n",
              "      --bg-color: #E8F0FE;\n",
              "      --fill-color: #1967D2;\n",
              "      --hover-bg-color: #E2EBFA;\n",
              "      --hover-fill-color: #174EA6;\n",
              "      --disabled-fill-color: #AAA;\n",
              "      --disabled-bg-color: #DDD;\n",
              "  }\n",
              "\n",
              "  [theme=dark] .colab-df-quickchart {\n",
              "      --bg-color: #3B4455;\n",
              "      --fill-color: #D2E3FC;\n",
              "      --hover-bg-color: #434B5C;\n",
              "      --hover-fill-color: #FFFFFF;\n",
              "      --disabled-bg-color: #3B4455;\n",
              "      --disabled-fill-color: #666;\n",
              "  }\n",
              "\n",
              "  .colab-df-quickchart {\n",
              "    background-color: var(--bg-color);\n",
              "    border: none;\n",
              "    border-radius: 50%;\n",
              "    cursor: pointer;\n",
              "    display: none;\n",
              "    fill: var(--fill-color);\n",
              "    height: 32px;\n",
              "    padding: 0;\n",
              "    width: 32px;\n",
              "  }\n",
              "\n",
              "  .colab-df-quickchart:hover {\n",
              "    background-color: var(--hover-bg-color);\n",
              "    box-shadow: 0 1px 2px rgba(60, 64, 67, 0.3), 0 1px 3px 1px rgba(60, 64, 67, 0.15);\n",
              "    fill: var(--button-hover-fill-color);\n",
              "  }\n",
              "\n",
              "  .colab-df-quickchart-complete:disabled,\n",
              "  .colab-df-quickchart-complete:disabled:hover {\n",
              "    background-color: var(--disabled-bg-color);\n",
              "    fill: var(--disabled-fill-color);\n",
              "    box-shadow: none;\n",
              "  }\n",
              "\n",
              "  .colab-df-spinner {\n",
              "    border: 2px solid var(--fill-color);\n",
              "    border-color: transparent;\n",
              "    border-bottom-color: var(--fill-color);\n",
              "    animation:\n",
              "      spin 1s steps(1) infinite;\n",
              "  }\n",
              "\n",
              "  @keyframes spin {\n",
              "    0% {\n",
              "      border-color: transparent;\n",
              "      border-bottom-color: var(--fill-color);\n",
              "      border-left-color: var(--fill-color);\n",
              "    }\n",
              "    20% {\n",
              "      border-color: transparent;\n",
              "      border-left-color: var(--fill-color);\n",
              "      border-top-color: var(--fill-color);\n",
              "    }\n",
              "    30% {\n",
              "      border-color: transparent;\n",
              "      border-left-color: var(--fill-color);\n",
              "      border-top-color: var(--fill-color);\n",
              "      border-right-color: var(--fill-color);\n",
              "    }\n",
              "    40% {\n",
              "      border-color: transparent;\n",
              "      border-right-color: var(--fill-color);\n",
              "      border-top-color: var(--fill-color);\n",
              "    }\n",
              "    60% {\n",
              "      border-color: transparent;\n",
              "      border-right-color: var(--fill-color);\n",
              "    }\n",
              "    80% {\n",
              "      border-color: transparent;\n",
              "      border-right-color: var(--fill-color);\n",
              "      border-bottom-color: var(--fill-color);\n",
              "    }\n",
              "    90% {\n",
              "      border-color: transparent;\n",
              "      border-bottom-color: var(--fill-color);\n",
              "    }\n",
              "  }\n",
              "</style>\n",
              "\n",
              "  <script>\n",
              "    async function quickchart(key) {\n",
              "      const quickchartButtonEl =\n",
              "        document.querySelector('#' + key + ' button');\n",
              "      quickchartButtonEl.disabled = true;  // To prevent multiple clicks.\n",
              "      quickchartButtonEl.classList.add('colab-df-spinner');\n",
              "      try {\n",
              "        const charts = await google.colab.kernel.invokeFunction(\n",
              "            'suggestCharts', [key], {});\n",
              "      } catch (error) {\n",
              "        console.error('Error during call to suggestCharts:', error);\n",
              "      }\n",
              "      quickchartButtonEl.classList.remove('colab-df-spinner');\n",
              "      quickchartButtonEl.classList.add('colab-df-quickchart-complete');\n",
              "    }\n",
              "    (() => {\n",
              "      let quickchartButtonEl =\n",
              "        document.querySelector('#df-eb245781-8302-4ee9-9731-5f9e16491cfd button');\n",
              "      quickchartButtonEl.style.display =\n",
              "        google.colab.kernel.accessAllowed ? 'block' : 'none';\n",
              "    })();\n",
              "  </script>\n",
              "</div>\n",
              "\n",
              "    </div>\n",
              "  </div>\n"
            ],
            "application/vnd.google.colaboratory.intrinsic+json": {
              "type": "dataframe",
              "variable_name": "df",
              "summary": "{\n  \"name\": \"df\",\n  \"rows\": 99999,\n  \"fields\": [\n    {\n      \"column\": \"label\",\n      \"properties\": {\n        \"dtype\": \"category\",\n        \"num_unique_values\": 3,\n        \"samples\": [\n          \"Positive\",\n          \"Mixed\",\n          \"Negative\"\n        ],\n        \"semantic_type\": \"\",\n        \"description\": \"\"\n      }\n    },\n    {\n      \"column\": \"text\",\n      \"properties\": {\n        \"dtype\": \"string\",\n        \"num_unique_values\": 99999,\n        \"samples\": [\n          \"\\u0623\\u0642\\u0645 \\u0639\\u0644\\u0649 \\u0627\\u0644\\u0645\\u0627\\u0634\\u064a . \\u0628\\u0635\\u0648\\u0631\\u0629 \\u0639\\u0627\\u0645\\u0629 \\u0627\\u0644\\u063a\\u0631\\u0641\\u0629 \\u062c\\u064a\\u062f\\u0629 \\u0648\\u0643\\u0644 \\u0634\\u064a\\u0621 \\u0645\\u062a\\u0648\\u0641\\u0631 \\u0641\\u064a\\u0647\\u0627. \\u0639\\u062f\\u0645 \\u0648\\u062c\\u0648\\u062f \\u0633\\u062a\\u0627\\u0631\\u0629 \\u0627\\u0644\\u062d\\u0645\\u0627\\u0645\",\n          \"\\u0644\\u0645 \\u062a\\u0639\\u062c\\u0628\\u0646\\u064a \\u0643\\u0628\\u0627\\u0642\\u064a \\u0627\\u0644\\u0633\\u0644\\u0633\\u0644\\u0629 \\u0648 \\u063a\\u064a\\u0631 \\u0645\\u062a\\u062d\\u0645\\u0633 \\u0644\\u0642\\u0631\\u0627\\u0621\\u0629 \\u0627\\u0644\\u062c\\u0632\\u0621 \\u0627\\u0644\\u062b\\u0627\\u0646\\u064a \\u0645\\u0646\\u0647\\u0627\",\n          \"\\u0643\\u0627\\u0646 \\u0627\\u0644\\u0645\\u0643\\u0627\\u0646 \\u0645\\u0645\\u062a\\u0627\\u0632 \\u0648\\u0627\\u0644\\u0623\\u0645\\u0646 \\u0648\\u0627\\u0644\\u0627\\u0633\\u062a\\u0642\\u0628\\u0627\\u0644 \\u0627\\u0648\\u0643\\u064a . . \\u0627\\u0644\\u062a\\u0643\\u064a\\u064a\\u0641 \\u0643\\u0627\\u0646 \\u062d\\u0627\\u0631 \\u0648\\u0628\\u0644\\u063a\\u062a \\u0627\\u0643\\u062b\\u0631 \\u0645\\u0646 \\u0645\\u0631\\u0647 \\u064a\\u062a\\u0645 \\u0644\\u0647 \\u0635\\u064a\\u0627\\u0646\\u0647 \\u0648\\u0644\\u0643\\u0646 \\u062f\\u0648\\u0646 \\u062c\\u062f\\u0648\\u064a \\u0628\\u0627\\u0644\\u0627\\u0636\\u0627\\u0641\\u0629 \\u0627\\u0646\\u0647 \\u0627\\u0644\\u0633\\u0631\\u0641\\u0633 \\u0643\\u0627\\u0646 \\u0646\\u0648\\u0639\\u0627 \\u0645\\u0627 \\u0636\\u0639\\u064a\\u0641 \\u062d\\u062a\\u064a \\u0639\\u0645\\u0644 \\u0627\\u0644\\u0644\\u0627\\u0646\\u062f\\u0631\\u064a \\u0645\\u0627 \\u0643\\u0627\\u0646 \\u0645\\u0646\\u0648\\u0641\\u0631 \\u0641\\u064a \\u0646\\u0641\\u0633 \\u0627\\u0644\\u0641\\u0646\\u062f\\u0642 \\u0648\\u0643\\u0627\\u0646 \\u0627\\u0644\\u0644\\u0627\\u0646\\u062f\\u0631\\u064a \\u064a\\u0643\\u0648\\u0646 \\u062e\\u0627\\u0631\\u062c \\u0627\\u0644\\u0641\\u0646\\u062f\\u0642 \\u0648\\u0627\\u0644\\u0633\\u0639\\u0631 \\u0643\\u0627\\u0646 \\u063a\\u0627\\u0644\\u064a \\u0627\\u0644\\u062b\\u0645\\u0646 \\u0648\\u0627\\u0646\\u0627 \\u0627\\u0633\\u062a\\u063a\\u0631\\u0628\\u062a \\u0645\\u0646 \\u0627\\u0644\\u0623\\u0633\\u0639\\u0627\\u0631\"\n        ],\n        \"semantic_type\": \"\",\n        \"description\": \"\"\n      }\n    }\n  ]\n}"
            }
          },
          "metadata": {},
          "execution_count": 20
        }
      ]
    },
    {
      "cell_type": "code",
      "source": [
        "df.sample(10)"
      ],
      "metadata": {
        "colab": {
          "base_uri": "https://localhost:8080/",
          "height": 362
        },
        "id": "buZFHdxXh4vj",
        "outputId": "6ae167b9-07ea-4012-ca59-29739b79cbd4"
      },
      "execution_count": 21,
      "outputs": [
        {
          "output_type": "execute_result",
          "data": {
            "text/plain": [
              "          label                                               text\n",
              "40478     Mixed  كتاب جميل حسيت كأنه بيتكلم عني في بعض الفقرات ...\n",
              "38613     Mixed  رحله الى دبي . خدمات لا بأس بها. الحمامات ما ت...\n",
              "40248     Mixed  إلى تلك السيدة التي وقفت على ناصية الحارة. إلى...\n",
              "29390  Positive  طيب نبدأ منين..كل حاجة في الرواية تشدك و تخليك...\n",
              "89865  Negative    تجربه سيئة بكل المقاييس . لم يعجبني شيئ. كل شيئ\n",
              "79454  Negative  ضعيف. الاثاث مجدد فقط. يقولون بأن الفندق جديد ...\n",
              "38907     Mixed  حبيتها حسة إنى عشت جواها كلمات رضوي عاشور أصلا...\n",
              "97128  Negative  اخر مره اسكن فيه فندق تعيس . السرير مريحالاكل ...\n",
              "17147  Positive  للمره الثانيه استاجر هنا . هذه المره الثانيه ل...\n",
              "11149  Positive  رواية الجاحد. بقلم: الحسن البخاري. التقييم : و..."
            ],
            "text/html": [
              "\n",
              "  <div id=\"df-1bcc641a-8ab9-485a-b74a-39be1749f0eb\" class=\"colab-df-container\">\n",
              "    <div>\n",
              "<style scoped>\n",
              "    .dataframe tbody tr th:only-of-type {\n",
              "        vertical-align: middle;\n",
              "    }\n",
              "\n",
              "    .dataframe tbody tr th {\n",
              "        vertical-align: top;\n",
              "    }\n",
              "\n",
              "    .dataframe thead th {\n",
              "        text-align: right;\n",
              "    }\n",
              "</style>\n",
              "<table border=\"1\" class=\"dataframe\">\n",
              "  <thead>\n",
              "    <tr style=\"text-align: right;\">\n",
              "      <th></th>\n",
              "      <th>label</th>\n",
              "      <th>text</th>\n",
              "    </tr>\n",
              "  </thead>\n",
              "  <tbody>\n",
              "    <tr>\n",
              "      <th>40478</th>\n",
              "      <td>Mixed</td>\n",
              "      <td>كتاب جميل حسيت كأنه بيتكلم عني في بعض الفقرات ...</td>\n",
              "    </tr>\n",
              "    <tr>\n",
              "      <th>38613</th>\n",
              "      <td>Mixed</td>\n",
              "      <td>رحله الى دبي . خدمات لا بأس بها. الحمامات ما ت...</td>\n",
              "    </tr>\n",
              "    <tr>\n",
              "      <th>40248</th>\n",
              "      <td>Mixed</td>\n",
              "      <td>إلى تلك السيدة التي وقفت على ناصية الحارة. إلى...</td>\n",
              "    </tr>\n",
              "    <tr>\n",
              "      <th>29390</th>\n",
              "      <td>Positive</td>\n",
              "      <td>طيب نبدأ منين..كل حاجة في الرواية تشدك و تخليك...</td>\n",
              "    </tr>\n",
              "    <tr>\n",
              "      <th>89865</th>\n",
              "      <td>Negative</td>\n",
              "      <td>تجربه سيئة بكل المقاييس . لم يعجبني شيئ. كل شيئ</td>\n",
              "    </tr>\n",
              "    <tr>\n",
              "      <th>79454</th>\n",
              "      <td>Negative</td>\n",
              "      <td>ضعيف. الاثاث مجدد فقط. يقولون بأن الفندق جديد ...</td>\n",
              "    </tr>\n",
              "    <tr>\n",
              "      <th>38907</th>\n",
              "      <td>Mixed</td>\n",
              "      <td>حبيتها حسة إنى عشت جواها كلمات رضوي عاشور أصلا...</td>\n",
              "    </tr>\n",
              "    <tr>\n",
              "      <th>97128</th>\n",
              "      <td>Negative</td>\n",
              "      <td>اخر مره اسكن فيه فندق تعيس . السرير مريحالاكل ...</td>\n",
              "    </tr>\n",
              "    <tr>\n",
              "      <th>17147</th>\n",
              "      <td>Positive</td>\n",
              "      <td>للمره الثانيه استاجر هنا . هذه المره الثانيه ل...</td>\n",
              "    </tr>\n",
              "    <tr>\n",
              "      <th>11149</th>\n",
              "      <td>Positive</td>\n",
              "      <td>رواية الجاحد. بقلم: الحسن البخاري. التقييم : و...</td>\n",
              "    </tr>\n",
              "  </tbody>\n",
              "</table>\n",
              "</div>\n",
              "    <div class=\"colab-df-buttons\">\n",
              "\n",
              "  <div class=\"colab-df-container\">\n",
              "    <button class=\"colab-df-convert\" onclick=\"convertToInteractive('df-1bcc641a-8ab9-485a-b74a-39be1749f0eb')\"\n",
              "            title=\"Convert this dataframe to an interactive table.\"\n",
              "            style=\"display:none;\">\n",
              "\n",
              "  <svg xmlns=\"http://www.w3.org/2000/svg\" height=\"24px\" viewBox=\"0 -960 960 960\">\n",
              "    <path d=\"M120-120v-720h720v720H120Zm60-500h600v-160H180v160Zm220 220h160v-160H400v160Zm0 220h160v-160H400v160ZM180-400h160v-160H180v160Zm440 0h160v-160H620v160ZM180-180h160v-160H180v160Zm440 0h160v-160H620v160Z\"/>\n",
              "  </svg>\n",
              "    </button>\n",
              "\n",
              "  <style>\n",
              "    .colab-df-container {\n",
              "      display:flex;\n",
              "      gap: 12px;\n",
              "    }\n",
              "\n",
              "    .colab-df-convert {\n",
              "      background-color: #E8F0FE;\n",
              "      border: none;\n",
              "      border-radius: 50%;\n",
              "      cursor: pointer;\n",
              "      display: none;\n",
              "      fill: #1967D2;\n",
              "      height: 32px;\n",
              "      padding: 0 0 0 0;\n",
              "      width: 32px;\n",
              "    }\n",
              "\n",
              "    .colab-df-convert:hover {\n",
              "      background-color: #E2EBFA;\n",
              "      box-shadow: 0px 1px 2px rgba(60, 64, 67, 0.3), 0px 1px 3px 1px rgba(60, 64, 67, 0.15);\n",
              "      fill: #174EA6;\n",
              "    }\n",
              "\n",
              "    .colab-df-buttons div {\n",
              "      margin-bottom: 4px;\n",
              "    }\n",
              "\n",
              "    [theme=dark] .colab-df-convert {\n",
              "      background-color: #3B4455;\n",
              "      fill: #D2E3FC;\n",
              "    }\n",
              "\n",
              "    [theme=dark] .colab-df-convert:hover {\n",
              "      background-color: #434B5C;\n",
              "      box-shadow: 0px 1px 3px 1px rgba(0, 0, 0, 0.15);\n",
              "      filter: drop-shadow(0px 1px 2px rgba(0, 0, 0, 0.3));\n",
              "      fill: #FFFFFF;\n",
              "    }\n",
              "  </style>\n",
              "\n",
              "    <script>\n",
              "      const buttonEl =\n",
              "        document.querySelector('#df-1bcc641a-8ab9-485a-b74a-39be1749f0eb button.colab-df-convert');\n",
              "      buttonEl.style.display =\n",
              "        google.colab.kernel.accessAllowed ? 'block' : 'none';\n",
              "\n",
              "      async function convertToInteractive(key) {\n",
              "        const element = document.querySelector('#df-1bcc641a-8ab9-485a-b74a-39be1749f0eb');\n",
              "        const dataTable =\n",
              "          await google.colab.kernel.invokeFunction('convertToInteractive',\n",
              "                                                    [key], {});\n",
              "        if (!dataTable) return;\n",
              "\n",
              "        const docLinkHtml = 'Like what you see? Visit the ' +\n",
              "          '<a target=\"_blank\" href=https://colab.research.google.com/notebooks/data_table.ipynb>data table notebook</a>'\n",
              "          + ' to learn more about interactive tables.';\n",
              "        element.innerHTML = '';\n",
              "        dataTable['output_type'] = 'display_data';\n",
              "        await google.colab.output.renderOutput(dataTable, element);\n",
              "        const docLink = document.createElement('div');\n",
              "        docLink.innerHTML = docLinkHtml;\n",
              "        element.appendChild(docLink);\n",
              "      }\n",
              "    </script>\n",
              "  </div>\n",
              "\n",
              "\n",
              "<div id=\"df-8094af28-c338-4547-94ba-c773c1e04397\">\n",
              "  <button class=\"colab-df-quickchart\" onclick=\"quickchart('df-8094af28-c338-4547-94ba-c773c1e04397')\"\n",
              "            title=\"Suggest charts\"\n",
              "            style=\"display:none;\">\n",
              "\n",
              "<svg xmlns=\"http://www.w3.org/2000/svg\" height=\"24px\"viewBox=\"0 0 24 24\"\n",
              "     width=\"24px\">\n",
              "    <g>\n",
              "        <path d=\"M19 3H5c-1.1 0-2 .9-2 2v14c0 1.1.9 2 2 2h14c1.1 0 2-.9 2-2V5c0-1.1-.9-2-2-2zM9 17H7v-7h2v7zm4 0h-2V7h2v10zm4 0h-2v-4h2v4z\"/>\n",
              "    </g>\n",
              "</svg>\n",
              "  </button>\n",
              "\n",
              "<style>\n",
              "  .colab-df-quickchart {\n",
              "      --bg-color: #E8F0FE;\n",
              "      --fill-color: #1967D2;\n",
              "      --hover-bg-color: #E2EBFA;\n",
              "      --hover-fill-color: #174EA6;\n",
              "      --disabled-fill-color: #AAA;\n",
              "      --disabled-bg-color: #DDD;\n",
              "  }\n",
              "\n",
              "  [theme=dark] .colab-df-quickchart {\n",
              "      --bg-color: #3B4455;\n",
              "      --fill-color: #D2E3FC;\n",
              "      --hover-bg-color: #434B5C;\n",
              "      --hover-fill-color: #FFFFFF;\n",
              "      --disabled-bg-color: #3B4455;\n",
              "      --disabled-fill-color: #666;\n",
              "  }\n",
              "\n",
              "  .colab-df-quickchart {\n",
              "    background-color: var(--bg-color);\n",
              "    border: none;\n",
              "    border-radius: 50%;\n",
              "    cursor: pointer;\n",
              "    display: none;\n",
              "    fill: var(--fill-color);\n",
              "    height: 32px;\n",
              "    padding: 0;\n",
              "    width: 32px;\n",
              "  }\n",
              "\n",
              "  .colab-df-quickchart:hover {\n",
              "    background-color: var(--hover-bg-color);\n",
              "    box-shadow: 0 1px 2px rgba(60, 64, 67, 0.3), 0 1px 3px 1px rgba(60, 64, 67, 0.15);\n",
              "    fill: var(--button-hover-fill-color);\n",
              "  }\n",
              "\n",
              "  .colab-df-quickchart-complete:disabled,\n",
              "  .colab-df-quickchart-complete:disabled:hover {\n",
              "    background-color: var(--disabled-bg-color);\n",
              "    fill: var(--disabled-fill-color);\n",
              "    box-shadow: none;\n",
              "  }\n",
              "\n",
              "  .colab-df-spinner {\n",
              "    border: 2px solid var(--fill-color);\n",
              "    border-color: transparent;\n",
              "    border-bottom-color: var(--fill-color);\n",
              "    animation:\n",
              "      spin 1s steps(1) infinite;\n",
              "  }\n",
              "\n",
              "  @keyframes spin {\n",
              "    0% {\n",
              "      border-color: transparent;\n",
              "      border-bottom-color: var(--fill-color);\n",
              "      border-left-color: var(--fill-color);\n",
              "    }\n",
              "    20% {\n",
              "      border-color: transparent;\n",
              "      border-left-color: var(--fill-color);\n",
              "      border-top-color: var(--fill-color);\n",
              "    }\n",
              "    30% {\n",
              "      border-color: transparent;\n",
              "      border-left-color: var(--fill-color);\n",
              "      border-top-color: var(--fill-color);\n",
              "      border-right-color: var(--fill-color);\n",
              "    }\n",
              "    40% {\n",
              "      border-color: transparent;\n",
              "      border-right-color: var(--fill-color);\n",
              "      border-top-color: var(--fill-color);\n",
              "    }\n",
              "    60% {\n",
              "      border-color: transparent;\n",
              "      border-right-color: var(--fill-color);\n",
              "    }\n",
              "    80% {\n",
              "      border-color: transparent;\n",
              "      border-right-color: var(--fill-color);\n",
              "      border-bottom-color: var(--fill-color);\n",
              "    }\n",
              "    90% {\n",
              "      border-color: transparent;\n",
              "      border-bottom-color: var(--fill-color);\n",
              "    }\n",
              "  }\n",
              "</style>\n",
              "\n",
              "  <script>\n",
              "    async function quickchart(key) {\n",
              "      const quickchartButtonEl =\n",
              "        document.querySelector('#' + key + ' button');\n",
              "      quickchartButtonEl.disabled = true;  // To prevent multiple clicks.\n",
              "      quickchartButtonEl.classList.add('colab-df-spinner');\n",
              "      try {\n",
              "        const charts = await google.colab.kernel.invokeFunction(\n",
              "            'suggestCharts', [key], {});\n",
              "      } catch (error) {\n",
              "        console.error('Error during call to suggestCharts:', error);\n",
              "      }\n",
              "      quickchartButtonEl.classList.remove('colab-df-spinner');\n",
              "      quickchartButtonEl.classList.add('colab-df-quickchart-complete');\n",
              "    }\n",
              "    (() => {\n",
              "      let quickchartButtonEl =\n",
              "        document.querySelector('#df-8094af28-c338-4547-94ba-c773c1e04397 button');\n",
              "      quickchartButtonEl.style.display =\n",
              "        google.colab.kernel.accessAllowed ? 'block' : 'none';\n",
              "    })();\n",
              "  </script>\n",
              "</div>\n",
              "\n",
              "    </div>\n",
              "  </div>\n"
            ],
            "application/vnd.google.colaboratory.intrinsic+json": {
              "type": "dataframe",
              "summary": "{\n  \"name\": \"df\",\n  \"rows\": 10,\n  \"fields\": [\n    {\n      \"column\": \"label\",\n      \"properties\": {\n        \"dtype\": \"category\",\n        \"num_unique_values\": 3,\n        \"samples\": [\n          \"Mixed\",\n          \"Positive\",\n          \"Negative\"\n        ],\n        \"semantic_type\": \"\",\n        \"description\": \"\"\n      }\n    },\n    {\n      \"column\": \"text\",\n      \"properties\": {\n        \"dtype\": \"string\",\n        \"num_unique_values\": 10,\n        \"samples\": [\n          \"\\u0644\\u0644\\u0645\\u0631\\u0647 \\u0627\\u0644\\u062b\\u0627\\u0646\\u064a\\u0647 \\u0627\\u0633\\u062a\\u0627\\u062c\\u0631 \\u0647\\u0646\\u0627 . \\u0647\\u0630\\u0647 \\u0627\\u0644\\u0645\\u0631\\u0647 \\u0627\\u0644\\u062b\\u0627\\u0646\\u064a\\u0647 \\u0644\\u0627\\u0642\\u0627\\u0645\\u062a\\u0649 \\u0628\\u0627\\u0644\\u0641\\u0646\\u062f\\u0642 \\u062c\\u062f\\u0627 \\u0631\\u0627\\u0626\\u0639 \\u0648\\u0627\\u0644\\u062e\\u062f\\u0645\\u0627\\u062a \\u062d\\u0644\\u0648\\u0647 \\u0648\\u0627\\u0644\\u062a\\u0639\\u0627\\u0645\\u0644 \\u062c\\u0645\\u064a\\u064a\\u064a\\u064a\\u064a\\u064a\\u0644 \\u062c\\u062f\\u0627.\",\n          \"\\u0631\\u062d\\u0644\\u0647 \\u0627\\u0644\\u0649 \\u062f\\u0628\\u064a . \\u062e\\u062f\\u0645\\u0627\\u062a \\u0644\\u0627 \\u0628\\u0623\\u0633 \\u0628\\u0647\\u0627. \\u0627\\u0644\\u062d\\u0645\\u0627\\u0645\\u0627\\u062a \\u0645\\u0627 \\u062a\\u0648\\u0642\\u0639\\u062a\\u0647\\u0627 \\u0645\\u0627 \\u0646\\u0638\\u064a\\u0641\\u0647 \\u0623\\u0628\\u062f\\u0627 ...\\u0648\\u0639\\u0644\\u0649 \\u0643\\u0644 \\u0627\\u0644\\u0623\\u062d\\u0648\\u0627\\u0644 \\u0644\\u0627\\u0628\\u0623\\u0633 \\u0641\\u064a \\u0627\\u0644\\u0627\\u0642\\u0627\\u0645\\u0647 \\u0627\\u0644\\u0633\\u0639\\u0631 \\u0645\\u0639\\u0642\\u0648\\u0644\",\n          \"\\u0636\\u0639\\u064a\\u0641. \\u0627\\u0644\\u0627\\u062b\\u0627\\u062b \\u0645\\u062c\\u062f\\u062f \\u0641\\u0642\\u0637. \\u064a\\u0642\\u0648\\u0644\\u0648\\u0646 \\u0628\\u0623\\u0646 \\u0627\\u0644\\u0641\\u0646\\u062f\\u0642 \\u062c\\u062f\\u064a\\u062f \\u0648\\u0627\\u0644\\u062d\\u0642\\u064a\\u0642\\u0629 \\u0627\\u0646 \\u0627\\u0644\\u0641\\u0646\\u062f\\u0642 \\u0642\\u062f\\u064a\\u0645 \\u0648\\u0639\\u0645\\u0631\\u0647 \\u0633\\u0646\\u0648\\u0627\\u062a \\u0648\\u0645\\u062c\\u062f\\u062f \\u0641\\u0642\\u0637 \\u0648\\u0639\\u062f\\u0646\\u0627 \\u0645\\u0648\\u0638\\u0641\\u0648\\u0627 \\u0627\\u0644\\u0627\\u0633\\u062a\\u0642\\u0628\\u0627\\u0644 \\u0648\\u0647\\u0645 \\u0645\\u0648\\u0638\\u0641\\u064a\\u0646 \\u0639\\u0644\\u0649 \\u0645\\u062f\\u0649 \\u064a\\u0648\\u0645\\u064a\\u0646 \\u0628\\u062a\\u063a\\u064a\\u064a\\u0631 \\u0627\\u0644\\u063a\\u0631\\u0641 \\u0645\\u0631\\u0627\\u062a \\u0648\\u0644\\u0627 \\u064a\\u0641\\u0648\\u0646 \\u0628\\u0627\\u0644\\u062a\\u063a\\u064a\\u064a\\u0631 \\u0648\\u0644\\u0627 \\u062d\\u062a\\u0649 \\u0628\\u0627\\u0644\\u0627\\u062a\\u0635\\u0627\\u0644 \\u0627\\u0644\\u0628\\u0648\\u0641\\u064a\\u0647 \\u0644\\u0627 \\u064a\\u0631\\u0642\\u0649 \\u0644\\u0645\\u0633\\u062a\\u0648\\u0649 \\u0646\\u062c\\u0648\\u0645 \\u0641\\u0636\\u0644\\u0627 \\u0639\\u0646 \\u0646\\u062c\\u0648\\u0645 \\u062f\\u0648\\u0631\\u0627\\u062a \\u0627\\u0644\\u0645\\u064a\\u0627\\u0629 \\u0644\\u0627 \\u062a\\u0635\\u0631\\u0641 \\u0627\\u0644\\u0645\\u064a\\u0627\\u0647 \\u0641\\u064a \\u0627\\u0644\\u0645\\u063a\\u0627\\u0633\\u0644 \\u0627\\u0644\\u0628\\u0627\\u0646\\u064a\\u0648\\u0645 \\u0648\\u0633\\u064a\\u0641\\u0648\\u0646 \\u0627\\u0644\\u062d\\u0645\\u0627\\u0645 \\u0639\\u0637\\u0644\\u0627\\u0646 \\u0628\\u0639\\u064a\\u062f \\u0639\\u0646 \\u0627\\u0644\\u062d\\u0631\\u0645 \\u0644\\u0627 \\u064a\\u0646\\u0627\\u0633\\u0628 \\u0643\\u0628\\u0627\\u0631 \\u0627\\u0644\\u0633\\u0646 \\u0648\\u0630\\u0648\\u064a \\u0627\\u0644\\u0627\\u062d\\u062a\\u064a\\u0627\\u062c\\u0627\\u062a \\u0645\\u0648\\u0627\\u0642\\u0641 \\u0627\\u0644\\u0633\\u0628\\u0627\\u0631\\u062a \\u0627\\u0636\\u064a\\u0642 \\u0645\\u0648\\u0627\\u0642\\u0641 \\u0631\\u0623\\u064a\\u062a\\u0647\\u0627 \\u0641\\u064a \\u062d\\u064a\\u0627\\u062a\\u064a \\u0648\\u0644\\u0627 \\u062a\\u0646\\u0627\\u0633\\u0628 \\u0627\\u0644\\u0633\\u064a\\u0627\\u0631\\u0627\\u062a \\u0627\\u0644\\u0643\\u0628\\u064a\\u0631\\u0629 \\u0643\\u0627\\u0644\\u062c\\u064a\\u0628 \\u0648\\u0627\\u0644\\u062c\\u0645\\u0633 \\u0648\\u0646\\u062d\\u0648\\u0647\\u0645\\u0627 \\u0644\\u0627 \\u064a\\u0648\\u062c\\u062f \\u0641\\u064a \\u0627\\u0644\\u063a\\u0631\\u0641 \\u0648\\u0627\\u0644\\u0645\\u0645\\u0631\\u0627\\u062a \\u062e\\u062f\\u0645\\u0629 \\u0627\\u0644\\u0648\\u0627\\u064a \\u0641\\u0627\\u064a \\u0639\\u062f\\u0627 \\u0627\\u0644\\u0627\\u0633\\u062a\\u0642\\u0628\\u0627\\u0644 \\u062a\\u062c\\u0627\\u0648\\u0628 \\u0627\\u0644\\u0645\\u0648\\u0638\\u0641\\u064a\\u0646 \\u0648\\u0639\\u0645\\u0627\\u0644 \\u0627\\u0644\\u0635\\u064a\\u0627\\u0646\\u0629 \\u0628\\u0637\\u064a\\u0626 \\u062c\\u062f\\u0627 \\u0643\\u0645\\u0627\\u0644\\u064a\\u0627\\u062a \\u0648\\u0645\\u0633\\u0644\\u0632\\u0645\\u0627\\u062a \\u0627\\u0644\\u062d\\u0645\\u0627\\u0645 \\u0646\\u0627\\u0642\\u0635\\u0629 \\u0648\\u0627\\u0630\\u0627 \\u0637\\u0644\\u0628\\u0646\\u0627 \\u0648\\u0635\\u0644\\u062a \\u0646\\u0627\\u0642\\u0635\\u0629 \\u0627\\u063a\\u0631\\u0627\\u0636\\u064a \\u0627\\u0644\\u0634\\u062e\\u0635\\u064a\\u0629 \\u0627\\u0646\\u0627 \\u0645\\u0646 \\u062d\\u0645\\u0644\\u0647\\u0627 \\u0639\\u0644\\u0649 \\u0643\\u062a\\u0641\\u064a\\u0647 \\u0648\\u0627\\u0648\\u0635\\u0644\\u0647\\u0627 \\u0644\\u0644\\u063a\\u0631\\u0641\\u0629 \\u062f\\u0648\\u0646 \\u0645\\u0633\\u0627\\u0639\\u062f\\u062a\\u0647\\u0645 \\u0628\\u062e\\u0644\\u0627\\u0641 \\u0627\\u0644\\u062e\\u0631\\u0648\\u062c \\u0627\\u062e\\u064a\\u0631\\u0627 \\u0627\\u0644\\u0641\\u0646\\u062f\\u0642 \\u0644\\u0627 \\u064a\\u0633\\u062a\\u062d\\u0642 \\u0627\\u0644\\u062a\\u0635\\u0646\\u064a\\u0641 \\u0644 \\u0646\\u062c\\u0648\\u0645 \\u0628\\u0644 \\u0627\\u062f\\u0639\\u0648 \\u0644\\u0645\\u0631\\u0627\\u062c\\u0639\\u0629 \\u0630\\u0644\\u0643 \\u0648\\u0633\\u062a\\u0643\\u062a\\u0634\\u0641\\u0648\\u0646 \\u0628\\u0627\\u0646\\u0647 \\u0644\\u0627 \\u064a\\u0633\\u062a\\u062d\\u0642 \\u0646\\u062c\\u0648\\u0645 .\"\n        ],\n        \"semantic_type\": \"\",\n        \"description\": \"\"\n      }\n    }\n  ]\n}"
            }
          },
          "metadata": {},
          "execution_count": 21
        }
      ]
    },
    {
      "cell_type": "code",
      "source": [
        "df.info()"
      ],
      "metadata": {
        "colab": {
          "base_uri": "https://localhost:8080/"
        },
        "id": "SU1Hn7h-i_gA",
        "outputId": "f1d347a7-def1-417a-d8c6-235d3ee1c2c3"
      },
      "execution_count": 25,
      "outputs": [
        {
          "output_type": "stream",
          "name": "stdout",
          "text": [
            "<class 'pandas.core.frame.DataFrame'>\n",
            "RangeIndex: 99999 entries, 0 to 99998\n",
            "Data columns (total 2 columns):\n",
            " #   Column  Non-Null Count  Dtype \n",
            "---  ------  --------------  ----- \n",
            " 0   label   99999 non-null  object\n",
            " 1   text    99999 non-null  object\n",
            "dtypes: object(2)\n",
            "memory usage: 1.5+ MB\n"
          ]
        }
      ]
    },
    {
      "cell_type": "code",
      "source": [
        "#Distribution of Labels\n",
        "df.label.value_counts().plot(kind='bar', color='lightpink')\n",
        "plt.title('plot of label cloumn')\n",
        "plt.xlabel('label')\n",
        "plt.ylabel('frequency')\n",
        "plt.xticks(rotation=45)\n",
        "plt.show()"
      ],
      "metadata": {
        "colab": {
          "base_uri": "https://localhost:8080/",
          "height": 512
        },
        "id": "WfX5M056h7tO",
        "outputId": "8324ffd7-8c13-408a-dc1c-7ba8d0632618"
      },
      "execution_count": 24,
      "outputs": [
        {
          "output_type": "display_data",
          "data": {
            "text/plain": [
              "<Figure size 640x480 with 1 Axes>"
            ],
            "image/png": "[encoded data removed]"
          },
          "metadata": {}
        }
      ]
    },
    {
      "cell_type": "code",
      "source": [
        "#combin the text into string\n",
        "all_text = ' '.join(df['text'])\n",
        "\n",
        "#This line uses a regular expression to find all words in the combined text string. The result is a list of all words found in the text.\n",
        "words = re.findall(r'\\b\\w+\\b', all_text.lower())\n",
        "\n",
        "\"\"\"The Counter object counts the frequency of each word in the list words.\n",
        "This produces a dictionary-like object where keys are words and values are their counts.\"\"\"\n",
        "word_counts = Counter(words)\n",
        "\n",
        "print(word_counts.most_common(10))"
      ],
      "metadata": {
        "colab": {
          "base_uri": "https://localhost:8080/"
        },
        "id": "vkPMcNAejG3X",
        "outputId": "e0eae49a-1171-4cb9-b2b5-e8be7dc3cb2d"
      },
      "execution_count": 29,
      "outputs": [
        {
          "output_type": "stream",
          "name": "stdout",
          "text": [
            "[('من', 125958), ('في', 117252), ('و', 95975), ('على', 47492), ('لا', 47076), ('أن', 37438), ('ما', 36049), ('عن', 35969), ('جدا', 34057), ('لم', 28563)]\n"
          ]
        }
      ]
    },
    {
      "cell_type": "markdown",
      "source": [
        "# Data Cleaning and Preprocessing"
      ],
      "metadata": {
        "id": "X_oEu0TkSMEB"
      }
    },
    {
      "cell_type": "markdown",
      "source": [
        "In this section, we will focus on cleaning and filtering the dataset, preparing it for the text classification task. We will implement the following steps:\n",
        "\n",
        "1. **Remove missing values**:\n",
        "   First, we eliminate any rows with missing values to ensure the dataset is complete and consistent.\n",
        "\n",
        "2. **Filter by text length**:\n",
        "   To maintain a uniform dataset, we will filter the text samples by a specified word count range. This ensures that the texts are neither too short to lack context nor too long to introduce unnecessary complexity.\n",
        "\n",
        "3. **Exclude 'Mixed' labels**:\n",
        "   If the dataset contains any 'Mixed' labels, indicating ambiguous or unclear classification, we will remove these entries for better model accuracy.\n",
        "\n",
        "4. **Arabic stopwords loading**:\n",
        "   We load a list of Arabic stopwords to filter out commonly used but contextually insignificant words. This is an important step for improving the performance of the model, as stopwords do not contribute valuable information.\n",
        "\n",
        "5. **Text cleaning**:\n",
        "   We apply a series of text cleaning steps to standardize and simplify the text data. This involves:\n",
        "   \n",
        "   - **Removing links (URLs)**: Any URLs present in the text are removed as they are not meaningful for classification purposes.\n",
        "   - **Removing special characters and punctuation**: This step removes any non-alphabetical characters, ensuring the text only contains meaningful words.\n",
        "   - **Removing Arabic diacritics (Tashkeel) and elongated letters (Tatweel)**: Diacritical marks and elongated letters are stripped out to standardize the text.\n",
        "   - **Removing Arabic stopwords**: Words that are part of the stopwords list are removed, as they do not add value to the classification task.\n",
        "   - **Stemming**: Each word is reduced to its root form using an Arabic stemmer (ISRIStemmer) to simplify the vocabulary.\n",
        "   - **Normalizing Hamza**: Any variation of the Hamza character is normalized for consistency.\n",
        "\n",
        "6. **Final cleanup**:\n",
        "   Apply the cleanup function to the feature column.\n",
        "\n",
        "By following these steps, the text will be cleaned, filtered, and ready for tokenization!"
      ],
      "metadata": {
        "id": "wSAFiozlRQHt"
      }
    },
    {
      "cell_type": "code",
      "source": [
        "#Filter by text length and Exclude 'Mixed' labels.\n",
        "max_length = 250\n",
        "min_length = 20\n",
        "\n",
        "# I need to remove mixed reviews and set the longest text to 250 characters and the shortest to 20\n",
        "df = df[df['label'] != 'Mixed']\n",
        "df = df[df['text'].str.split().str.len().between(min_length, max_length)]"
      ],
      "metadata": {
        "id": "mHEObOY_fHhq"
      },
      "execution_count": 30,
      "outputs": []
    },
    {
      "cell_type": "code",
      "source": [
        "# Load the Arabic stopwords\n",
        "arabic_stopwords = set(stopwords.words('arabic'))\n",
        "# Load Arabic stemmer, return the word to their root form.\n",
        "st = ISRIStemmer()"
      ],
      "metadata": {
        "id": "ExRKw8MhvOn7"
      },
      "execution_count": 32,
      "outputs": []
    },
    {
      "cell_type": "code",
      "source": [
        "# Define the function to clean the text\n",
        "def clean_text(text):\n",
        "    # Step 1: Remove links (URLs)\n",
        "    # This regex pattern matches URLs and removes them from the text\n",
        "    # re.sub:Syntax re.sub(pattern, replacement, string, flags=0), flag is Optional argument\n",
        "    cleaned_text = re.sub(r'http\\S+|www\\S+|https\\S+', '', text)\n",
        "\n",
        "    # Step 2: Remove special characters and punctuations(',' , '?' , '!' , '/' , '-')\n",
        "    # This removes any character that is not a word or whitespace\n",
        "    cleaned_text = re.sub(r'[^\\w\\s]', '', cleaned_text)\n",
        "\n",
        "     # Step 3:#remove emojis\n",
        "    cleaned_text =  emoji.replace_emoji(cleaned_text, replace='')\n",
        "\n",
        "\n",
        "    # Step 4: Remove Arabic diacritics (Tashkeel), and Tatweel\n",
        "    # Tashkeel includes diacritical marks in Arabic (vowel sounds)\n",
        "    cleaned_text = araby.strip_tashkeel(cleaned_text)  # Removes Tashkeel\n",
        "    cleaned_text = araby.strip_tatweel(cleaned_text)   # Removes elongated letters\n",
        "    cleaned_text = araby.strip_lastharaka(cleaned_text)  # Removes last haraka\n",
        "\n",
        "    # Step 5: Tokenize the text (split the sentence into words)\n",
        "    words = cleaned_text.split()\n",
        "\n",
        "    # Step 6: Remove Arabic stopwords\n",
        "    # This filters out any word that is part of the Arabic stopwords list\n",
        "    filtered_words = [word for word in words if word not in arabic_stopwords]\n",
        "\n",
        "    # Step 7: Apply stemming to the text\n",
        "    stemmed_words = []\n",
        "    for word in words:\n",
        "      stemmed_words.append(st.stem(word))\n",
        "\n",
        "    # Step 8: Join the filtered words back into a cleaned sentence\n",
        "    stemmed_words = ' '.join(filtered_words)\n",
        "\n",
        "    # Step 9: Normalize Hamza in the cleaned text\n",
        "    cleaned_text = araby.normalize_hamza(stemmed_words)\n",
        "\n",
        "    return cleaned_text"
      ],
      "metadata": {
        "id": "b0uJNTpDxxaR"
      },
      "execution_count": 33,
      "outputs": []
    },
    {
      "cell_type": "code",
      "source": [
        "# Apply the clean_text function to the second row in the dataframe's 'text' column\n",
        "cleaned_text = clean_text(df['text'][1])"
      ],
      "metadata": {
        "id": "el-vvicS1n-g"
      },
      "execution_count": 34,
      "outputs": []
    },
    {
      "cell_type": "code",
      "source": [
        "# Print the original and cleaned text for comparison\n",
        "print(f'Before: {df[\"text\"][1]}')\n",
        "print(f'After: {cleaned_text}')"
      ],
      "metadata": {
        "colab": {
          "base_uri": "https://localhost:8080/"
        },
        "id": "UD3c6GON1kPH",
        "outputId": "e30b4f3f-8af5-4a8c-9a05-3faf780caae9"
      },
      "execution_count": 35,
      "outputs": [
        {
          "output_type": "stream",
          "name": "stdout",
          "text": [
            "Before: أحد أسباب نجاح الإمارات أن كل شخص في هذه الدولة يعشق ترابها. نحن نحب الإمارات. ومضات من فكر. نصائح لدولة تطمح بالصفوف الأولى و قائد لا يقبل إلا براحة شعبه وتوفر كل سب العيش الكريم. حكم و مواقف ونصائح لكل فرد فينا ليس بمجرد كتاب سياسي كما كنت اعتقد. يستحق القراءة مرات كثيرة\n",
            "After: ءسباب نجاح الءمارات شخص الدولة يعشق ترابها نحب الءمارات ومضات فكر نصاءح لدولة تطمح بالصفوف الءولى قاءد يقبل براحة شعبه وتوفر سب العيش الكريم حكم مواقف ونصاءح لكل فرد فينا بمجرد كتاب سياسي كنت اعتقد يستحق القراءة مرات كثيرة\n"
          ]
        }
      ]
    },
    {
      "cell_type": "code",
      "source": [
        "df['clean_text'] = df['text'].apply(clean_text)"
      ],
      "metadata": {
        "id": "k9awOiGy2ATO"
      },
      "execution_count": 36,
      "outputs": []
    },
    {
      "cell_type": "code",
      "source": [
        "df.head()"
      ],
      "metadata": {
        "colab": {
          "base_uri": "https://localhost:8080/",
          "height": 206
        },
        "id": "YMe9sFny2Dg0",
        "outputId": "edcf1803-f62d-43ff-b2b7-85684e960105"
      },
      "execution_count": 37,
      "outputs": [
        {
          "output_type": "execute_result",
          "data": {
            "text/plain": [
              "      label                                               text  \\\n",
              "1  Positive  أحد أسباب نجاح الإمارات أن كل شخص في هذه الدول...   \n",
              "2  Positive  هادفة .. وقوية. تنقلك من صخب شوارع القاهرة الى...   \n",
              "3  Positive  خلصنا .. مبدئيا اللي مستني ابهار زي الفيل الاز...   \n",
              "7  Positive  الكتاب هو السيرة الذاتية للحداثة في المملكة بل...   \n",
              "9  Positive  بشكل عام جيده .. . التجاوب جيد جدا من قبل موظف...   \n",
              "\n",
              "                                          clean_text  \n",
              "1  ءسباب نجاح الءمارات شخص الدولة يعشق ترابها نحب...  \n",
              "2  هادفة وقوية تنقلك صخب شوارع القاهرة الى هدوء ج...  \n",
              "3  خلصنا مبدءيا اللي مستني ابهار زي الفيل الازرق ...  \n",
              "7  الكتاب السيرة الذاتية للحداثة المملكة بلسان ءب...  \n",
              "9  بشكل عام جيده التجاوب جيد جدا موظفي الاستقبال ...  "
            ],
            "text/html": [
              "\n",
              "  <div id=\"df-a69bbd4f-1c13-4cb7-88ac-1319be4537c5\" class=\"colab-df-container\">\n",
              "    <div>\n",
              "<style scoped>\n",
              "    .dataframe tbody tr th:only-of-type {\n",
              "        vertical-align: middle;\n",
              "    }\n",
              "\n",
              "    .dataframe tbody tr th {\n",
              "        vertical-align: top;\n",
              "    }\n",
              "\n",
              "    .dataframe thead th {\n",
              "        text-align: right;\n",
              "    }\n",
              "</style>\n",
              "<table border=\"1\" class=\"dataframe\">\n",
              "  <thead>\n",
              "    <tr style=\"text-align: right;\">\n",
              "      <th></th>\n",
              "      <th>label</th>\n",
              "      <th>text</th>\n",
              "      <th>clean_text</th>\n",
              "    </tr>\n",
              "  </thead>\n",
              "  <tbody>\n",
              "    <tr>\n",
              "      <th>1</th>\n",
              "      <td>Positive</td>\n",
              "      <td>أحد أسباب نجاح الإمارات أن كل شخص في هذه الدول...</td>\n",
              "      <td>ءسباب نجاح الءمارات شخص الدولة يعشق ترابها نحب...</td>\n",
              "    </tr>\n",
              "    <tr>\n",
              "      <th>2</th>\n",
              "      <td>Positive</td>\n",
              "      <td>هادفة .. وقوية. تنقلك من صخب شوارع القاهرة الى...</td>\n",
              "      <td>هادفة وقوية تنقلك صخب شوارع القاهرة الى هدوء ج...</td>\n",
              "    </tr>\n",
              "    <tr>\n",
              "      <th>3</th>\n",
              "      <td>Positive</td>\n",
              "      <td>خلصنا .. مبدئيا اللي مستني ابهار زي الفيل الاز...</td>\n",
              "      <td>خلصنا مبدءيا اللي مستني ابهار زي الفيل الازرق ...</td>\n",
              "    </tr>\n",
              "    <tr>\n",
              "      <th>7</th>\n",
              "      <td>Positive</td>\n",
              "      <td>الكتاب هو السيرة الذاتية للحداثة في المملكة بل...</td>\n",
              "      <td>الكتاب السيرة الذاتية للحداثة المملكة بلسان ءب...</td>\n",
              "    </tr>\n",
              "    <tr>\n",
              "      <th>9</th>\n",
              "      <td>Positive</td>\n",
              "      <td>بشكل عام جيده .. . التجاوب جيد جدا من قبل موظف...</td>\n",
              "      <td>بشكل عام جيده التجاوب جيد جدا موظفي الاستقبال ...</td>\n",
              "    </tr>\n",
              "  </tbody>\n",
              "</table>\n",
              "</div>\n",
              "    <div class=\"colab-df-buttons\">\n",
              "\n",
              "  <div class=\"colab-df-container\">\n",
              "    <button class=\"colab-df-convert\" onclick=\"convertToInteractive('df-a69bbd4f-1c13-4cb7-88ac-1319be4537c5')\"\n",
              "            title=\"Convert this dataframe to an interactive table.\"\n",
              "            style=\"display:none;\">\n",
              "\n",
              "  <svg xmlns=\"http://www.w3.org/2000/svg\" height=\"24px\" viewBox=\"0 -960 960 960\">\n",
              "    <path d=\"M120-120v-720h720v720H120Zm60-500h600v-160H180v160Zm220 220h160v-160H400v160Zm0 220h160v-160H400v160ZM180-400h160v-160H180v160Zm440 0h160v-160H620v160ZM180-180h160v-160H180v160Zm440 0h160v-160H620v160Z\"/>\n",
              "  </svg>\n",
              "    </button>\n",
              "\n",
              "  <style>\n",
              "    .colab-df-container {\n",
              "      display:flex;\n",
              "      gap: 12px;\n",
              "    }\n",
              "\n",
              "    .colab-df-convert {\n",
              "      background-color: #E8F0FE;\n",
              "      border: none;\n",
              "      border-radius: 50%;\n",
              "      cursor: pointer;\n",
              "      display: none;\n",
              "      fill: #1967D2;\n",
              "      height: 32px;\n",
              "      padding: 0 0 0 0;\n",
              "      width: 32px;\n",
              "    }\n",
              "\n",
              "    .colab-df-convert:hover {\n",
              "      background-color: #E2EBFA;\n",
              "      box-shadow: 0px 1px 2px rgba(60, 64, 67, 0.3), 0px 1px 3px 1px rgba(60, 64, 67, 0.15);\n",
              "      fill: #174EA6;\n",
              "    }\n",
              "\n",
              "    .colab-df-buttons div {\n",
              "      margin-bottom: 4px;\n",
              "    }\n",
              "\n",
              "    [theme=dark] .colab-df-convert {\n",
              "      background-color: #3B4455;\n",
              "      fill: #D2E3FC;\n",
              "    }\n",
              "\n",
              "    [theme=dark] .colab-df-convert:hover {\n",
              "      background-color: #434B5C;\n",
              "      box-shadow: 0px 1px 3px 1px rgba(0, 0, 0, 0.15);\n",
              "      filter: drop-shadow(0px 1px 2px rgba(0, 0, 0, 0.3));\n",
              "      fill: #FFFFFF;\n",
              "    }\n",
              "  </style>\n",
              "\n",
              "    <script>\n",
              "      const buttonEl =\n",
              "        document.querySelector('#df-a69bbd4f-1c13-4cb7-88ac-1319be4537c5 button.colab-df-convert');\n",
              "      buttonEl.style.display =\n",
              "        google.colab.kernel.accessAllowed ? 'block' : 'none';\n",
              "\n",
              "      async function convertToInteractive(key) {\n",
              "        const element = document.querySelector('#df-a69bbd4f-1c13-4cb7-88ac-1319be4537c5');\n",
              "        const dataTable =\n",
              "          await google.colab.kernel.invokeFunction('convertToInteractive',\n",
              "                                                    [key], {});\n",
              "        if (!dataTable) return;\n",
              "\n",
              "        const docLinkHtml = 'Like what you see? Visit the ' +\n",
              "          '<a target=\"_blank\" href=https://colab.research.google.com/notebooks/data_table.ipynb>data table notebook</a>'\n",
              "          + ' to learn more about interactive tables.';\n",
              "        element.innerHTML = '';\n",
              "        dataTable['output_type'] = 'display_data';\n",
              "        await google.colab.output.renderOutput(dataTable, element);\n",
              "        const docLink = document.createElement('div');\n",
              "        docLink.innerHTML = docLinkHtml;\n",
              "        element.appendChild(docLink);\n",
              "      }\n",
              "    </script>\n",
              "  </div>\n",
              "\n",
              "\n",
              "<div id=\"df-e10165d8-f598-4bb8-8a8d-244d25910577\">\n",
              "  <button class=\"colab-df-quickchart\" onclick=\"quickchart('df-e10165d8-f598-4bb8-8a8d-244d25910577')\"\n",
              "            title=\"Suggest charts\"\n",
              "            style=\"display:none;\">\n",
              "\n",
              "<svg xmlns=\"http://www.w3.org/2000/svg\" height=\"24px\"viewBox=\"0 0 24 24\"\n",
              "     width=\"24px\">\n",
              "    <g>\n",
              "        <path d=\"M19 3H5c-1.1 0-2 .9-2 2v14c0 1.1.9 2 2 2h14c1.1 0 2-.9 2-2V5c0-1.1-.9-2-2-2zM9 17H7v-7h2v7zm4 0h-2V7h2v10zm4 0h-2v-4h2v4z\"/>\n",
              "    </g>\n",
              "</svg>\n",
              "  </button>\n",
              "\n",
              "<style>\n",
              "  .colab-df-quickchart {\n",
              "      --bg-color: #E8F0FE;\n",
              "      --fill-color: #1967D2;\n",
              "      --hover-bg-color: #E2EBFA;\n",
              "      --hover-fill-color: #174EA6;\n",
              "      --disabled-fill-color: #AAA;\n",
              "      --disabled-bg-color: #DDD;\n",
              "  }\n",
              "\n",
              "  [theme=dark] .colab-df-quickchart {\n",
              "      --bg-color: #3B4455;\n",
              "      --fill-color: #D2E3FC;\n",
              "      --hover-bg-color: #434B5C;\n",
              "      --hover-fill-color: #FFFFFF;\n",
              "      --disabled-bg-color: #3B4455;\n",
              "      --disabled-fill-color: #666;\n",
              "  }\n",
              "\n",
              "  .colab-df-quickchart {\n",
              "    background-color: var(--bg-color);\n",
              "    border: none;\n",
              "    border-radius: 50%;\n",
              "    cursor: pointer;\n",
              "    display: none;\n",
              "    fill: var(--fill-color);\n",
              "    height: 32px;\n",
              "    padding: 0;\n",
              "    width: 32px;\n",
              "  }\n",
              "\n",
              "  .colab-df-quickchart:hover {\n",
              "    background-color: var(--hover-bg-color);\n",
              "    box-shadow: 0 1px 2px rgba(60, 64, 67, 0.3), 0 1px 3px 1px rgba(60, 64, 67, 0.15);\n",
              "    fill: var(--button-hover-fill-color);\n",
              "  }\n",
              "\n",
              "  .colab-df-quickchart-complete:disabled,\n",
              "  .colab-df-quickchart-complete:disabled:hover {\n",
              "    background-color: var(--disabled-bg-color);\n",
              "    fill: var(--disabled-fill-color);\n",
              "    box-shadow: none;\n",
              "  }\n",
              "\n",
              "  .colab-df-spinner {\n",
              "    border: 2px solid var(--fill-color);\n",
              "    border-color: transparent;\n",
              "    border-bottom-color: var(--fill-color);\n",
              "    animation:\n",
              "      spin 1s steps(1) infinite;\n",
              "  }\n",
              "\n",
              "  @keyframes spin {\n",
              "    0% {\n",
              "      border-color: transparent;\n",
              "      border-bottom-color: var(--fill-color);\n",
              "      border-left-color: var(--fill-color);\n",
              "    }\n",
              "    20% {\n",
              "      border-color: transparent;\n",
              "      border-left-color: var(--fill-color);\n",
              "      border-top-color: var(--fill-color);\n",
              "    }\n",
              "    30% {\n",
              "      border-color: transparent;\n",
              "      border-left-color: var(--fill-color);\n",
              "      border-top-color: var(--fill-color);\n",
              "      border-right-color: var(--fill-color);\n",
              "    }\n",
              "    40% {\n",
              "      border-color: transparent;\n",
              "      border-right-color: var(--fill-color);\n",
              "      border-top-color: var(--fill-color);\n",
              "    }\n",
              "    60% {\n",
              "      border-color: transparent;\n",
              "      border-right-color: var(--fill-color);\n",
              "    }\n",
              "    80% {\n",
              "      border-color: transparent;\n",
              "      border-right-color: var(--fill-color);\n",
              "      border-bottom-color: var(--fill-color);\n",
              "    }\n",
              "    90% {\n",
              "      border-color: transparent;\n",
              "      border-bottom-color: var(--fill-color);\n",
              "    }\n",
              "  }\n",
              "</style>\n",
              "\n",
              "  <script>\n",
              "    async function quickchart(key) {\n",
              "      const quickchartButtonEl =\n",
              "        document.querySelector('#' + key + ' button');\n",
              "      quickchartButtonEl.disabled = true;  // To prevent multiple clicks.\n",
              "      quickchartButtonEl.classList.add('colab-df-spinner');\n",
              "      try {\n",
              "        const charts = await google.colab.kernel.invokeFunction(\n",
              "            'suggestCharts', [key], {});\n",
              "      } catch (error) {\n",
              "        console.error('Error during call to suggestCharts:', error);\n",
              "      }\n",
              "      quickchartButtonEl.classList.remove('colab-df-spinner');\n",
              "      quickchartButtonEl.classList.add('colab-df-quickchart-complete');\n",
              "    }\n",
              "    (() => {\n",
              "      let quickchartButtonEl =\n",
              "        document.querySelector('#df-e10165d8-f598-4bb8-8a8d-244d25910577 button');\n",
              "      quickchartButtonEl.style.display =\n",
              "        google.colab.kernel.accessAllowed ? 'block' : 'none';\n",
              "    })();\n",
              "  </script>\n",
              "</div>\n",
              "\n",
              "    </div>\n",
              "  </div>\n"
            ],
            "application/vnd.google.colaboratory.intrinsic+json": {
              "type": "dataframe",
              "variable_name": "df",
              "summary": "{\n  \"name\": \"df\",\n  \"rows\": 37709,\n  \"fields\": [\n    {\n      \"column\": \"label\",\n      \"properties\": {\n        \"dtype\": \"category\",\n        \"num_unique_values\": 2,\n        \"samples\": [\n          \"Negative\",\n          \"Positive\"\n        ],\n        \"semantic_type\": \"\",\n        \"description\": \"\"\n      }\n    },\n    {\n      \"column\": \"text\",\n      \"properties\": {\n        \"dtype\": \"string\",\n        \"num_unique_values\": 37709,\n        \"samples\": [\n          \"\\u0644\\u0627 \\u0627\\u0639\\u0631\\u0641 \\u0644\\u0645\\u0627\\u0630\\u0627 \\u0627\\u0631\\u062f\\u062a \\u0642\\u0631\\u0627\\u0621\\u0629 \\u0647\\u0630\\u0647 \\u0627\\u0644\\u0631\\u0648\\u0627\\u064a\\u0629 \\u0631\\u0628\\u0645\\u0627 \\u0645\\u0646 \\u0639\\u0646\\u0648\\u0627\\u0646\\u0647\\u0627. \\u0648\\u0627\\u064a\\u0636\\u0627 \\u0644\\u0627 \\u0627\\u0639\\u0644\\u0645 \\u0644\\u0645\\u0627\\u0630\\u0627 \\u0627\\u0643\\u0645\\u0644\\u062a\\u0647\\u0627 \\u0628\\u0627\\u0644\\u0631\\u063a\\u0645 \\u0645\\u0646 \\u0627\\u0646\\u0646\\u064a \\u0644\\u0645 \\u0627\\u062d\\u0628 \\u0634\\u062e\\u0635\\u064a\\u0627\\u062a\\u0647\\u0627. \\u0627\\u0643\\u062b\\u0631 \\u0634\\u062e\\u0635\\u064a\\u062a\\u064a\\u0646 \\u0627\\u0639\\u062c\\u0628\\u0648\\u0646\\u064a \\u0648 \\u0644\\u0645 \\u064a\\u0643\\u0648\\u0646\\u0648 \\u0645\\u062b\\u0644 \\u0628\\u0627\\u0642\\u064a \\u0627\\u0644\\u0634\\u062e\\u0635\\u064a\\u0627\\u062a. \\u062c\\u0631\\u0647\\u0627\\u0645 \\u0648\\u0643\\u0631\\u0645 \\u062f\\u0648\\u0633 . \\u0648\\u0643\\u0644 \\u0634\\u062e\\u0635\\u064a\\u0629 \\u0646\\u0627\\u0644\\u062a \\u0645\\u0627\\u062a\\u0633\\u062a\\u062d\\u0642\\u0647 \\u0641\\u064a \\u0627\\u0644\\u0646\\u0647\\u0627\\u064a\\u0629. \\u0627\\u0644\\u0646\\u0647\\u0627\\u064a\\u0629 \\u0627\\u0644\\u0645\\u0623\\u0633\\u0627\\u0648\\u064a\\u0629 \\u0627\\u0644\\u062a\\u064a \\u0642\\u0644\\u062a \\u0639\\u0646\\u062f\\u0647\\u0627. \\u0627\\u062d\\u0633\\u0646 \\u0647\\u0630\\u0627 \\u0645\\u0627\\u062a\\u0633\\u062a\\u062d\\u0642\\u0648\\u0646\\u0647 . \\u0644\\u0645 \\u064a\\u0639\\u062c\\u0628\\u0646\\u064a \\u0641 \\u0627\\u0644\\u0631\\u0648\\u0627\\u064a\\u0629 \\u0648\\u062c\\u0648\\u062f \\u0627\\u0644\\u0643\\u062b\\u064a\\u0631 \\u0627\\u0644\\u0643\\u062b\\u064a\\u0631 \\u0645\\u0646 \\u0627\\u0644\\u0643\\u0644\\u0627\\u0645. \\u0627\\u0644\\u0630\\u064a \\u0644\\u0627 \\u0641\\u0627\\u0626\\u062f\\u0647 \\u0645\\u0646\\u0647 \\u0631\\u0628\\u0645\\u0627 \\u0627\\u0630\\u0627 \\u0644\\u062e\\u0635 \\u0644\\u062d\\u0630\\u0641 \\u0646\\u0635\\u0641 \\u0627\\u0644\\u0643\\u062a\\u0627\\u0628\",\n          \"\\u0628\\u064a\\u0646 \\u0627\\u0644\\u062c\\u0646\\u0629 \\u0648\\u0627\\u0644\\u0646\\u0627\\u0631 \\u062e\\u0637 \\u0631\\u0641\\u064a\\u0639. \\u064a\\u062e\\u062a\\u0644\\u0641 \\u0633\\u0627\\u0643\\u0646\\u0648 \\u0627\\u0644\\u062c\\u0646\\u0629 \\u0628\\u0645\\u0627\\u064a\\u0642\\u062a\\u0636\\u064a\\u0647 \\u0627\\u0644\\u0639\\u0642\\u0644 \\u0639\\u0646 \\u0633\\u0627\\u0643\\u0646\\u064a \\u0627\\u0644\\u0646\\u0627\\u0631. \\u0641\\u064a \\u0643\\u0644 \\u0634\\u064a\\u0621. \\u0644\\u0643\\u0646\\u060c \\u0647\\u0644 \\u0633\\u0627\\u0643\\u0646\\u064a \\u0627\\u0644\\u0642\\u0635\\u0648\\u0631 \\u0647\\u0645 \\u062f\\u0627\\u0626\\u0645\\u0627 \\u0633\\u0627\\u0643\\u0646\\u064a \\u0627\\u0644\\u062c\\u0646\\u0627\\u0646\\u061f\\u061f. \\u0642\\u0627\\u0644 \\u062a\\u0639\\u0627\\u0644\\u0649 \\u0641\\u064a \\u0645\\u062d\\u0643\\u0645 \\u062a\\u0646\\u0632\\u064a\\u0644\\u0647 \\u0648\\u0627\\u0635\\u0641\\u0627 \\u0627\\u0644\\u0646\\u0627\\u0631. \\u0625\\u0646\\u0647\\u0627 \\u062a\\u0631\\u0645\\u064a \\u0628\\u0634\\u0631\\u0631 \\u0643\\u0627\\u0644\\u0642\\u0635\\u0631 \\u0643\\u0623\\u0646\\u0647 \\u062c\\u0645\\u0627\\u0644\\u0629 \\u0635\\u0641\\u0631 . \\u0648\\u0643\\u0627\\u0646 \\u0647\\u0630\\u0627 \\u062d\\u0627\\u0644 \\u0642\\u0635\\u0631 \\u0639\\u0628\\u062f\\u0647 \\u062e\\u0627\\u0644. \\u0642\\u0635\\u0631 \\u0634\\u064a\\u062f \\u0641\\u064a \\u0627\\u0644\\u0644\\u0627\\u0648\\u0642\\u062a\\u060c \\u0644\\u064a\\u0628\\u0647\\u0631 \\u0633\\u0627\\u0643\\u0646\\u064a \\u0645\\u062f\\u064a\\u0646\\u0629 \\u062c\\u062f\\u0629 \\u0628\\u0631\\u0648\\u0639\\u0629 \\u062a\\u0635\\u0645\\u064a\\u0645\\u0647. \\u064a\\u0639\\u0644\\u0642 \\u0627\\u0644\\u0634\\u0628\\u0627\\u0646 \\u0623\\u062d\\u0644\\u0627\\u0645\\u0647\\u0645 \\u0628\\u0647\\u060c \\u0648\\u0643\\u0623\\u0646\\u0647\\u0645 \\u0628\\u062f\\u062e\\u0648\\u0644\\u0647\\u0645 \\u0625\\u0644\\u064a\\u0647 \\u0642\\u062f \\u0645\\u0644\\u0643\\u0648\\u0627 \\u0627\\u0644\\u062f\\u0646\\u064a\\u0627 \\u0648\\u0645\\u0627\\u0641\\u064a\\u0647\\u0627. \\u0646\\u062c\\u0645\\u0629 \\u0648\\u0646\\u0635\\u0641 . \\u0623\\u0648\\u062c\\u0647 \\u0647\\u0646\\u0627 \\u0627\\u0644\\u0646\\u062f\\u0627\\u0621 \\u0644\\u0623\\u064a \\u0630\\u0627\\u0626\\u0642 \\u0623\\u062f\\u0628\\u064a \\u0644\\u064a\\u0639\\u0630\\u0631 \\u0642\\u0644\\u0629 \\u062d\\u064a\\u0644\\u062a\\u064a \\u0648\\u062e\\u0628\\u0631\\u062a\\u064a \\u060c \\u0648\\u064a\\u0634\\u0631\\u062d \\u0644\\u064a \\u0642\\u0644\\u064a\\u0644\\u0627 \\u0633\\u0628\\u0628 \\u0641\\u0648\\u0632 \\u0647\\u0630\\u0647 \\u0627\\u0644\\u0631\\u0648\\u0627\\u064a\\u0629 \\u0628\\u0627\\u0644\\u062c\\u0627\\u0626\\u0632\\u0629. \\u0643\\u0627\\u0646\\u062a \\u0627\\u0644\\u0646\\u062c\\u0645\\u0629 \\u0648\\u0627\\u0644\\u0646\\u0635\\u0641 \\u0644\\u0645\\u0627 \\u0623\\u062d\\u0628\\u0628\\u062a\\u0647 \\u0645\\u0646 \\u0627\\u0644\\u0627\\u0633\\u062a\\u0637\\u0631\\u0627\\u062f \\u0627\\u0644\\u0630\\u064a\\u0630 \\u062d\\u0642\\u0627. : \\u0627\\u0644\\u0630\\u064a \\u064a\\u0645\\u062a\\u062d\\u0646 \\u0645\\u062f\\u0649 \\u062a\\u0631\\u0643\\u064a\\u0632\\u064a. \\u0623\\u0645\\u0627 \\u0627\\u0644\\u0642\\u0635\\u0629 \\u0648\\u062a\\u0641\\u0627\\u0635\\u064a\\u0644 \\u0623\\u062d\\u062f\\u0627\\u062b\\u0647\\u0627 \\u0648\\u0627\\u0644\\u0645\\u0641\\u0631\\u062f\\u0627\\u062a \\u0627\\u0644\\u0645\\u062e\\u062a\\u0627\\u0631\\u0629 \\u0644\\u0644\\u062a\\u0639\\u0628\\u064a\\u0631 \\u0639\\u0646\\u0647\\u0627. \\u0641\\u0647\\u064a \\u0644\\u0644\\u0623\\u0633\\u0641 \\u0642\\u0645\\u0629 \\u0641\\u064a \\u0627\\u0644\\u0625\\u0632\\u0639\\u0627\\u062c. \\u0623\\u062a\\u0645\\u0646\\u0649 \\u0628\\u0627\\u0644\\u0641\\u0639\\u0644 \\u0644\\u0648 \\u0643\\u0627\\u0646 \\u0642\\u0644\\u0645\\u0647 \\u0623\\u0643\\u062b\\u0631. \\u0646\\u0638\\u0627\\u0641\\u0629\"\n        ],\n        \"semantic_type\": \"\",\n        \"description\": \"\"\n      }\n    },\n    {\n      \"column\": \"clean_text\",\n      \"properties\": {\n        \"dtype\": \"string\",\n        \"num_unique_values\": 37706,\n        \"samples\": [\n          \"\\u0639\\u0644\\u064a \\u0647\\u0634\\u0627\\u0645 \\u0648\\u0644\\u062f \\u0627\\u0644\\u0646\\u0648\\u0639 \\u0627\\u0644\\u0644\\u064a \\u0628\\u064a\\u062c\\u0649 \\u0645\\u0631\\u0629 \\u062b\\u0648\\u0631\\u0629 \\u0639\\u0645\\u0631 \\u0637\\u0627\\u0647\\u0631 \\u0635\\u062f\\u0642 \\u0627\\u0644\\u0643\\u062a\\u0627\\u0628 \\u0639\\u0628\\u0627\\u0631\\u0629 \\u0642\\u0635\\u0635 \\u0642\\u0635\\u064a\\u0631\\u0629 \\u0642\\u0635\\u064a\\u0631\\u0629 \\u062c\\u062f\\u0627 \\u0643\\u0644\\u0647\\u0627 \\u0645\\u0645\\u062a\\u0639\\u0629 \\u0648\\u0628\\u0637\\u0631\\u064a\\u0642\\u0629 \\u0628\\u0621\\u062e\\u0631\\u0649 \\u0628\\u062a\\u0645\\u062b\\u0644 \\u062c\\u064a\\u0644\\u0646\\u0627 \\u0648\\u0621\\u0641\\u0643\\u0627\\u0631\\u0647 \\u0648\\u0645\\u0634\\u0627\\u0639\\u0631\\u0647 \\u0627\\u0644\\u0634\\u0647\\u062f\\u0627\\u0621 \\u0627\\u0644\\u062b\\u0648\\u0631\\u0629 \\u0627\\u0644\\u062d\\u064a\\u0627\\u0629 \\u0639\\u0627\\u0645\\u0627 \\u0627\\u0644\\u0642\\u0635\\u0635 \\u0621\\u062a\\u0643\\u062a\\u0628 \\u0648\\u062f\\u0647 \\u0634\\u064a\\u0621 \\u062c\\u0645\\u064a\\u0644 \\u062c\\u062f\\u0627 \\u0621\\u0633\\u062a\\u0645\\u062a\\u0639\\u062a \\u0639\\u0645\\u0648\\u0645\\u0627 \\u0628\\u0642\\u0631\\u0627\\u0621\\u0629 \\u0627\\u0644\\u0643\\u062a\\u0627\\u0628 \\u0648\\u0621\\u0628\\u062a\\u0633\\u0645\\u062a \\u0643\\u062a\\u064a\\u0631 \\u0648\\u0621\\u0646\\u0627 \\u0628\\u0642\\u0631\\u0627\\u0647 \\u0648\\u0621\\u0646\\u0635\\u062d \\u0628\\u0642\\u0631\\u0627\\u0621\\u062a\\u0629 \\u062c\\u062f\\u0627\",\n          \"\\u0627\\u0644\\u0628\\u062f\\u0627\\u064a\\u0629 \\u0627\\u0644\\u0633\\u062e\\u0646\\u0629 \\u0627\\u0648\\u064a \\u0627\\u0648\\u064a \\u0648\\u0627\\u0644\\u0634\\u062e\\u0635\\u064a\\u0627\\u062a \\u0627\\u0644\\u0627\\u0628\\u062f\\u0627\\u0639\\u064a\\u0629 \\u0627\\u0644\\u0627\\u0648\\u0644 \\u0645\\u0646\\u0633\\u064a\\u0629 \\u0627\\u062f\\u0631\\u0627\\u0643 \\u0645\\u0646\\u0633\\u064a\\u0629 \\u0627\\u0644\\u0634\\u062e\\u0635\\u064a\\u0629 \\u0627\\u0644\\u062e\\u064a\\u0627\\u0644\\u064a\\u0629 \\u0627\\u0644 \\u0643\\u062a\\u0631 \\u0627\\u0644\\u0643\\u0627\\u062a\\u0628\\u0629 \\u0631\\u0633\\u0645\\u062a\\u0647\\u0627 \\u0643\\u0648\\u064a\\u0633 \\u062d\\u0633\\u064a\\u062a \\u0627\\u0646 \\u0627\\u0646\\u0627 \\u0639\\u0627\\u064a\\u0634 \\u0645\\u0639\\u0627\\u0647\\u0627 \\u0648\\u0641\\u062c\\u0627\\u0621\\u0629 \\u064a\\u062c\\u0635\\u0644 \\u062f\\u0631\\u0648\\u0628 \\u062c\\u0627\\u0645\\u062f \\u062c\\u062f\\u0627 \\u0628\\u062f\\u0627\\u064a\\u0629 \\u0627\\u0644\\u0646\\u0635 \\u0627\\u0644\\u062a\\u0627\\u0646\\u064a \\u062d\\u0634\\u064a\\u062a \\u064a\\u0643\\u0648\\u0646 \\u0627\\u0644\\u062e\\u064a\\u0648\\u0637 \\u0627\\u0644 \\u0643\\u0627\\u0646\\u062a \\u0627\\u064a\\u062f \\u0627\\u0644\\u0643\\u0627\\u062a\\u0628\\u0629 \\u0648\\u0642\\u0639\\u062a \\u0648\\u0643\\u0644 \\u0634\\u0621 \\u0631\\u0633\\u0645\\u0647 \\u0627\\u0644\\u0646\\u0635 \\u0627\\u0644\\u0627\\u0648\\u0644 \\u0628\\u064a\\u0639\\u0645\\u0644 \\u0646\\u0642\\u064a\\u0636\\u0647 \\u064a\\u0639\\u0646\\u064a \\u0645\\u0646\\u0633\\u064a\\u0629 \\u0627\\u0644 \\u0633\\u0628\\u0628 \\u0645\\u0639\\u0631\\u0641\\u062a\\u0647\\u0627 \\u0628\\u062c\\u0627\\u0633\\u0631 \\u0636\\u0639\\u0641\\u0647\\u0627 \\u0627\\u0644 \\u062e\\u0644\\u0647\\u0627 \\u0645\\u0634 \\u0639\\u0631\\u0641\\u0629 \\u062a\\u0634\\u064a\\u0644 \\u0627\\u0644\\u0628\\u0631\\u0627\\u062f \\u0641\\u062c\\u0627\\u0621\\u0629 \\u062a\\u0628\\u062e\\u0631 \\u0648\\u0639\\u0631\\u0641\\u062a \\u062a\\u0634\\u064a\\u0644 \\u0627\\u0644\\u0627\\u0628\\u0627\\u062c\\u0648\\u0631\\u0629 \\u0648\\u062a\\u0645\\u0634\\u064a \\u0628\\u064a\\u0647\\u0627 \\u0648\\u062a\\u0647\\u062c\\u0645 \\u0643\\u0645\\u0627\\u0646 \\u0648\\u0642\\u0628\\u0644\\u0647\\u0627 \\u0628\\u0631\\u0636\\u0648\\u0627 \\u0643\\u0627\\u0646\\u062a \\u0637\\u0641\\u0644\\u0629 \\u0645\\u062a\\u0641\\u0647\\u0645\\u0634 \\u0627\\u064a \\u062d\\u0627\\u062c\\u0629 \\u0627\\u064a \\u062d\\u0627\\u062c\\u0629 \\u0628\\u062a\\u0628\\u0643\\u0631 \\u0648\\u0641\\u062c\\u0627\\u0621\\u0629 \\u0627\\u0648\\u0644 \\u0644\\u0645\\u0633\\u0647\\u0627 \\u062c\\u0627\\u0633\\u0631 \\u0627\\u062a\\u062d\\u0648\\u0644\\u062a \\u0644\\u0628\\u0646\\u062a \\u0627\\u0642\\u0634\\u0639\\u0631\\u062a \\u0648\\u0628\\u0642\\u064a \\u0639\\u0646\\u062f\\u0647\\u0627 \\u0627\\u0646\\u0648\\u062b\\u0629 \\u0637\\u0628 \\u0627\\u0632\\u0627\\u064a \\u0648\\u0641\\u0643\\u0631\\u0629 \\u0627\\u0644\\u0646\\u0647\\u0627\\u064a\\u0629 \\u062e\\u0644\\u062a \\u0627\\u0644\\u0645\\u0621\\u0634\\u0631 \\u0628\\u062f\\u0621 \\u064a\\u0647\\u0628\\u0637 \\u0627\\u0644\\u0646\\u0635 \\u0627\\u0644\\u062a\\u0627\\u0646\\u064a \\u0627\\u0631\\u062a\\u0641\\u0639 \\u0634\\u0648\\u064a\\u0629 \\u0644\\u0644\\u0645\\u0648\\u0639\\u0638\\u0629 \\u0627\\u0644 \\u0643\\u0627\\u0646\\u062a \\u0648\\u0627\\u0646 \\u0643\\u0627\\u0646\\u062a \\u0645\\u062e\\u0641\\u064a\\u0629\"\n        ],\n        \"semantic_type\": \"\",\n        \"description\": \"\"\n      }\n    }\n  ]\n}"
            }
          },
          "metadata": {},
          "execution_count": 37
        }
      ]
    },
    {
      "cell_type": "markdown",
      "source": [
        "# Tokenization, Padding, and Data Splitting"
      ],
      "metadata": {
        "id": "VF45GS_ZSEix"
      }
    },
    {
      "cell_type": "markdown",
      "source": [
        "In this step, we will prepare the text data for input into a machine learning model by converting the text into numerical sequences, padding them to a uniform length, and splitting the dataset into training and testing sets. Here's an overview of the steps involved:\n",
        "\n",
        "1. **Tokenization**:\n",
        "   We use a tokenizer to convert the cleaned text into numerical sequences. Each word in the text is assigned a unique integer ID based on the frequency of its occurrence in the dataset. This allows the text to be represented numerically, which is necessary for model training.\n",
        "\n",
        "2. **Text to sequences**:\n",
        "   After fitting the tokenizer on the cleaned text, we transform each text into a sequence of numbers, where each number corresponds to a token (word) in the text. These sequences represent the entire dataset in numerical form.\n",
        "\n",
        "3. **Padding the sequences**:\n",
        "   Since different texts may vary in length, we pad the sequences to ensure they all have the same length. Padding adds zeroes at the end (or beginning) of each sequence until they reach the defined maximum length. This is important for creating uniform input data for the model.\n",
        "\n",
        "4. **Label encoding**:\n",
        "   The labels (target values) also need to be converted into numerical form. We use a label encoder to transform the categorical labels into numerical representations. This step is essential because machine learning models work with numerical data.\n",
        "\n",
        "5. **Train-test split**:\n",
        "   The dataset is divided into training and testing sets. We allocate 80% of the data for training the model and reserve 20% for testing its performance. This split ensures that we have a portion of the data to evaluate how well the model generalizes to unseen data.\n",
        "   \n",
        "   - The **training data** consists of the padded sequences used to train the model.\n",
        "   - The **training labels** are the encoded labels corresponding to the training data.\n",
        "   - The **testing data** is used to assess the model’s performance after training.\n",
        "   - The **testing labels** are the encoded labels corresponding to the testing data.\n",
        "\n",
        "6. **Data shape confirmation**:\n",
        "   After splitting the data, we print the shape (dimensions) of both the training and testing sets to confirm that the data is properly divided and formatted.\n",
        "\n",
        "By the end of this step, the text data will be transformed into padded numerical sequences, the labels will be encoded, and the data will be split into training and testing sets for model development and evaluation."
      ],
      "metadata": {
        "id": "YmsL3S-5SIbl"
      }
    },
    {
      "cell_type": "code",
      "source": [
        "# Initialize the tokenizer\n",
        "# Tokenizer will convert the text into a sequence of integers based on word frequency\n",
        "tokenizer = Tokenizer()\n",
        "\n",
        "# Fit the tokenizer on the 'clean_text' column of the dataframe\n",
        "# This step builds the word index and counts word frequencies\n",
        "tokenizer.fit_on_texts(df['clean_text'])\n",
        "\n",
        "# Convert the text to sequences of integers\n",
        "# Each word is replaced by its corresponding integer index from the tokenizer\n",
        "sequences = tokenizer.texts_to_sequences(df['clean_text'])\n",
        "\n",
        "# Pad the sequences to ensure uniform length (max_length) => this step is required because the input layer's size is fixed\n",
        "# Padding is added to the end of the sequences ('post') if they are shorter than max_length\n",
        "\n",
        "padded_sequences = pad_sequences(sequences, maxlen=max_length, padding='post')\n",
        "\n",
        "# Initialize the label encoder\n",
        "# Label encoder will convert categorical labels into integer-encoded form\n",
        "label_encoder = LabelEncoder()\n",
        "\n",
        "# Fit and transform the 'label' column of the dataframe into integer labels\n",
        "encoded_labels = label_encoder.fit_transform(df['label'])\n",
        "\n",
        "# Split the data into training and testing sets\n",
        "# Train-test split divides the data into training (80%) and testing (20%) sets\n",
        "train_data, test_data, train_labels, test_labels = train_test_split(\n",
        "    padded_sequences,     # The padded sequences are the feature data\n",
        "    encoded_labels,       # The encoded labels are the target data\n",
        "    test_size=0.2,        # 20% of the data is set aside for testing\n",
        "    random_state=42       # Random seed for reproducibility of results\n",
        ")\n",
        "\n",
        "print(\"Shape of train_data:\", train_data.shape)\n",
        "print(\"Shape of train_labels:\", train_labels.shape)\n",
        "print(\"Shape of test_data:\", test_data.shape)\n",
        "print(\"Shape of test_labels:\", test_labels.shape)"
      ],
      "metadata": {
        "id": "z401Re0VfI1f",
        "colab": {
          "base_uri": "https://localhost:8080/"
        },
        "outputId": "5c3242e1-5cf8-4761-cb7b-299ebca0d05c"
      },
      "execution_count": 38,
      "outputs": [
        {
          "output_type": "stream",
          "name": "stdout",
          "text": [
            "Shape of train_data: (30167, 250)\n",
            "Shape of train_labels: (30167,)\n",
            "Shape of test_data: (7542, 250)\n",
            "Shape of test_labels: (7542,)\n"
          ]
        }
      ]
    },
    {
      "cell_type": "markdown",
      "source": [
        "# Building the RNN Model"
      ],
      "metadata": {
        "id": "qd5Ek4NLTgVN"
      }
    },
    {
      "cell_type": "markdown",
      "source": [
        "In this step, you will design and build a Recurrent Neural Network (RNN) model to classify text data. Below is a breakdown of the key components you'll implement, but it's up to you to decide how to configure them based on your understanding and experimentation:\n",
        "\n",
        "1. **Model Type**:\n",
        "   You will use a Sequential model, which allows you to stack layers in a linear sequence. Feel free to explore different model types if necessary.\n",
        "\n",
        "2. **Input Layer**:\n",
        "   Define the shape of the input data. Consider the dimensions of your padded sequences and set the input shape accordingly.\n",
        "\n",
        "3. **Embedding Layer**:\n",
        "   The embedding layer will convert input tokens (integers) into dense vector representations. You will need to determine the size of the input dimension (based on your vocabulary) and the output dimension (embedding size). The embedding size is a hyperparameter, so feel free to experiment with different values.\n",
        "\n",
        "4. **Bidirectional Simple RNN Layers**:\n",
        "   You can add one or more recurrent layers. Consider using Bidirectional layers to capture contextual information from both directions (forward and backward). You have the option to specify the number of units in each layer. Additionally, you can decide whether to return sequences from the layers and how many layers to stack.\n",
        "\n",
        "5. **Dense Layers**:\n",
        "   Add one or more fully connected (Dense) layers to process the output from the RNN layers. You will need to choose the number of units for these layers and decide on an activation function. ReLU is a common choice, but feel free to explore other options depending on your task.\n",
        "\n",
        "6. **Output Layer**:\n",
        "   The output layer should match the type of classification task you're working on. For a binary classification task, consider using a single unit with an appropriate activation function (e.g., sigmoid). If you're working on a multi-class classification, a different setup may be required.\n",
        "\n",
        "7. **Model Summary**:\n",
        "   After defining your model architecture, print a summary to review the number of layers, types of layers, and total parameters.\n",
        "\n",
        "8. **Model Compilation**:\n",
        "   Finally, compile the model by selecting an optimizer, a loss function, and metrics. Common choices include Adam for the optimizer and binary cross-entropy for the loss function in binary classification, but this is entirely up to you. You can experiment with different optimizers and loss functions to see what works best for your specific problem."
      ],
      "metadata": {
        "id": "HpLEoTaITEGx"
      }
    },
    {
      "cell_type": "code",
      "source": [
        "# Define the Sequential model\n",
        "model = Sequential([\n",
        "    # Input layer, specifying the shape of the input data (e.g., sequence length)\n",
        "    Input(shape=(max_length,)),\n",
        "\n",
        "    # Embedding layer to convert integer-encoded words into dense vectors of fixed size\n",
        "    # input_dim: size of the vocabulary (one more than the word index size to account for padding)\n",
        "    # output_dim: size of the embedding vectors\n",
        "    # input_length: the length of input sequences\n",
        "    Embedding(input_dim=len(tokenizer.word_index) + 1, output_dim=128, input_length=max_length),\n",
        "\n",
        "    # Bidirectional RNN layer using SimpleRNN\n",
        "    # 64 units in the RNN cell, return_sequences=True ensures that output is 3D (one output per time step)\n",
        "    Bidirectional(SimpleRNN(64, return_sequences=True)),\n",
        "\n",
        "    # Another Bidirectional SimpleRNN, this time returning only the final hidden state (2D output)\n",
        "    Bidirectional(SimpleRNN(32)),\n",
        "\n",
        "    # Dense layer (Fully connected layers)\n",
        "    Dense(64, activation='relu'),\n",
        "\n",
        "    # Output Dense layer with 1 unit (for binary classification) and sigmoid activation\n",
        "    # Sigmoid activation squashes the output between 0 and 1, which is useful for binary classification\n",
        "    Dense(1, activation='sigmoid')\n",
        "])\n",
        "\n",
        "model.summary()\n",
        "\n",
        "model.compile(optimizer='adam', loss='binary_crossentropy', metrics=['accuracy'])"
      ],
      "metadata": {
        "id": "D-EYYIUpfK_F",
        "colab": {
          "base_uri": "https://localhost:8080/",
          "height": 350
        },
        "outputId": "39781ebd-f09d-48b4-ebae-80d89b0d221e"
      },
      "execution_count": 39,
      "outputs": [
        {
          "output_type": "stream",
          "name": "stderr",
          "text": [
            "/usr/local/lib/python3.10/dist-packages/keras/src/layers/core/embedding.py:90: UserWarning: Argument `input_length` is deprecated. Just remove it.\n",
            "  warnings.warn(\n"
          ]
        },
        {
          "output_type": "display_data",
          "data": {
            "text/plain": [
              "\u001b[1mModel: \"sequential\"\u001b[0m\n"
            ],
            "text/html": [
              "<pre style=\"white-space:pre;overflow-x:auto;line-height:normal;font-family:Menlo,'DejaVu Sans Mono',consolas,'Courier New',monospace\"><span style=\"font-weight: bold\">Model: \"sequential\"</span>\n",
              "</pre>\n"
            ]
          },
          "metadata": {}
        },
        {
          "output_type": "display_data",
          "data": {
            "text/plain": [
              "┏━━━━━━━━━━━━━━━━━━━━━━━━━━━━━━━━━━━━━━┳━━━━━━━━━━━━━━━━━━━━━━━━━━━━━┳━━━━━━━━━━━━━━━━━┓\n",
              "┃\u001b[1m \u001b[0m\u001b[1mLayer (type)                        \u001b[0m\u001b[1m \u001b[0m┃\u001b[1m \u001b[0m\u001b[1mOutput Shape               \u001b[0m\u001b[1m \u001b[0m┃\u001b[1m \u001b[0m\u001b[1m        Param #\u001b[0m\u001b[1m \u001b[0m┃\n",
              "┡━━━━━━━━━━━━━━━━━━━━━━━━━━━━━━━━━━━━━━╇━━━━━━━━━━━━━━━━━━━━━━━━━━━━━╇━━━━━━━━━━━━━━━━━┩\n",
              "│ embedding (\u001b[38;5;33mEmbedding\u001b[0m)                │ (\u001b[38;5;45mNone\u001b[0m, \u001b[38;5;34m250\u001b[0m, \u001b[38;5;34m128\u001b[0m)            │      \u001b[38;5;34m24,738,688\u001b[0m │\n",
              "├──────────────────────────────────────┼─────────────────────────────┼─────────────────┤\n",
              "│ bidirectional (\u001b[38;5;33mBidirectional\u001b[0m)        │ (\u001b[38;5;45mNone\u001b[0m, \u001b[38;5;34m250\u001b[0m, \u001b[38;5;34m128\u001b[0m)            │          \u001b[38;5;34m24,704\u001b[0m │\n",
              "├──────────────────────────────────────┼─────────────────────────────┼─────────────────┤\n",
              "│ bidirectional_1 (\u001b[38;5;33mBidirectional\u001b[0m)      │ (\u001b[38;5;45mNone\u001b[0m, \u001b[38;5;34m64\u001b[0m)                  │          \u001b[38;5;34m10,304\u001b[0m │\n",
              "├──────────────────────────────────────┼─────────────────────────────┼─────────────────┤\n",
              "│ dense (\u001b[38;5;33mDense\u001b[0m)                        │ (\u001b[38;5;45mNone\u001b[0m, \u001b[38;5;34m64\u001b[0m)                  │           \u001b[38;5;34m4,160\u001b[0m │\n",
              "├──────────────────────────────────────┼─────────────────────────────┼─────────────────┤\n",
              "│ dense_1 (\u001b[38;5;33mDense\u001b[0m)                      │ (\u001b[38;5;45mNone\u001b[0m, \u001b[38;5;34m1\u001b[0m)                   │              \u001b[38;5;34m65\u001b[0m │\n",
              "└──────────────────────────────────────┴─────────────────────────────┴─────────────────┘\n"
            ],
            "text/html": [
              "<pre style=\"white-space:pre;overflow-x:auto;line-height:normal;font-family:Menlo,'DejaVu Sans Mono',consolas,'Courier New',monospace\">┏━━━━━━━━━━━━━━━━━━━━━━━━━━━━━━━━━━━━━━┳━━━━━━━━━━━━━━━━━━━━━━━━━━━━━┳━━━━━━━━━━━━━━━━━┓\n",
              "┃<span style=\"font-weight: bold\"> Layer (type)                         </span>┃<span style=\"font-weight: bold\"> Output Shape                </span>┃<span style=\"font-weight: bold\">         Param # </span>┃\n",
              "┡━━━━━━━━━━━━━━━━━━━━━━━━━━━━━━━━━━━━━━╇━━━━━━━━━━━━━━━━━━━━━━━━━━━━━╇━━━━━━━━━━━━━━━━━┩\n",
              "│ embedding (<span style=\"color: #0087ff; text-decoration-color: #0087ff\">Embedding</span>)                │ (<span style=\"color: #00d7ff; text-decoration-color: #00d7ff\">None</span>, <span style=\"color: #00af00; text-decoration-color: #00af00\">250</span>, <span style=\"color: #00af00; text-decoration-color: #00af00\">128</span>)            │      <span style=\"color: #00af00; text-decoration-color: #00af00\">24,738,688</span> │\n",
              "├──────────────────────────────────────┼─────────────────────────────┼─────────────────┤\n",
              "│ bidirectional (<span style=\"color: #0087ff; text-decoration-color: #0087ff\">Bidirectional</span>)        │ (<span style=\"color: #00d7ff; text-decoration-color: #00d7ff\">None</span>, <span style=\"color: #00af00; text-decoration-color: #00af00\">250</span>, <span style=\"color: #00af00; text-decoration-color: #00af00\">128</span>)            │          <span style=\"color: #00af00; text-decoration-color: #00af00\">24,704</span> │\n",
              "├──────────────────────────────────────┼─────────────────────────────┼─────────────────┤\n",
              "│ bidirectional_1 (<span style=\"color: #0087ff; text-decoration-color: #0087ff\">Bidirectional</span>)      │ (<span style=\"color: #00d7ff; text-decoration-color: #00d7ff\">None</span>, <span style=\"color: #00af00; text-decoration-color: #00af00\">64</span>)                  │          <span style=\"color: #00af00; text-decoration-color: #00af00\">10,304</span> │\n",
              "├──────────────────────────────────────┼─────────────────────────────┼─────────────────┤\n",
              "│ dense (<span style=\"color: #0087ff; text-decoration-color: #0087ff\">Dense</span>)                        │ (<span style=\"color: #00d7ff; text-decoration-color: #00d7ff\">None</span>, <span style=\"color: #00af00; text-decoration-color: #00af00\">64</span>)                  │           <span style=\"color: #00af00; text-decoration-color: #00af00\">4,160</span> │\n",
              "├──────────────────────────────────────┼─────────────────────────────┼─────────────────┤\n",
              "│ dense_1 (<span style=\"color: #0087ff; text-decoration-color: #0087ff\">Dense</span>)                      │ (<span style=\"color: #00d7ff; text-decoration-color: #00d7ff\">None</span>, <span style=\"color: #00af00; text-decoration-color: #00af00\">1</span>)                   │              <span style=\"color: #00af00; text-decoration-color: #00af00\">65</span> │\n",
              "└──────────────────────────────────────┴─────────────────────────────┴─────────────────┘\n",
              "</pre>\n"
            ]
          },
          "metadata": {}
        },
        {
          "output_type": "display_data",
          "data": {
            "text/plain": [
              "\u001b[1m Total params: \u001b[0m\u001b[38;5;34m24,777,921\u001b[0m (94.52 MB)\n"
            ],
            "text/html": [
              "<pre style=\"white-space:pre;overflow-x:auto;line-height:normal;font-family:Menlo,'DejaVu Sans Mono',consolas,'Courier New',monospace\"><span style=\"font-weight: bold\"> Total params: </span><span style=\"color: #00af00; text-decoration-color: #00af00\">24,777,921</span> (94.52 MB)\n",
              "</pre>\n"
            ]
          },
          "metadata": {}
        },
        {
          "output_type": "display_data",
          "data": {
            "text/plain": [
              "\u001b[1m Trainable params: \u001b[0m\u001b[38;5;34m24,777,921\u001b[0m (94.52 MB)\n"
            ],
            "text/html": [
              "<pre style=\"white-space:pre;overflow-x:auto;line-height:normal;font-family:Menlo,'DejaVu Sans Mono',consolas,'Courier New',monospace\"><span style=\"font-weight: bold\"> Trainable params: </span><span style=\"color: #00af00; text-decoration-color: #00af00\">24,777,921</span> (94.52 MB)\n",
              "</pre>\n"
            ]
          },
          "metadata": {}
        },
        {
          "output_type": "display_data",
          "data": {
            "text/plain": [
              "\u001b[1m Non-trainable params: \u001b[0m\u001b[38;5;34m0\u001b[0m (0.00 B)\n"
            ],
            "text/html": [
              "<pre style=\"white-space:pre;overflow-x:auto;line-height:normal;font-family:Menlo,'DejaVu Sans Mono',consolas,'Courier New',monospace\"><span style=\"font-weight: bold\"> Non-trainable params: </span><span style=\"color: #00af00; text-decoration-color: #00af00\">0</span> (0.00 B)\n",
              "</pre>\n"
            ]
          },
          "metadata": {}
        }
      ]
    },
    {
      "cell_type": "markdown",
      "source": [
        "# Defining Batch Size, Creating Datasets, and Training the Model"
      ],
      "metadata": {
        "id": "57DXwqqQTloy"
      }
    },
    {
      "cell_type": "markdown",
      "source": [
        "In this step, you will define the batch size, create TensorFlow Datasets for both training and testing, and train the model. The key elements to consider are outlined below, and it is up to you to choose the specific configurations based on your preferences and experimentation:\n",
        "\n",
        "1. **Batch Size**:\n",
        "   Select a batch size for training and testing. The batch size determines how many samples will be processed together in one forward and backward pass during training. Smaller batch sizes may allow for more granular updates, while larger batch sizes might lead to faster but less frequent updates. You can experiment with different values.\n",
        "\n",
        "2. **Creating Datasets**:\n",
        "   Use TensorFlow’s `Dataset.from_tensor_slices()` to create datasets from the training and testing data. This step converts the feature data and labels into pairs of tensors, which can be efficiently fed into the model during training and testing.\n",
        "\n",
        "3. **Batching the Datasets**:\n",
        "   Batch the datasets by grouping the data into batches of the specified size. This is important for ensuring that the model processes the data in manageable chunks during training. You can choose the batch size that works best for your hardware and data.\n",
        "\n",
        "4. **Training the Model**:\n",
        "   Train the model by fitting it on the training dataset for a specified number of epochs. You will also need to provide the validation data (the testing dataset in this case) to monitor the model’s performance on unseen data during training. The number of epochs is another hyperparameter you can adjust, with higher values potentially leading to better performance but risking overfitting.\n",
        "\n",
        "5. **Tracking Training History**:\n",
        "   During training, the model’s performance metrics (such as loss and accuracy) will be tracked over the epochs, and the results will be stored in the `history` object. You can use this to analyze and visualize how the model’s performance evolves over time."
      ],
      "metadata": {
        "id": "LEOvs_dETmQp"
      }
    },
    {
      "cell_type": "code",
      "source": [
        "# Define the batch size for training and testing\n",
        "batch_size = 32\n",
        "\n",
        "# Create a TensorFlow Dataset from the training data and labels\n",
        "# Dataset.from_tensor_slices creates a dataset with pairs of (input, label) tensors\n",
        "train_dataset = tensorflow.data.Dataset.from_tensor_slices((train_data, train_labels))\n",
        "\n",
        "# Create a TensorFlow Dataset from the testing data and labels\n",
        "test_dataset = tensorflow.data.Dataset.from_tensor_slices((test_data, test_labels))\n",
        "\n",
        "# Batch the datasets\n",
        "# This will divide the dataset into batches of size 32 for efficient training\n",
        "train_dataset = train_dataset.batch(batch_size)\n",
        "test_dataset = test_dataset.batch(batch_size)\n",
        "\n",
        "# Train the model using the training dataset\n",
        "history = model.fit(train_dataset, epochs=5, validation_data=test_dataset)"
      ],
      "metadata": {
        "id": "o6unhJgFfQbM",
        "colab": {
          "base_uri": "https://localhost:8080/",
          "height": 387
        },
        "collapsed": true,
        "outputId": "bee20273-78c3-40aa-bdd5-a99bb6b46cc5"
      },
      "execution_count": 40,
      "outputs": [
        {
          "output_type": "stream",
          "name": "stdout",
          "text": [
            "Epoch 1/5\n",
            "\u001b[1m315/943\u001b[0m \u001b[32m━━━━━━\u001b[0m\u001b[37m━━━━━━━━━━━━━━\u001b[0m \u001b[1m7:10\u001b[0m 685ms/step - accuracy: 0.5628 - loss: 0.6570"
          ]
        },
        {
          "output_type": "error",
          "ename": "KeyboardInterrupt",
          "evalue": "",
          "traceback": [
            "\u001b[0;31m---------------------------------------------------------------------------\u001b[0m",
            "\u001b[0;31mKeyboardInterrupt\u001b[0m                         Traceback (most recent call last)",
            "\u001b[0;32m<ipython-input-40-fb8d4fe17920>\u001b[0m in \u001b[0;36m<cell line: 17>\u001b[0;34m()\u001b[0m\n\u001b[1;32m     15\u001b[0m \u001b[0;34m\u001b[0m\u001b[0m\n\u001b[1;32m     16\u001b[0m \u001b[0;31m# Train the model using the training dataset\u001b[0m\u001b[0;34m\u001b[0m\u001b[0;34m\u001b[0m\u001b[0m\n\u001b[0;32m---> 17\u001b[0;31m \u001b[0mhistory\u001b[0m \u001b[0;34m=\u001b[0m \u001b[0mmodel\u001b[0m\u001b[0;34m.\u001b[0m\u001b[0mfit\u001b[0m\u001b[0;34m(\u001b[0m\u001b[0mtrain_dataset\u001b[0m\u001b[0;34m,\u001b[0m \u001b[0mepochs\u001b[0m\u001b[0;34m=\u001b[0m\u001b[0;36m5\u001b[0m\u001b[0;34m,\u001b[0m \u001b[0mvalidation_data\u001b[0m\u001b[0;34m=\u001b[0m\u001b[0mtest_dataset\u001b[0m\u001b[0;34m)\u001b[0m\u001b[0;34m\u001b[0m\u001b[0;34m\u001b[0m\u001b[0m\n\u001b[0m",
            "\u001b[0;32m/usr/local/lib/python3.10/dist-packages/keras/src/utils/traceback_utils.py\u001b[0m in \u001b[0;36merror_handler\u001b[0;34m(*args, **kwargs)\u001b[0m\n\u001b[1;32m    115\u001b[0m         \u001b[0mfiltered_tb\u001b[0m \u001b[0;34m=\u001b[0m \u001b[0;32mNone\u001b[0m\u001b[0;34m\u001b[0m\u001b[0;34m\u001b[0m\u001b[0m\n\u001b[1;32m    116\u001b[0m         \u001b[0;32mtry\u001b[0m\u001b[0;34m:\u001b[0m\u001b[0;34m\u001b[0m\u001b[0;34m\u001b[0m\u001b[0m\n\u001b[0;32m--> 117\u001b[0;31m             \u001b[0;32mreturn\u001b[0m \u001b[0mfn\u001b[0m\u001b[0;34m(\u001b[0m\u001b[0;34m*\u001b[0m\u001b[0margs\u001b[0m\u001b[0;34m,\u001b[0m \u001b[0;34m**\u001b[0m\u001b[0mkwargs\u001b[0m\u001b[0;34m)\u001b[0m\u001b[0;34m\u001b[0m\u001b[0;34m\u001b[0m\u001b[0m\n\u001b[0m\u001b[1;32m    118\u001b[0m         \u001b[0;32mexcept\u001b[0m \u001b[0mException\u001b[0m \u001b[0;32mas\u001b[0m \u001b[0me\u001b[0m\u001b[0;34m:\u001b[0m\u001b[0;34m\u001b[0m\u001b[0;34m\u001b[0m\u001b[0m\n\u001b[1;32m    119\u001b[0m             \u001b[0mfiltered_tb\u001b[0m \u001b[0;34m=\u001b[0m \u001b[0m_process_traceback_frames\u001b[0m\u001b[0;34m(\u001b[0m\u001b[0me\u001b[0m\u001b[0;34m.\u001b[0m\u001b[0m__traceback__\u001b[0m\u001b[0;34m)\u001b[0m\u001b[0;34m\u001b[0m\u001b[0;34m\u001b[0m\u001b[0m\n",
            "\u001b[0;32m/usr/local/lib/python3.10/dist-packages/keras/src/backend/tensorflow/trainer.py\u001b[0m in \u001b[0;36mfit\u001b[0;34m(self, x, y, batch_size, epochs, verbose, callbacks, validation_split, validation_data, shuffle, class_weight, sample_weight, initial_epoch, steps_per_epoch, validation_steps, validation_batch_size, validation_freq)\u001b[0m\n\u001b[1;32m    316\u001b[0m                 \u001b[0;32mfor\u001b[0m \u001b[0mstep\u001b[0m\u001b[0;34m,\u001b[0m \u001b[0miterator\u001b[0m \u001b[0;32min\u001b[0m \u001b[0mepoch_iterator\u001b[0m\u001b[0;34m.\u001b[0m\u001b[0menumerate_epoch\u001b[0m\u001b[0;34m(\u001b[0m\u001b[0;34m)\u001b[0m\u001b[0;34m:\u001b[0m\u001b[0;34m\u001b[0m\u001b[0;34m\u001b[0m\u001b[0m\n\u001b[1;32m    317\u001b[0m                     \u001b[0mcallbacks\u001b[0m\u001b[0;34m.\u001b[0m\u001b[0mon_train_batch_begin\u001b[0m\u001b[0;34m(\u001b[0m\u001b[0mstep\u001b[0m\u001b[0;34m)\u001b[0m\u001b[0;34m\u001b[0m\u001b[0;34m\u001b[0m\u001b[0m\n\u001b[0;32m--> 318\u001b[0;31m                     \u001b[0mlogs\u001b[0m \u001b[0;34m=\u001b[0m \u001b[0mself\u001b[0m\u001b[0;34m.\u001b[0m\u001b[0mtrain_function\u001b[0m\u001b[0;34m(\u001b[0m\u001b[0miterator\u001b[0m\u001b[0;34m)\u001b[0m\u001b[0;34m\u001b[0m\u001b[0;34m\u001b[0m\u001b[0m\n\u001b[0m\u001b[1;32m    319\u001b[0m                     \u001b[0mlogs\u001b[0m \u001b[0;34m=\u001b[0m \u001b[0mself\u001b[0m\u001b[0;34m.\u001b[0m\u001b[0m_pythonify_logs\u001b[0m\u001b[0;34m(\u001b[0m\u001b[0mlogs\u001b[0m\u001b[0;34m)\u001b[0m\u001b[0;34m\u001b[0m\u001b[0;34m\u001b[0m\u001b[0m\n\u001b[1;32m    320\u001b[0m                     \u001b[0mcallbacks\u001b[0m\u001b[0;34m.\u001b[0m\u001b[0mon_train_batch_end\u001b[0m\u001b[0;34m(\u001b[0m\u001b[0mstep\u001b[0m\u001b[0;34m,\u001b[0m \u001b[0mlogs\u001b[0m\u001b[0;34m)\u001b[0m\u001b[0;34m\u001b[0m\u001b[0;34m\u001b[0m\u001b[0m\n",
            "\u001b[0;32m/usr/local/lib/python3.10/dist-packages/tensorflow/python/util/traceback_utils.py\u001b[0m in \u001b[0;36merror_handler\u001b[0;34m(*args, **kwargs)\u001b[0m\n\u001b[1;32m    148\u001b[0m     \u001b[0mfiltered_tb\u001b[0m \u001b[0;34m=\u001b[0m \u001b[0;32mNone\u001b[0m\u001b[0;34m\u001b[0m\u001b[0;34m\u001b[0m\u001b[0m\n\u001b[1;32m    149\u001b[0m     \u001b[0;32mtry\u001b[0m\u001b[0;34m:\u001b[0m\u001b[0;34m\u001b[0m\u001b[0;34m\u001b[0m\u001b[0m\n\u001b[0;32m--> 150\u001b[0;31m       \u001b[0;32mreturn\u001b[0m \u001b[0mfn\u001b[0m\u001b[0;34m(\u001b[0m\u001b[0;34m*\u001b[0m\u001b[0margs\u001b[0m\u001b[0;34m,\u001b[0m \u001b[0;34m**\u001b[0m\u001b[0mkwargs\u001b[0m\u001b[0;34m)\u001b[0m\u001b[0;34m\u001b[0m\u001b[0;34m\u001b[0m\u001b[0m\n\u001b[0m\u001b[1;32m    151\u001b[0m     \u001b[0;32mexcept\u001b[0m \u001b[0mException\u001b[0m \u001b[0;32mas\u001b[0m \u001b[0me\u001b[0m\u001b[0;34m:\u001b[0m\u001b[0;34m\u001b[0m\u001b[0;34m\u001b[0m\u001b[0m\n\u001b[1;32m    152\u001b[0m       \u001b[0mfiltered_tb\u001b[0m \u001b[0;34m=\u001b[0m \u001b[0m_process_traceback_frames\u001b[0m\u001b[0;34m(\u001b[0m\u001b[0me\u001b[0m\u001b[0;34m.\u001b[0m\u001b[0m__traceback__\u001b[0m\u001b[0;34m)\u001b[0m\u001b[0;34m\u001b[0m\u001b[0;34m\u001b[0m\u001b[0m\n",
            "\u001b[0;32m/usr/local/lib/python3.10/dist-packages/tensorflow/python/eager/polymorphic_function/polymorphic_function.py\u001b[0m in \u001b[0;36m__call__\u001b[0;34m(self, *args, **kwds)\u001b[0m\n\u001b[1;32m    831\u001b[0m \u001b[0;34m\u001b[0m\u001b[0m\n\u001b[1;32m    832\u001b[0m       \u001b[0;32mwith\u001b[0m \u001b[0mOptionalXlaContext\u001b[0m\u001b[0;34m(\u001b[0m\u001b[0mself\u001b[0m\u001b[0;34m.\u001b[0m\u001b[0m_jit_compile\u001b[0m\u001b[0;34m)\u001b[0m\u001b[0;34m:\u001b[0m\u001b[0;34m\u001b[0m\u001b[0;34m\u001b[0m\u001b[0m\n\u001b[0;32m--> 833\u001b[0;31m         \u001b[0mresult\u001b[0m \u001b[0;34m=\u001b[0m \u001b[0mself\u001b[0m\u001b[0;34m.\u001b[0m\u001b[0m_call\u001b[0m\u001b[0;34m(\u001b[0m\u001b[0;34m*\u001b[0m\u001b[0margs\u001b[0m\u001b[0;34m,\u001b[0m \u001b[0;34m**\u001b[0m\u001b[0mkwds\u001b[0m\u001b[0;34m)\u001b[0m\u001b[0;34m\u001b[0m\u001b[0;34m\u001b[0m\u001b[0m\n\u001b[0m\u001b[1;32m    834\u001b[0m \u001b[0;34m\u001b[0m\u001b[0m\n\u001b[1;32m    835\u001b[0m       \u001b[0mnew_tracing_count\u001b[0m \u001b[0;34m=\u001b[0m \u001b[0mself\u001b[0m\u001b[0;34m.\u001b[0m\u001b[0mexperimental_get_tracing_count\u001b[0m\u001b[0;34m(\u001b[0m\u001b[0;34m)\u001b[0m\u001b[0;34m\u001b[0m\u001b[0;34m\u001b[0m\u001b[0m\n",
            "\u001b[0;32m/usr/local/lib/python3.10/dist-packages/tensorflow/python/eager/polymorphic_function/polymorphic_function.py\u001b[0m in \u001b[0;36m_call\u001b[0;34m(self, *args, **kwds)\u001b[0m\n\u001b[1;32m    876\u001b[0m       \u001b[0;31m# In this case we have not created variables on the first call. So we can\u001b[0m\u001b[0;34m\u001b[0m\u001b[0;34m\u001b[0m\u001b[0m\n\u001b[1;32m    877\u001b[0m       \u001b[0;31m# run the first trace but we should fail if variables are created.\u001b[0m\u001b[0;34m\u001b[0m\u001b[0;34m\u001b[0m\u001b[0m\n\u001b[0;32m--> 878\u001b[0;31m       results = tracing_compilation.call_function(\n\u001b[0m\u001b[1;32m    879\u001b[0m           \u001b[0margs\u001b[0m\u001b[0;34m,\u001b[0m \u001b[0mkwds\u001b[0m\u001b[0;34m,\u001b[0m \u001b[0mself\u001b[0m\u001b[0;34m.\u001b[0m\u001b[0m_variable_creation_config\u001b[0m\u001b[0;34m\u001b[0m\u001b[0;34m\u001b[0m\u001b[0m\n\u001b[1;32m    880\u001b[0m       )\n",
            "\u001b[0;32m/usr/local/lib/python3.10/dist-packages/tensorflow/python/eager/polymorphic_function/tracing_compilation.py\u001b[0m in \u001b[0;36mcall_function\u001b[0;34m(args, kwargs, tracing_options)\u001b[0m\n\u001b[1;32m    137\u001b[0m   \u001b[0mbound_args\u001b[0m \u001b[0;34m=\u001b[0m \u001b[0mfunction\u001b[0m\u001b[0;34m.\u001b[0m\u001b[0mfunction_type\u001b[0m\u001b[0;34m.\u001b[0m\u001b[0mbind\u001b[0m\u001b[0;34m(\u001b[0m\u001b[0;34m*\u001b[0m\u001b[0margs\u001b[0m\u001b[0;34m,\u001b[0m \u001b[0;34m**\u001b[0m\u001b[0mkwargs\u001b[0m\u001b[0;34m)\u001b[0m\u001b[0;34m\u001b[0m\u001b[0;34m\u001b[0m\u001b[0m\n\u001b[1;32m    138\u001b[0m   \u001b[0mflat_inputs\u001b[0m \u001b[0;34m=\u001b[0m \u001b[0mfunction\u001b[0m\u001b[0;34m.\u001b[0m\u001b[0mfunction_type\u001b[0m\u001b[0;34m.\u001b[0m\u001b[0munpack_inputs\u001b[0m\u001b[0;34m(\u001b[0m\u001b[0mbound_args\u001b[0m\u001b[0;34m)\u001b[0m\u001b[0;34m\u001b[0m\u001b[0;34m\u001b[0m\u001b[0m\n\u001b[0;32m--> 139\u001b[0;31m   return function._call_flat(  # pylint: disable=protected-access\n\u001b[0m\u001b[1;32m    140\u001b[0m       \u001b[0mflat_inputs\u001b[0m\u001b[0;34m,\u001b[0m \u001b[0mcaptured_inputs\u001b[0m\u001b[0;34m=\u001b[0m\u001b[0mfunction\u001b[0m\u001b[0;34m.\u001b[0m\u001b[0mcaptured_inputs\u001b[0m\u001b[0;34m\u001b[0m\u001b[0;34m\u001b[0m\u001b[0m\n\u001b[1;32m    141\u001b[0m   )\n",
            "\u001b[0;32m/usr/local/lib/python3.10/dist-packages/tensorflow/python/eager/polymorphic_function/concrete_function.py\u001b[0m in \u001b[0;36m_call_flat\u001b[0;34m(self, tensor_inputs, captured_inputs)\u001b[0m\n\u001b[1;32m   1320\u001b[0m         and executing_eagerly):\n\u001b[1;32m   1321\u001b[0m       \u001b[0;31m# No tape is watching; skip to running the function.\u001b[0m\u001b[0;34m\u001b[0m\u001b[0;34m\u001b[0m\u001b[0m\n\u001b[0;32m-> 1322\u001b[0;31m       \u001b[0;32mreturn\u001b[0m \u001b[0mself\u001b[0m\u001b[0;34m.\u001b[0m\u001b[0m_inference_function\u001b[0m\u001b[0;34m.\u001b[0m\u001b[0mcall_preflattened\u001b[0m\u001b[0;34m(\u001b[0m\u001b[0margs\u001b[0m\u001b[0;34m)\u001b[0m\u001b[0;34m\u001b[0m\u001b[0;34m\u001b[0m\u001b[0m\n\u001b[0m\u001b[1;32m   1323\u001b[0m     forward_backward = self._select_forward_and_backward_functions(\n\u001b[1;32m   1324\u001b[0m         \u001b[0margs\u001b[0m\u001b[0;34m,\u001b[0m\u001b[0;34m\u001b[0m\u001b[0;34m\u001b[0m\u001b[0m\n",
            "\u001b[0;32m/usr/local/lib/python3.10/dist-packages/tensorflow/python/eager/polymorphic_function/atomic_function.py\u001b[0m in \u001b[0;36mcall_preflattened\u001b[0;34m(self, args)\u001b[0m\n\u001b[1;32m    214\u001b[0m   \u001b[0;32mdef\u001b[0m \u001b[0mcall_preflattened\u001b[0m\u001b[0;34m(\u001b[0m\u001b[0mself\u001b[0m\u001b[0;34m,\u001b[0m \u001b[0margs\u001b[0m\u001b[0;34m:\u001b[0m \u001b[0mSequence\u001b[0m\u001b[0;34m[\u001b[0m\u001b[0mcore\u001b[0m\u001b[0;34m.\u001b[0m\u001b[0mTensor\u001b[0m\u001b[0;34m]\u001b[0m\u001b[0;34m)\u001b[0m \u001b[0;34m->\u001b[0m \u001b[0mAny\u001b[0m\u001b[0;34m:\u001b[0m\u001b[0;34m\u001b[0m\u001b[0;34m\u001b[0m\u001b[0m\n\u001b[1;32m    215\u001b[0m     \u001b[0;34m\"\"\"Calls with flattened tensor inputs and returns the structured output.\"\"\"\u001b[0m\u001b[0;34m\u001b[0m\u001b[0;34m\u001b[0m\u001b[0m\n\u001b[0;32m--> 216\u001b[0;31m     \u001b[0mflat_outputs\u001b[0m \u001b[0;34m=\u001b[0m \u001b[0mself\u001b[0m\u001b[0;34m.\u001b[0m\u001b[0mcall_flat\u001b[0m\u001b[0;34m(\u001b[0m\u001b[0;34m*\u001b[0m\u001b[0margs\u001b[0m\u001b[0;34m)\u001b[0m\u001b[0;34m\u001b[0m\u001b[0;34m\u001b[0m\u001b[0m\n\u001b[0m\u001b[1;32m    217\u001b[0m     \u001b[0;32mreturn\u001b[0m \u001b[0mself\u001b[0m\u001b[0;34m.\u001b[0m\u001b[0mfunction_type\u001b[0m\u001b[0;34m.\u001b[0m\u001b[0mpack_output\u001b[0m\u001b[0;34m(\u001b[0m\u001b[0mflat_outputs\u001b[0m\u001b[0;34m)\u001b[0m\u001b[0;34m\u001b[0m\u001b[0;34m\u001b[0m\u001b[0m\n\u001b[1;32m    218\u001b[0m \u001b[0;34m\u001b[0m\u001b[0m\n",
            "\u001b[0;32m/usr/local/lib/python3.10/dist-packages/tensorflow/python/eager/polymorphic_function/atomic_function.py\u001b[0m in \u001b[0;36mcall_flat\u001b[0;34m(self, *args)\u001b[0m\n\u001b[1;32m    249\u001b[0m         \u001b[0;32mwith\u001b[0m \u001b[0mrecord\u001b[0m\u001b[0;34m.\u001b[0m\u001b[0mstop_recording\u001b[0m\u001b[0;34m(\u001b[0m\u001b[0;34m)\u001b[0m\u001b[0;34m:\u001b[0m\u001b[0;34m\u001b[0m\u001b[0;34m\u001b[0m\u001b[0m\n\u001b[1;32m    250\u001b[0m           \u001b[0;32mif\u001b[0m \u001b[0mself\u001b[0m\u001b[0;34m.\u001b[0m\u001b[0m_bound_context\u001b[0m\u001b[0;34m.\u001b[0m\u001b[0mexecuting_eagerly\u001b[0m\u001b[0;34m(\u001b[0m\u001b[0;34m)\u001b[0m\u001b[0;34m:\u001b[0m\u001b[0;34m\u001b[0m\u001b[0;34m\u001b[0m\u001b[0m\n\u001b[0;32m--> 251\u001b[0;31m             outputs = self._bound_context.call_function(\n\u001b[0m\u001b[1;32m    252\u001b[0m                 \u001b[0mself\u001b[0m\u001b[0;34m.\u001b[0m\u001b[0mname\u001b[0m\u001b[0;34m,\u001b[0m\u001b[0;34m\u001b[0m\u001b[0;34m\u001b[0m\u001b[0m\n\u001b[1;32m    253\u001b[0m                 \u001b[0mlist\u001b[0m\u001b[0;34m(\u001b[0m\u001b[0margs\u001b[0m\u001b[0;34m)\u001b[0m\u001b[0;34m,\u001b[0m\u001b[0;34m\u001b[0m\u001b[0;34m\u001b[0m\u001b[0m\n",
            "\u001b[0;32m/usr/local/lib/python3.10/dist-packages/tensorflow/python/eager/context.py\u001b[0m in \u001b[0;36mcall_function\u001b[0;34m(self, name, tensor_inputs, num_outputs)\u001b[0m\n\u001b[1;32m   1550\u001b[0m     \u001b[0mcancellation_context\u001b[0m \u001b[0;34m=\u001b[0m \u001b[0mcancellation\u001b[0m\u001b[0;34m.\u001b[0m\u001b[0mcontext\u001b[0m\u001b[0;34m(\u001b[0m\u001b[0;34m)\u001b[0m\u001b[0;34m\u001b[0m\u001b[0;34m\u001b[0m\u001b[0m\n\u001b[1;32m   1551\u001b[0m     \u001b[0;32mif\u001b[0m \u001b[0mcancellation_context\u001b[0m \u001b[0;32mis\u001b[0m \u001b[0;32mNone\u001b[0m\u001b[0;34m:\u001b[0m\u001b[0;34m\u001b[0m\u001b[0;34m\u001b[0m\u001b[0m\n\u001b[0;32m-> 1552\u001b[0;31m       outputs = execute.execute(\n\u001b[0m\u001b[1;32m   1553\u001b[0m           \u001b[0mname\u001b[0m\u001b[0;34m.\u001b[0m\u001b[0mdecode\u001b[0m\u001b[0;34m(\u001b[0m\u001b[0;34m\"utf-8\"\u001b[0m\u001b[0;34m)\u001b[0m\u001b[0;34m,\u001b[0m\u001b[0;34m\u001b[0m\u001b[0;34m\u001b[0m\u001b[0m\n\u001b[1;32m   1554\u001b[0m           \u001b[0mnum_outputs\u001b[0m\u001b[0;34m=\u001b[0m\u001b[0mnum_outputs\u001b[0m\u001b[0;34m,\u001b[0m\u001b[0;34m\u001b[0m\u001b[0;34m\u001b[0m\u001b[0m\n",
            "\u001b[0;32m/usr/local/lib/python3.10/dist-packages/tensorflow/python/eager/execute.py\u001b[0m in \u001b[0;36mquick_execute\u001b[0;34m(op_name, num_outputs, inputs, attrs, ctx, name)\u001b[0m\n\u001b[1;32m     51\u001b[0m   \u001b[0;32mtry\u001b[0m\u001b[0;34m:\u001b[0m\u001b[0;34m\u001b[0m\u001b[0;34m\u001b[0m\u001b[0m\n\u001b[1;32m     52\u001b[0m     \u001b[0mctx\u001b[0m\u001b[0;34m.\u001b[0m\u001b[0mensure_initialized\u001b[0m\u001b[0;34m(\u001b[0m\u001b[0;34m)\u001b[0m\u001b[0;34m\u001b[0m\u001b[0;34m\u001b[0m\u001b[0m\n\u001b[0;32m---> 53\u001b[0;31m     tensors = pywrap_tfe.TFE_Py_Execute(ctx._handle, device_name, op_name,\n\u001b[0m\u001b[1;32m     54\u001b[0m                                         inputs, attrs, num_outputs)\n\u001b[1;32m     55\u001b[0m   \u001b[0;32mexcept\u001b[0m \u001b[0mcore\u001b[0m\u001b[0;34m.\u001b[0m\u001b[0m_NotOkStatusException\u001b[0m \u001b[0;32mas\u001b[0m \u001b[0me\u001b[0m\u001b[0;34m:\u001b[0m\u001b[0;34m\u001b[0m\u001b[0;34m\u001b[0m\u001b[0m\n",
            "\u001b[0;31mKeyboardInterrupt\u001b[0m: "
          ]
        }
      ]
    },
    {
      "cell_type": "markdown",
      "source": [
        "# Model Evaluation"
      ],
      "metadata": {
        "id": "XmoJfr3nfP-n"
      }
    },
    {
      "cell_type": "markdown",
      "source": [
        "Once the model is trained, the next step is to evaluate its performance on the testing dataset. This will give you a sense of how well the model generalizes to unseen data. Here’s an overview of what you need to consider for this step:\n",
        "\n",
        "1. **Evaluate the Model**:\n",
        "   You will use the `evaluate()` method to assess the model’s performance on the test dataset. This method calculates the loss and other metrics (e.g., accuracy) that you specified during model compilation. It provides a final measure of how well the model performs on data it hasn’t seen during training.\n",
        "\n",
        "2. **Testing Dataset**:\n",
        "   Ensure that the testing dataset is properly prepared and batched, just like the training dataset. The evaluation process will loop through the batches and compute the overall performance across the entire test set.\n",
        "\n",
        "3. **Metrics**:\n",
        "   The metrics used during evaluation are the same as those defined in the model’s compilation step. Common metrics include accuracy for classification tasks, but feel free to define and track any other metrics of interest.\n",
        "\n",
        "4. **Loss Curve**:\n",
        "   A loss curve plots the loss values for both the training and validation datasets over the epochs. This visualization helps to monitor the model’s performance during training. A decreasing training loss usually indicates that the model is learning, while the validation loss shows how well the model generalizes to unseen data."
      ],
      "metadata": {
        "id": "2Gb8G9XiT-ec"
      }
    },
    {
      "cell_type": "code",
      "source": [
        "plt.plot(history.history['accuracy'], label='Train Accuracy')\n",
        "plt.plot(history.history['val_accuracy'], label='Val Accuracy')\n",
        "plt.title('Model Accuracy')\n",
        "plt.ylabel('Accuracy')\n",
        "plt.xlabel('Epoch')\n",
        "plt.legend(loc='lower right')\n",
        "plt.show()\n",
        "\n",
        "plt.plot(history.history['loss'], label='Train Loss')\n",
        "plt.plot(history.history['val_loss'], label='Val Loss')\n",
        "plt.title('Model Loss')\n",
        "plt.ylabel('Loss')\n",
        "plt.xlabel('Epoch')\n",
        "plt.legend(loc='upper right')\n",
        "plt.show()"
      ],
      "metadata": {
        "id": "SdECXvQGUQae"
      },
      "execution_count": null,
      "outputs": []
    },
    {
      "cell_type": "code",
      "source": [
        "results = model.evaluate(test_data, test_labels)\n",
        "print(f\"Accuracy: {results[1] * 100:.2f}%\")"
      ],
      "metadata": {
        "id": "EDEe0eNJ6c08"
      },
      "execution_count": null,
      "outputs": []
    },
    {
      "cell_type": "markdown",
      "source": [
        "# Model Inference"
      ],
      "metadata": {
        "id": "ifx5RFxnUQqc"
      }
    },
    {
      "cell_type": "markdown",
      "source": [
        "In this step, you will use the trained model to make predictions on new, unseen data (inference). Here’s an outline of the key points:\n",
        "\n",
        "1. **Prepare New Data**:\n",
        "   Before making predictions, ensure that the new data is preprocessed in the same way as the training data. This includes tokenization, padding, and any other transformations you applied during the data preprocessing step. The data can be single text to see the result of the prediction.\n",
        "\n",
        "2. **Model Prediction**:\n",
        "   Use the `predict()` method to feed new samples into the trained model and obtain predictions. The model will output probabilities or predicted class labels based on the type of classification task (binary or multi-class).\n",
        "\n",
        "3. **Interpreting Predictions**:\n",
        "   The model will return probabilities for each class. For binary classification, the output will typically be a probability value between 0 and 1."
      ],
      "metadata": {
        "id": "sVh0WCBoUSlP"
      }
    },
    {
      "cell_type": "code",
      "source": [
        "# Define a sample text for prediction\n",
        "sample_text = [\"التجربة كانت سيئة جدا\"]\n",
        "\n",
        "# Clean the sample text (assuming there's a function clean_text() for text preprocessing)\n",
        "# This step would typically involve removing unwanted characters, stopwords, etc.\n",
        "sample_sequence = tokenizer.texts_to_sequences([clean_text(sample_text[0])])\n",
        "\n",
        "# Pad the sequence to match the maximum length used during training\n",
        "# Padding ensures that the input to the model has the same shape as the training data\n",
        "padded_sample_sequence = pad_sequences(sample_sequence, maxlen=max_length, padding='post')\n",
        "\n",
        "# Predict the label for the padded sample sequence using the trained model\n",
        "predicted_label = model.predict(padded_sample_sequence)\n",
        "\n",
        "# Print the predicted label by converting the integer-encoded prediction back to the original label\n",
        "# The label_encoder.inverse_transform() method translates the encoded label back to its original form\n",
        "print(\"Predicted label:\", label_encoder.inverse_transform([predicted_label.argmax()]))"
      ],
      "metadata": {
        "id": "2XiahrhffR0J"
      },
      "execution_count": null,
      "outputs": []
    },
    {
      "cell_type": "code",
      "source": [
        "model.save('model.h5')"
      ],
      "metadata": {
        "id": "TYqnz5Ge6iy3"
      },
      "execution_count": null,
      "outputs": []
    }
  ]
}