{
  "cells": [
    {
      "cell_type": "markdown",
      "metadata": {
        "id": "view-in-github",
        "colab_type": "text"
      },
      "source": [
        "<a href=\"https://colab.research.google.com/github/aliahalotaibi73/week7_exercises/blob/main/auto_correction.ipynb\" target=\"_parent\"><img src=\"https://colab.research.google.com/assets/colab-badge.svg\" alt=\"Open In Colab\"/></a>"
      ]
    },
    {
      "cell_type": "markdown",
      "id": "407c6ef8",
      "metadata": {
        "id": "407c6ef8"
      },
      "source": [
        "# Auto-Correction Tutorial\n",
        "\n",
        "This tutorial will guide you through building an auto-correct system in Python. We'll use a text corpus to identify misspelled words and suggest corrections."
      ]
    },
    {
      "cell_type": "code",
      "execution_count": 1,
      "id": "ed389ac5",
      "metadata": {
        "id": "ed389ac5"
      },
      "outputs": [],
      "source": [
        "import os\n",
        "import re\n",
        "import numpy as np\n",
        "import pandas as pd\n",
        "from collections import Counter\n",
        "import nltk"
      ]
    },
    {
      "cell_type": "markdown",
      "id": "bb429d0f",
      "metadata": {
        "id": "bb429d0f"
      },
      "source": [
        "\n",
        "## Auto-Correct Systems\n",
        "The task of an auto-correct system is to identify misspelled words in a document and provide suggestions for correction.\n"
      ]
    },
    {
      "cell_type": "markdown",
      "id": "b4a2057f",
      "metadata": {
        "id": "b4a2057f"
      },
      "source": [
        "![Auto-Correct System](https://github.com/pashupati98/kaggle-archives/blob/main/img/img2.PNG?raw=true)"
      ]
    },
    {
      "cell_type": "markdown",
      "id": "38db6303",
      "metadata": {
        "id": "38db6303"
      },
      "source": [
        "\n",
        "## Data Requirement\n",
        "\n",
        "We need a trusted text corpus that we'll use to build the auto-correct system. For this tutorial, we'll use a small corpus from Shakespeare's works.\n"
      ]
    },
    {
      "cell_type": "code",
      "execution_count": 2,
      "id": "0dc4c1c9",
      "metadata": {
        "id": "0dc4c1c9",
        "outputId": "5764848d-78d2-4078-9910-c137c000226e",
        "colab": {
          "base_uri": "https://localhost:8080/",
          "height": 36
        }
      },
      "outputs": [
        {
          "output_type": "execute_result",
          "data": {
            "text/plain": [
              "'THE SONNETS\\n'"
            ],
            "application/vnd.google.colaboratory.intrinsic+json": {
              "type": "string"
            }
          },
          "metadata": {},
          "execution_count": 2
        }
      ],
      "source": [
        "\n",
        "# Load the corpus\n",
        "with open('/content/shakespeare.txt', 'r', encoding='ISO-8859-1') as f:\n",
        "    file = f.readlines()\n",
        "\n",
        "# A small sample of the corpus\n",
        "file[0][:3000]\n"
      ]
    },
    {
      "cell_type": "markdown",
      "id": "98648aeb",
      "metadata": {
        "id": "98648aeb"
      },
      "source": [
        "\n",
        "## Data Processing\n",
        "\n",
        "To process the corpus, we will tokenize the text and convert all characters to lowercase.\n"
      ]
    },
    {
      "cell_type": "code",
      "execution_count": 3,
      "id": "1caa0688",
      "metadata": {
        "id": "1caa0688",
        "outputId": "65fc29af-f4be-4729-fb65-f1293f134aa9",
        "colab": {
          "base_uri": "https://localhost:8080/"
        }
      },
      "outputs": [
        {
          "output_type": "stream",
          "name": "stdout",
          "text": [
            "The first ten words in the text are: \n",
            "['the', 'sonnets', 'by', 'william', 'shakespeare', 'from', 'fairest', 'creatures', 'we', 'desire']\n",
            "There are 3086 unique words in the vocabulary.\n"
          ]
        }
      ],
      "source": [
        "\n",
        "def process_data(lines):\n",
        "    words = []\n",
        "    for line in lines:\n",
        "        line = line.strip().lower()\n",
        "        word = re.findall(r'\\w+', line)\n",
        "        words.extend(word)\n",
        "    return words\n",
        "\n",
        "word_l = process_data(file)\n",
        "vocab = set(word_l)\n",
        "print(f\"The first ten words in the text are: \\n{word_l[0:10]}\")\n",
        "print(f\"There are {len(vocab)} unique words in the vocabulary.\")\n"
      ]
    },
    {
      "cell_type": "code",
      "source": [
        "def process_data(lines):\n",
        "    words = []\n",
        "    for line in lines:\n",
        "        line = line.strip().lower()\n",
        "        word = re.findall(r'\\w+', line)\n",
        "        words.extend(word)\n",
        "    return words\n",
        "\n",
        "word_1 = process_data(file)\n",
        "vocab = set(word_1)\n",
        "print(f\"The first ten words in the text are: \\n{word_1[0:10]}\")\n",
        "print(f\"There are {len(vocab)} unique words in the vocabulary\")"
      ],
      "metadata": {
        "id": "auVxQx31kSIm",
        "outputId": "a2e23e8e-b56d-4bef-ade2-903fc45ac25b",
        "colab": {
          "base_uri": "https://localhost:8080/"
        }
      },
      "id": "auVxQx31kSIm",
      "execution_count": 4,
      "outputs": [
        {
          "output_type": "stream",
          "name": "stdout",
          "text": [
            "The first ten words in the text are: \n",
            "['the', 'sonnets', 'by', 'william', 'shakespeare', 'from', 'fairest', 'creatures', 'we', 'desire']\n",
            "There are 3086 unique words in the vocabulary\n"
          ]
        }
      ]
    },
    {
      "cell_type": "markdown",
      "id": "b4f2759f",
      "metadata": {
        "id": "b4f2759f"
      },
      "source": [
        "\n",
        "## Architecture Overview\n",
        "\n",
        "This auto-correct architecture has four main components:\n",
        "\n",
        "1. **Filtering Mispells**: Checking if a word is in the vocabulary.\n",
        "2. **Word Suggestion Mechanism**: Suggesting candidate words based on various edit operations.\n",
        "3. **Probability Distribution Mechanism**: Calculating the probability of each candidate word.\n",
        "4. **Replace Mispells**: Replacing the misspelled word with the most probable suggestion.\n"
      ]
    },
    {
      "cell_type": "markdown",
      "id": "4910d1e3",
      "metadata": {
        "id": "4910d1e3"
      },
      "source": [
        "### Architecture Part 1: Filtering Mispells"
      ]
    },
    {
      "cell_type": "code",
      "execution_count": 12,
      "id": "59e9a4d2",
      "metadata": {
        "id": "59e9a4d2",
        "outputId": "e1fba92a-adcb-43c5-f641-786d309fdbfb",
        "colab": {
          "base_uri": "https://localhost:8080/"
        }
      },
      "outputs": [
        {
          "output_type": "execute_result",
          "data": {
            "text/plain": [
              "[]"
            ]
          },
          "metadata": {},
          "execution_count": 12
        }
      ],
      "source": [
        "\n",
        "def find_wrong_word(sent, vocab):\n",
        "    wrong_words = []\n",
        "    sent = sent.strip().lower().split(\" \")\n",
        "    for word in sent:\n",
        "        if word not in vocab:\n",
        "            wrong_words.append(word)\n",
        "    return wrong_words\n",
        "\n",
        "find_wrong_word('he is going home', vocab)\n"
      ]
    },
    {
      "cell_type": "code",
      "source": [
        "def find_worng_word(sent, vocab):\n",
        "    worng_words = []\n",
        "    sent = sent.strip().lower().split(\" \")\n",
        "    for word in sent:\n",
        "        if word not in vocab:\n",
        "           worng_words.append(word)\n",
        "    return worng_words\n",
        "\n",
        "find_worng_word('hee is goinng homme', vocab)"
      ],
      "metadata": {
        "id": "YfZP3UMplF-j",
        "outputId": "1b71ef4e-127d-4c5e-b623-dfceaaa225a8",
        "colab": {
          "base_uri": "https://localhost:8080/"
        }
      },
      "id": "YfZP3UMplF-j",
      "execution_count": 11,
      "outputs": [
        {
          "output_type": "execute_result",
          "data": {
            "text/plain": [
              "['hee', 'goinng', 'homme']"
            ]
          },
          "metadata": {},
          "execution_count": 11
        }
      ]
    },
    {
      "cell_type": "markdown",
      "id": "681feb43",
      "metadata": {
        "id": "681feb43"
      },
      "source": [
        "### Architecture Part 2: Word Suggestion Mechanism"
      ]
    },
    {
      "cell_type": "code",
      "execution_count": 13,
      "id": "362ec727",
      "metadata": {
        "id": "362ec727",
        "outputId": "a5afb049-925e-4dd6-8016-03f3ae9e6221",
        "colab": {
          "base_uri": "https://localhost:8080/"
        }
      },
      "outputs": [
        {
          "output_type": "stream",
          "name": "stdout",
          "text": [
            "input word : cans \n",
            "split_l = [('', 'cans'), ('c', 'ans'), ('ca', 'ns'), ('can', 's')], \n",
            "delete_l = ['ans', 'cns', 'cas', 'can']\n"
          ]
        }
      ],
      "source": [
        "\n",
        "def delete_letter(word, verbose=False):\n",
        "    delete_l = []\n",
        "    # split the word at every possible position\n",
        "    split_l = [(word[:i], word[i:]) for i in range(len(word))]\n",
        "    delete_l = [s[0]+s[1][1:] for s in split_l]\n",
        "    if verbose: print(f\"input word : {word} \\nsplit_l = {split_l}, \\ndelete_l = {delete_l}\")\n",
        "    return delete_l\n",
        "\n",
        "delete_word_l = delete_letter(word=\"cans\", verbose=True)\n"
      ]
    },
    {
      "cell_type": "code",
      "source": [
        "def delete_letter(word, verbose=False):\n",
        "    delete_1 = []\n",
        "    split_1 = [(word[:i], word[i:]) for i in range(len(word))]\n",
        "    delete_1 = [s[0]+s[1][1:] for s in split_1]\n",
        "    if verbose: print(f\"input word : {word} \\nsplit_1 = {split_1}, \\ndelete_1 = {delete_1}\")\n",
        "    return delete_1\n",
        "\n",
        "delete_word_1 = delete_letter(word=\"cans\", verbose=True)"
      ],
      "metadata": {
        "id": "R_XwbcynnRPk",
        "outputId": "784898c1-8bc9-4c45-8c89-4d0b7324ce5b",
        "colab": {
          "base_uri": "https://localhost:8080/"
        }
      },
      "id": "R_XwbcynnRPk",
      "execution_count": 15,
      "outputs": [
        {
          "output_type": "stream",
          "name": "stdout",
          "text": [
            "input word : cans \n",
            "split_1 = [('', 'cans'), ('c', 'ans'), ('ca', 'ns'), ('can', 's')], \n",
            "delete_1 = ['ans', 'cns', 'cas', 'can']\n"
          ]
        }
      ]
    },
    {
      "cell_type": "code",
      "execution_count": 14,
      "id": "c9763db0",
      "metadata": {
        "id": "c9763db0",
        "outputId": "4e05a72e-1547-4f8f-ff0c-4a251a9e4806",
        "colab": {
          "base_uri": "https://localhost:8080/"
        }
      },
      "outputs": [
        {
          "output_type": "stream",
          "name": "stdout",
          "text": [
            "Input word = eta \n",
            "split_l = [('', 'eta'), ('e', 'ta'), ('et', 'a')] \n",
            "switch_l = ['tea', 'eat']\n"
          ]
        }
      ],
      "source": [
        "\n",
        "def switch_letter(word, verbose=False):\n",
        "    switch_l = []\n",
        "    split_l = [(word[:i], word[i:]) for i in range(len(word))]\n",
        "    for s in split_l:\n",
        "        if len(s[1]) > 2:\n",
        "            temp = s[0] + s[1][1] + s[1][0] + s[1][2:]\n",
        "        elif len(s[1]) == 2:\n",
        "            temp = s[0] + s[1][1] + s[1][0]\n",
        "        elif len(s[1]) == 1:\n",
        "            continue\n",
        "        switch_l.append(temp)\n",
        "    if verbose: print(f\"Input word = {word} \\nsplit_l = {split_l} \\nswitch_l = {switch_l}\")\n",
        "    return switch_l\n",
        "\n",
        "switch_word_l = switch_letter(word=\"eta\", verbose=True)\n"
      ]
    },
    {
      "cell_type": "code",
      "execution_count": 16,
      "id": "b631a666",
      "metadata": {
        "id": "b631a666",
        "outputId": "d0378a34-030d-4778-f4d9-f3c8c89f47cf",
        "colab": {
          "base_uri": "https://localhost:8080/"
        }
      },
      "outputs": [
        {
          "output_type": "stream",
          "name": "stdout",
          "text": [
            "Input word = can \n",
            "split_l = [('', 'can'), ('c', 'an'), ('ca', 'n')] \n",
            "replace_l = ['aan', 'ban', 'caa', 'cab', 'cac', 'cad', 'cae', 'caf', 'cag', 'cah', 'cai', 'caj', 'cak', 'cal', 'cam', 'cao', 'cap', 'caq', 'car', 'cas', 'cat', 'cau', 'cav', 'caw', 'cax', 'cay', 'caz', 'cbn', 'ccn', 'cdn', 'cen', 'cfn', 'cgn', 'chn', 'cin', 'cjn', 'ckn', 'cln', 'cmn', 'cnn', 'con', 'cpn', 'cqn', 'crn', 'csn', 'ctn', 'cun', 'cvn', 'cwn', 'cxn', 'cyn', 'czn', 'dan', 'ean', 'fan', 'gan', 'han', 'ian', 'jan', 'kan', 'lan', 'man', 'nan', 'oan', 'pan', 'qan', 'ran', 'san', 'tan', 'uan', 'van', 'wan', 'xan', 'yan', 'zan']\n"
          ]
        }
      ],
      "source": [
        "\n",
        "def replace_letter(word, verbose=False):\n",
        "    letters = 'abcdefghijklmnopqrstuvwxyz'\n",
        "    replace_l = []\n",
        "    split_l = [(word[:i], word[i:]) for i in range(len(word))]\n",
        "    for s in split_l:\n",
        "        if len(s[1]) == 1:\n",
        "            for l in letters:\n",
        "                if l != s[1][0]:\n",
        "                    replace_l.append(s[0] + l)\n",
        "        elif len(s[1]) > 1:\n",
        "            for l in letters:\n",
        "                if l != s[1][0]:\n",
        "                    replace_l.append(s[0] + l + s[1][1:])\n",
        "    replace_set = set(replace_l)\n",
        "    replace_l = sorted(list(replace_set))\n",
        "    if verbose: print(f\"Input word = {word} \\nsplit_l = {split_l} \\nreplace_l = {replace_l}\")\n",
        "    return replace_l\n",
        "\n",
        "replace_l = replace_letter(word='can', verbose=True)\n"
      ]
    },
    {
      "cell_type": "code",
      "execution_count": 17,
      "id": "e3e7de0e",
      "metadata": {
        "id": "e3e7de0e",
        "outputId": "af739860-2d25-4a64-942c-81ea937aacd6",
        "colab": {
          "base_uri": "https://localhost:8080/"
        }
      },
      "outputs": [
        {
          "output_type": "stream",
          "name": "stdout",
          "text": [
            "Input word at \n",
            "split_l = [('', 'at'), ('a', 't'), ('at', '')] \n",
            "insert_l = ['aat', 'bat', 'cat', 'dat', 'eat', 'fat', 'gat', 'hat', 'iat', 'jat', 'kat', 'lat', 'mat', 'nat', 'oat', 'pat', 'qat', 'rat', 'sat', 'tat', 'uat', 'vat', 'wat', 'xat', 'yat', 'zat', 'aat', 'abt', 'act', 'adt', 'aet', 'aft', 'agt', 'aht', 'ait', 'ajt', 'akt', 'alt', 'amt', 'ant', 'aot', 'apt', 'aqt', 'art', 'ast', 'att', 'aut', 'avt', 'awt', 'axt', 'ayt', 'azt', 'ata', 'atb', 'atc', 'atd', 'ate', 'atf', 'atg', 'ath', 'ati', 'atj', 'atk', 'atl', 'atm', 'atn', 'ato', 'atp', 'atq', 'atr', 'ats', 'att', 'atu', 'atv', 'atw', 'atx', 'aty', 'atz']\n",
            "Number of strings output by insert_letter('at') is 78\n"
          ]
        }
      ],
      "source": [
        "\n",
        "def insert_letter(word, verbose=False):\n",
        "    letters = 'abcdefghijklmnopqrstuvwxyz'\n",
        "    insert_l = []\n",
        "    split_l = [(word[:i], word[i:]) for i in range(len(word)+1)]\n",
        "    for s in split_l:\n",
        "        for l in letters:\n",
        "            insert_l.append(s[0] + l + s[1])\n",
        "    if verbose: print(f\"Input word {word} \\nsplit_l = {split_l} \\ninsert_l = {insert_l}\")\n",
        "    return insert_l\n",
        "\n",
        "insert_l = insert_letter('at', True)\n",
        "print(f\"Number of strings output by insert_letter('at') is {len(insert_l)}\")\n"
      ]
    },
    {
      "cell_type": "markdown",
      "id": "53afb356",
      "metadata": {
        "id": "53afb356"
      },
      "source": [
        "### Combining Functions for Word Suggestions"
      ]
    },
    {
      "cell_type": "code",
      "execution_count": 20,
      "id": "15456ee0",
      "metadata": {
        "id": "15456ee0"
      },
      "outputs": [],
      "source": [
        "\n",
        "def edit_one_letter(word, allow_switches=True):\n",
        "    edit_one_set = set()\n",
        "    insert_l = insert_letter(word)\n",
        "    delete_l = delete_letter(word)\n",
        "    replace_l = replace_letter(word)\n",
        "    switch_l = switch_letter(word)\n",
        "    if allow_switches:\n",
        "        ans = insert_l + delete_l + replace_l + switch_l\n",
        "    else:\n",
        "        ans = insert_l + delete_l + replace_l\n",
        "    edit_one_set = set(ans)\n",
        "    return edit_one_set"
      ]
    },
    {
      "cell_type": "code",
      "source": [
        "def edit_one_letter(word, allow_switches=True):\n",
        "    edit_one_set = set()\n",
        "    insert_1 = insert_letter(word)\n",
        "    delete_1 = delete_letter(word)\n",
        "    replace_1 = replace_letter(word)\n",
        "    switch_1 = switch_letter(word)\n",
        "    if allow_switches:\n",
        "       ans = insert_1 + delete_1 + replace_1 + switch_1\n",
        "    else:\n",
        "      ans = insert_1 + delete_1 + replace_1\n",
        "    edit_one_set = set(ans)\n",
        "    return edit_one_set"
      ],
      "metadata": {
        "id": "bIUgBr8RpgHI"
      },
      "id": "bIUgBr8RpgHI",
      "execution_count": 19,
      "outputs": []
    },
    {
      "cell_type": "code",
      "source": [
        "tmp_word = \"at\"\n",
        "tmp_edit_one_set = edit_one_letter(tmp_word)\n",
        "tmp_edit_one_l = sorted(list(tmp_edit_one_set))\n",
        "\n",
        "print(f\"input word : {tmp_word} \\nedit_one_l \\n{tmp_edit_one_l}\\n\")\n",
        "print(f\"Number of outputs from edit_one_letter('at') is {len(edit_one_letter('at'))}\")"
      ],
      "metadata": {
        "id": "SYfhqSqsrZTJ",
        "outputId": "347450fb-3843-461d-fac2-a2e70bae1aa8",
        "colab": {
          "base_uri": "https://localhost:8080/"
        }
      },
      "id": "SYfhqSqsrZTJ",
      "execution_count": 21,
      "outputs": [
        {
          "output_type": "stream",
          "name": "stdout",
          "text": [
            "input word : at \n",
            "edit_one_l \n",
            "['a', 'aa', 'aat', 'ab', 'abt', 'ac', 'act', 'ad', 'adt', 'ae', 'aet', 'af', 'aft', 'ag', 'agt', 'ah', 'aht', 'ai', 'ait', 'aj', 'ajt', 'ak', 'akt', 'al', 'alt', 'am', 'amt', 'an', 'ant', 'ao', 'aot', 'ap', 'apt', 'aq', 'aqt', 'ar', 'art', 'as', 'ast', 'ata', 'atb', 'atc', 'atd', 'ate', 'atf', 'atg', 'ath', 'ati', 'atj', 'atk', 'atl', 'atm', 'atn', 'ato', 'atp', 'atq', 'atr', 'ats', 'att', 'atu', 'atv', 'atw', 'atx', 'aty', 'atz', 'au', 'aut', 'av', 'avt', 'aw', 'awt', 'ax', 'axt', 'ay', 'ayt', 'az', 'azt', 'bat', 'bt', 'cat', 'ct', 'dat', 'dt', 'eat', 'et', 'fat', 'ft', 'gat', 'gt', 'hat', 'ht', 'iat', 'it', 'jat', 'jt', 'kat', 'kt', 'lat', 'lt', 'mat', 'mt', 'nat', 'nt', 'oat', 'ot', 'pat', 'pt', 'qat', 'qt', 'rat', 'rt', 'sat', 'st', 't', 'ta', 'tat', 'tt', 'uat', 'ut', 'vat', 'vt', 'wat', 'wt', 'xat', 'xt', 'yat', 'yt', 'zat', 'zt']\n",
            "\n",
            "Number of outputs from edit_one_letter('at') is 129\n"
          ]
        }
      ]
    },
    {
      "cell_type": "code",
      "source": [
        "def edit_two_letters(word, allow_switches = True):\n",
        "    '''\n",
        "    Input:\n",
        "        word: the input string/word\n",
        "    Output:\n",
        "        edit_two_set: a set of strings with all possible two edits\n",
        "    '''\n",
        "\n",
        "    edit_two_set = set()\n",
        "    one_edit = edit_one_letter(word)\n",
        "    ans = []\n",
        "    for w in one_edit:\n",
        "        ans.append(w)\n",
        "        ans.extend(edit_one_letter(w))\n",
        "\n",
        "    edit_two_set = set(ans)\n",
        "\n",
        "    return edit_two_set"
      ],
      "metadata": {
        "id": "LnRaA6YXrcZ9"
      },
      "id": "LnRaA6YXrcZ9",
      "execution_count": 22,
      "outputs": []
    },
    {
      "cell_type": "code",
      "source": [
        "def edit_two_letters(word, allow_switches = True):\n",
        "\n",
        "  edit_two_set = set()\n",
        "  one_edit = edit_one_letter(word)\n",
        "  ans = []\n",
        "\n",
        "  for w in one_edit:\n",
        "    ans.append(w)\n",
        "    ans.extend(edit_one_letter(w))\n",
        "\n",
        "  edit_two_set = set(ans)\n",
        "\n",
        "  return edit_two_set"
      ],
      "metadata": {
        "id": "VNpRzqMUryY4"
      },
      "id": "VNpRzqMUryY4",
      "execution_count": 25,
      "outputs": []
    },
    {
      "cell_type": "code",
      "source": [
        "tmp_edit_two_set = edit_two_letters(\"a\")\n",
        "tmp_edit_two_l = sorted(list(tmp_edit_two_set))\n",
        "print(f\"Number of strings with edit distance of two: {len(tmp_edit_two_l)}\")\n",
        "print(f\"First 10 strings {tmp_edit_two_l[:10]}\")\n",
        "print(f\"Last 10 strings {tmp_edit_two_l[-10:]}\")\n",
        "print(f\"The data type of the returned object should be a set {type(tmp_edit_two_set)}\")\n",
        "print(f\"Number of strings that are 2 edit distances from 'at' is {len(edit_two_letters('at'))}\")"
      ],
      "metadata": {
        "id": "BKAeb2BNrg6S",
        "outputId": "e72b345c-4c05-4adb-8fe6-ab7bd15457c2",
        "colab": {
          "base_uri": "https://localhost:8080/"
        }
      },
      "id": "BKAeb2BNrg6S",
      "execution_count": 23,
      "outputs": [
        {
          "output_type": "stream",
          "name": "stdout",
          "text": [
            "Number of strings with edit distance of two: 2654\n",
            "First 10 strings ['', 'a', 'aa', 'aaa', 'aab', 'aac', 'aad', 'aae', 'aaf', 'aag']\n",
            "Last 10 strings ['zv', 'zva', 'zw', 'zwa', 'zx', 'zxa', 'zy', 'zya', 'zz', 'zza']\n",
            "The data type of the returned object should be a set <class 'set'>\n",
            "Number of strings that are 2 edit distances from 'at' is 7154\n"
          ]
        }
      ]
    },
    {
      "cell_type": "markdown",
      "id": "6f8c786b",
      "metadata": {
        "id": "6f8c786b"
      },
      "source": [
        "### Architecture Part 3: Probability Distribution"
      ]
    },
    {
      "cell_type": "code",
      "execution_count": 28,
      "id": "f63a5fe0",
      "metadata": {
        "id": "f63a5fe0",
        "outputId": "bac0990e-adc5-4cb7-8191-d88313633ce5",
        "colab": {
          "base_uri": "https://localhost:8080/"
        }
      },
      "outputs": [
        {
          "output_type": "stream",
          "name": "stdout",
          "text": [
            "an example key pair: Counter({'and': 490, 'the': 432, 'to': 414, 'my': 393, 'of': 370, 'i': 351, 'that': 323, 'in': 323, 'thy': 287, 'thou': 235, 's': 202, 'love': 194, 'with': 181, 'for': 172, 'is': 170, 'not': 167, 'a': 164, 'me': 164, 'but': 163, 'thee': 162, 'so': 145, 'be': 142, 'as': 121, 'all': 120, 'you': 112, 'it': 111, 'which': 108, 'his': 107, 'when': 106, 'this': 105, 'your': 100, 'by': 94, 'self': 88, 'doth': 88, 'do': 84, 'from': 82, 'on': 80, 'or': 79, 'no': 79, 'have': 77, 'then': 74, 'what': 73, 'beauty': 70, 'time': 70, 'are': 69, 'if': 68, 'o': 65, 'will': 64, 'more': 64, 'mine': 63, 'their': 63, 'shall': 59, 'heart': 58, 'sweet': 57, 'eyes': 53, 'st': 52, 'art': 52, 'nor': 52, 'they': 52, 'her': 51, 'yet': 51, 'than': 48, 'now': 46, 'should': 44, 'thine': 44, 'fair': 44, 'he': 44, 'can': 44, 'make': 43, 'one': 43, 'hath': 43, 'where': 41, 'still': 41, 'how': 40, 'eye': 40, 'him': 38, 'true': 38, 'like': 36, 'see': 35, 'am': 35, 'world': 33, 'she': 33, 'those': 33, 'though': 33, 'being': 32, 'some': 31, 'such': 31, 'own': 30, 'were': 30, 'who': 30, 'dost': 29, 'live': 29, 'upon': 29, 'every': 29, 'was': 29, 'day': 29, 'may': 29, 'say': 28, 'praise': 28, 'give': 27, 'most': 27, 'might': 26, 'new': 26, 'did': 26, 'let': 26, 'well': 26, 'at': 26, 'why': 25, 'show': 24, 'life': 24, 'since': 24, 'truth': 24, 'even': 24, 'best': 23, 'old': 22, 'look': 22, 'night': 22, 'dear': 22, 'thus': 22, 'these': 22, 'must': 21, 'would': 21, 'know': 21, 'men': 21, 'worth': 20, 'death': 20, 'part': 20, 'made': 19, 'face': 19, 'whose': 19, 'nothing': 19, 'alone': 19, 'summer': 19, 'there': 19, 'heaven': 19, 'false': 19, 'ill': 19, 'better': 19, 'too': 18, 'hand': 18, 'thought': 18, 'away': 18, 'against': 18, 'thoughts': 18, 'our': 18, 'days': 17, 'an': 17, 'much': 17, 'age': 17, 'up': 17, 'sight': 17, 'out': 17, 'hast': 17, 'mind': 17, 'hate': 17, 'other': 17, 'them': 17, 'therefore': 17, 'both': 17, 'name': 17, 'never': 16, 'youth': 16, 'nature': 16, 'er': 16, 'find': 16, 'had': 16, 'tongue': 16, 'muse': 16, 'far': 16, 'friend': 16, 'dead': 16, 'we': 15, 'tell': 15, 'each': 15, 'others': 15, 'good': 15, 'before': 15, 'verse': 15, 'come': 15, 'poor': 15, 'think': 15, 'proud': 14, 'gentle': 14, 'many': 14, 'wilt': 14, 'state': 14, 'till': 14, 'things': 14, 'bear': 13, 'use': 13, 'looks': 13, 'none': 13, 'hold': 13, 'first': 13, 'whilst': 13, 'black': 13, 'full': 13, 'take': 13, 'die': 12, 'making': 12, 'lies': 12, 'another': 12, 'hours': 12, 'prove': 12, 'end': 12, 'change': 12, 'kind': 12, 'mayst': 12, 'whom': 12, 'thing': 12, 'long': 12, 'earth': 12, 'ever': 12, 'sun': 12, 'seem': 12, 'tis': 12, 'soul': 12, 'woe': 12, 'lie': 12, 'desire': 11, 'bright': 11, 'within': 11, 'form': 11, 'shalt': 11, 'pleasure': 11, 'happy': 11, 'any': 11, 'grow': 11, 'after': 11, 'rich': 11, 'knows': 11, 'grace': 11, 'pride': 11, 'seen': 11, 'shame': 10, 'glass': 10, 'great': 10, 'leave': 10, 'place': 10, 'could': 10, 'keep': 10, 'call': 10, 'store': 10, 'again': 10, 'pen': 10, 'write': 10, 'once': 10, 'words': 10, 'loving': 10, 'deeds': 10, 'cannot': 10, 'found': 10, 'fire': 10, 'right': 10, 'spirit': 10, 'pity': 9, 'treasure': 9, 'back': 9, 'beauteous': 9, 'gone': 9, 'lives': 9, 'th': 9, 'times': 9, 'strong': 9, 'without': 9, 'decay': 9, 'past': 9, 'fortune': 9, 'stay': 9, 'lose': 9, 'mistress': 9, 'loss': 9, 'two': 9, 'although': 9, 'power': 9, 'memory': 8, 'cruel': 8, 'brow': 8, 'deep': 8, 'child': 8, 'blood': 8, 'lovely': 8, 'gives': 8, 'winter': 8, 'leaves': 8, 'flowers': 8, 'joy': 8, 'fear': 8, 'save': 8, 'blessed': 8, 'stand': 8, 'lines': 8, 'skill': 8, 'born': 8, 'put': 8, 'body': 8, 'glory': 8, 'shadow': 8, 'view': 8, 'makes': 8, 'disgrace': 8, 'speak': 8, 'faults': 8, 'bring': 8, 'loves': 8, 'delight': 8, 'lest': 8, 'sake': 8, 'thence': 8, 'hell': 8, 'sin': 8, 'three': 8, 'tender': 7, 'light': 7, 'fresh': 7, 'waste': 7, 'excuse': 7, 'cold': 7, 'through': 7, 'canst': 7, 'very': 7, 'same': 7, 'ten': 7, 'living': 7, 'hear': 7, 'war': 7, 'parts': 7, 'sing': 7, 'ah': 7, 'behold': 7, 'white': 7, 'honour': 7, 'outward': 7, 'less': 7, 'rest': 7, 'wide': 7, 'worst': 7, 'man': 7, 'breast': 7, 'sad': 7, 'll': 7, 'forth': 7, 'roses': 7, 'steal': 7, 'whether': 7, 'present': 7, 'straight': 7, 'set': 7, 'breath': 7, 'virtue': 7, 'bad': 7, 'lips': 7, 'foul': 7, 'mad': 7, 'swear': 7, 'rose': 6, 'only': 6, 'due': 6, 'despite': 6, 'spend': 6, 'having': 6, 'dwell': 6, 'play': 6, 'ere': 6, 'shouldst': 6, 'head': 6, 'under': 6, 'way': 6, 'unless': 6, 'music': 6, 'sweets': 6, 'lov': 6, 'gainst': 6, 'green': 6, 'go': 6, 'themselves': 6, 'hence': 6, 'longer': 6, 'eternal': 6, 'read': 6, 'shows': 6, 'rhyme': 6, 'compare': 6, 'sometime': 6, 'swift': 6, 'woman': 6, 'strength': 6, 'dumb': 6, 'writ': 6, 'wit': 6, 'book': 6, 'hope': 6, 'blind': 6, 'return': 6, 'grief': 6, 'wealth': 6, 'precious': 6, 'while': 6, 'ring': 6, 'enough': 6, 'argument': 6, 'heavy': 6, 'dull': 6, 'side': 6, 'care': 6, 'need': 6, 'strange': 6, 'slave': 6, 'been': 6, 'painting': 6, 'taught': 6, 'fears': 6, 'seeing': 6, 'spent': 6, 'sick': 6, 'reason': 6, 'fairest': 5, 'ornament': 5, 'spring': 5, 'else': 5, 'mother': 5, 'tomb': 5, 'calls': 5, 'wrinkles': 5, 'golden': 5, 'lend': 5, 'quite': 5, 'left': 5, 'gracious': 5, 'mortal': 5, 'chide': 5, 'shape': 5, 'beloved': 5, 'least': 5, 'year': 5, 'gave': 5, 'gift': 5, 'barren': 5, 'yours': 5, 'here': 5, 'rage': 5, 'stars': 5, 'oft': 5, 'doom': 5, 'date': 5, 'holds': 5, 'wish': 5, 'painted': 5, 'keeps': 5, 'graces': 5, 'antique': 5, 'short': 5, 'lived': 5, 'wrong': 5, 'hue': 5, 'purpose': 5, 'sea': 5, 'truly': 5, 'trust': 5, 'speaking': 5, 'wherein': 5, 'done': 5, 'boast': 5, 'buried': 5, 'merit': 5, 'worthy': 5, 'scope': 5, 'moan': 5, 'stol': 5, 'n': 5, 'loved': 5, 'birth': 5, 'hide': 5, 'base': 5, 'sorrow': 5, 'tears': 5, 'canker': 5, 'sweetest': 5, 'needs': 5, 'spite': 5, 'subject': 5, 'into': 5, 'invention': 5, 'pain': 5, 't': 5, 'absence': 5, 'kill': 5, 'large': 5, 'water': 5, 'slow': 5, 'motion': 5, 'down': 5, 'says': 5, 'took': 5, 'judgment': 5, 'worse': 5, 'near': 5, 'flower': 5, 'faith': 5, 'tied': 5, 'rank': 5, 'brain': 5, 'saw': 5, 'grew': 5, 'brand': 5, 'cure': 5, 'angel': 5, 'increase': 4, 'abundance': 4, 'sum': 4, 'count': 4, 'april': 4, 'prime': 4, 'remembered': 4, 'single': 4, 'image': 4, 'lends': 4, 'free': 4, 'given': 4, 'unused': 4, 'used': 4, 'work': 4, 'frame': 4, 'substance': 4, 'worms': 4, 'weary': 4, 'mark': 4, 'husband': 4, 'song': 4, 'seeming': 4, 'behind': 4, 'bosom': 4, 'grant': 4, 'fast': 4, 'rude': 4, 'heat': 4, 'beauties': 4, 'scythe': 4, 'lease': 4, 'pluck': 4, 'methinks': 4, 'evil': 4, 'minutes': 4, 'grows': 4, 'wherefore': 4, 'inward': 4, 'believe': 4, 'high': 4, 'numbers': 4, 'poet': 4, 'touches': 4, 'ne': 4, 'buds': 4, 'shade': 4, 'crime': 4, 'young': 4, 'fell': 4, 'rehearse': 4, 'rare': 4, 'air': 4, 'babe': 4, 'turns': 4, 'want': 4, 'public': 4, 'frown': 4, 'forgot': 4, 'removed': 4, 'bare': 4, 'respect': 4, 'dare': 4, 'toil': 4, 'tired': 4, 'jewel': 4, 'either': 4, 'farther': 4, 'please': 4, 'clouds': 4, 'contented': 4, 'break': 4, 'lack': 4, 'account': 4, 'hearts': 4, 'holy': 4, 'appear': 4, 'grown': 4, 'sovereign': 4, 'shine': 4, 'hour': 4, 'wound': 4, 'sense': 4, 'thief': 4, 'help': 4, 'report': 4, 'comfort': 4, 'crowned': 4, 'leisure': 4, 'blame': 4, 'taste': 4, 'greater': 4, 'absent': 4, 'said': 4, 'gain': 4, 'sleep': 4, 'assured': 4, 'told': 4, 'picture': 4, 'seek': 4, 'groan': 4, 'cheek': 4, 'appetite': 4, 'morrow': 4, 'former': 4, 'second': 4, 'knife': 4, 'brass': 4, 'win': 4, 'forsworn': 4, 'tongues': 4, 'add': 4, 'smell': 4, 'weeds': 4, 'common': 4, 'lost': 4, 'knowing': 4, 'cheeks': 4, 'story': 4, 'praises': 4, 'above': 4, 'errors': 4, 'lays': 4, 'red': 4, 'over': 4, 'sinful': 4, 'just': 4, 'catch': 4, 'laid': 4, 'oaths': 4, 'bath': 4, 'decease': 3, 'heir': 3, 'flame': 3, 'eat': 3, 'grave': 3, 'weed': 3, 'answer': 3, 'feel': 3, 'repair': 3, 'posterity': 3, 'windows': 3, 'abuse': 3, 'audit': 3, 'confounds': 3, 'effect': 3, 'distilled': 3, 'pay': 3, 'happier': 3, 'conquest': 3, 'lo': 3, 'heavenly': 3, 'son': 3, 'ear': 3, 'widow': 3, 'weep': 3, 'kept': 3, 'murd': 3, 'rous': 3, 'fairer': 3, 'brave': 3, 'among': 3, 'defence': 3, 'takes': 3, 'fall': 3, 'seasons': 3, 'brief': 3, 'rain': 3, 'princes': 3, 'knowledge': 3, 'constant': 3, 'wouldst': 3, 'nought': 3, 'whereon': 3, 'height': 3, 'wear': 3, 'conceit': 3, 'bloody': 3, 'tyrant': 3, 'means': 3, 'maiden': 3, 'virtuous': 3, 'drawn': 3, 'filled': 3, 'half': 3, 'number': 3, 'shake': 3, 'hot': 3, 'complexion': 3, 'course': 3, 'blunt': 3, 'burn': 3, 'forbid': 3, 'draw': 3, 'women': 3, 'wert': 3, 'moon': 3, 'fixed': 3, 'cover': 3, 'bearing': 3, 'gav': 3, 'forget': 3, 'perfect': 3, 'expressed': 3, 'painter': 3, 'therein': 3, 'cunning': 3, 'favour': 3, 'triumph': 3, 'fight': 3, 'thousand': 3, 'duty': 3, 'send': 3, 'witness': 3, 'wanting': 3, 'star': 3, 'haste': 3, 'bed': 3, 'travel': 3, 'looking': 3, 'blot': 3, 'flatter': 3, 'daily': 3, 'friends': 3, 'almost': 3, 'haply': 3, 'expense': 3, 'lovers': 3, 'survey': 3, 'growing': 3, 'brought': 3, 'style': 3, 'basest': 3, 'ride': 3, 'west': 3, 'alack': 3, 'masked': 3, 'stain': 3, 'didst': 3, 'bears': 3, 'offence': 3, 'cross': 3, 'thorns': 3, 'sins': 3, 'fault': 3, 'lawful': 3, 'plea': 3, 'twain': 3, 'remain': 3, 'evermore': 3, 'dearest': 3, 'despised': 3, 'vulgar': 3, 'outlive': 3, 'manners': 3, 'torment': 3, 'injury': 3, 'foes': 3, 'pretty': 3, 'because': 3, 'approve': 3, 'losing': 3, 'flattery': 3, 'dark': 3, 'shadows': 3, 'clear': 3, 'flesh': 3, 'matter': 3, 'foot': 3, 'soon': 3, 'sure': 3, 'chest': 3, 'whence': 3, 'prize': 3, 'pass': 3, 'greet': 3, 'reasons': 3, 'desert': 3, 'cause': 3, 'teach': 3, 'case': 3, 'wretch': 3, 'speed': 3, 'pace': 3, 'blest': 3, 'tend': 3, 'odour': 3, 'hang': 3, 'gilded': 3, 'stone': 3, 'quick': 3, 'record': 3, 'edge': 3, 'feeding': 3, 'fill': 3, 'ocean': 3, 'shore': 3, 'thrice': 3, 'fool': 3, 'god': 3, 'control': 3, 'check': 3, 'doing': 3, 'five': 3, 'character': 3, 'wonder': 3, 'main': 3, 'stands': 3, 'mock': 3, 'home': 3, 'elsewhere': 3, 'advantage': 3, 'action': 3, 'steel': 3, 'sway': 3, 'simple': 3, 'infection': 3, 'bastard': 3, 'mend': 3, 'slander': 3, 'suspect': 3, 'flies': 3, 'mourn': 3, 'vile': 3, 'line': 3, 'thinking': 3, 'birds': 3, 'ground': 3, 'pine': 3, 'dial': 3, 'eternity': 3, 'acquaintance': 3, 'got': 3, 'double': 3, 'works': 3, 'fame': 3, 'sail': 3, 'anew': 3, 'silence': 3, 'bonds': 3, 'vow': 3, 'general': 3, 'wretched': 3, 'turn': 3, 'seemed': 3, 'despair': 3, 'growth': 3, 'colour': 3, 'constancy': 3, 'confined': 3, 'boy': 3, 'proved': 3, 'proof': 3, 'receives': 3, 'plague': 3, 'minds': 3, 'taken': 3, 'whereto': 3, 'unkind': 3, 'wood': 3, 'fingers': 3, 'kiss': 3, 'perjured': 3, 'came': 3, 'sworn': 3, 'conscience': 3, 'creatures': 2, 'thereby': 2, 'riper': 2, 'contracted': 2, 'feed': 2, 'bud': 2, 'content': 2, 'churl': 2, 'mak': 2, 'winters': 2, 'besiege': 2, 'tattered': 2, 'small': 2, 'held': 2, 'lusty': 2, 'womb': 2, 'husbandry': 2, 'fond': 2, 'stop': 2, 'niggard': 2, 'bounteous': 2, 'usurer': 2, 'deceive': 2, 'gaze': 2, 'tyrants': 2, 'leads': 2, 'hideous': 2, 'sap': 2, 'checked': 2, 'bareness': 2, 'pent': 2, 'walls': 2, 'remembrance': 2, 'meet': 2, 'willing': 2, 'breed': 2, 'depart': 2, 'serving': 2, 'sacred': 2, 'majesty': 2, 'steep': 2, 'resembling': 2, 'attending': 2, 'pilgrimage': 2, 'pitch': 2, 'fore': 2, 'converted': 2, 'going': 2, 'unlooked': 2, 'delights': 2, 'receiv': 2, 'concord': 2, 'sounds': 2, 'married': 2, 'sweetly': 2, 'mutual': 2, 'pleasing': 2, 'note': 2, 'speechless': 2, 'sings': 2, 'wail': 2, 'children': 2, 'himself': 2, 'commits': 2, 'deny': 2, 'possessed': 2, 'chief': 2, 'presence': 2, 'bestow': 2, 'folly': 2, 'bounty': 2, 'copy': 2, 'clock': 2, 'tells': 2, 'violet': 2, 'lofty': 2, 'canopy': 2, 'borne': 2, 'question': 2, 'wastes': 2, 'forsake': 2, 'coming': 2, 'prepare': 2, 'issue': 2, 'father': 2, 'judgement': 2, 'wind': 2, 'thrive': 2, 'perfection': 2, 'little': 2, 'huge': 2, 'stage': 2, 'influence': 2, 'comment': 2, 'youthful': 2, 'inconstant': 2, 'sets': 2, 'wasteful': 2, 'fortify': 2, 'counterfeit': 2, 'pencil': 2, 'neither': 2, 'deserts': 2, 'faces': 2, 'alive': 2, 'twice': 2, 'winds': 2, 'shines': 2, 'often': 2, 'gold': 2, 'changing': 2, 'fade': 2, 'possession': 2, 'wand': 2, 'breathe': 2, 'keen': 2, 'fierce': 2, 'glad': 2, 'whate': 2, 'fading': 2, 'allow': 2, 'pattern': 2, 'master': 2, 'acquainted': 2, 'fashion': 2, 'theirs': 2, 'gilding': 2, 'controlling': 2, 'souls': 2, 'created': 2, 'wrought': 2, 'doting': 2, 'addition': 2, 'slain': 2, 'beside': 2, 'replete': 2, 'burthen': 2, 'plead': 2, 'learn': 2, 'silent': 2, 'belongs': 2, 'fine': 2, 'bars': 2, 'razed': 2, 'remove': 2, 'strongly': 2, 'moving': 2, 'limbs': 2, 'journey': 2, 'abide': 2, 'eyelids': 2, 'open': 2, 'sightless': 2, 'hung': 2, 'benefit': 2, 'oppressed': 2, 'enemies': 2, 'reign': 2, 'hands': 2, 'torture': 2, 'off': 2, 'sorrows': 2, 'nightly': 2, 'stronger': 2, 'cries': 2, 'curse': 2, 'sullen': 2, 'hymns': 2, 'brings': 2, 'scorn': 2, 'kings': 2, 'hid': 2, 'dateless': 2, 'vanished': 2, 'heavily': 2, 'supposed': 2, 'obsequious': 2, 'interest': 2, 'survive': 2, 'dust': 2, 'deceased': 2, 'lover': 2, 'reserve': 2, 'vouchsafe': 2, 'dearer': 2, 'died': 2, 'poets': 2, 'morning': 2, 'mountain': 2, 'pale': 2, 'alchemy': 2, 'anon': 2, 'stealing': 2, 'unseen': 2, 'morn': 2, 'triumphant': 2, 'cloud': 2, 'rotten': 2, 'salve': 2, 'physic': 2, 'weak': 2, 'ransom': 2, 'eclipses': 2, 'trespass': 2, 'amiss': 2, 'sensual': 2, 'sourly': 2, 'robs': 2, 'kindness': 2, 'sort': 2, 'lame': 2, 'sit': 2, 'invent': 2, 'aught': 2, 'slight': 2, 'us': 2, 'sour': 2, 'praising': 2, 'hadst': 2, 'blamed': 2, 'wilful': 2, 'robbery': 2, 'poverty': 2, 'lascivious': 2, 'wrongs': 2, 'liberty': 2, 'years': 2, 'temptation': 2, 'assailed': 2, 'ay': 2, 'mightst': 2, 'seat': 2, 'forbear': 2, 'lead': 2, 'ye': 2, 'lay': 2, 'wink': 2, 'unrespected': 2, 'dreams': 2, 'clearer': 2, 'nights': 2, 'injurious': 2, 'farthest': 2, 'nimble': 2, 'leap': 2, 'miles': 2, 'elements': 2, 'health': 2, 'title': 2, 'quest': 2, 'feast': 2, 'guest': 2, 'careful': 2, 'falsehood': 2, 'jewels': 2, 'prey': 2, 'locked': 2, 'proves': 2, 'thievish': 2, 'cast': 2, 'called': 2, 'strangely': 2, 'guard': 2, 'beast': 2, 'spur': 2, 'sharp': 2, 'horse': 2, 'towards': 2, 'run': 2, 'point': 2, 'seldom': 2, 'captain': 2, 'special': 2, 'imprisoned': 2, 'lacked': 2, 'whereof': 2, 'deaths': 2, 'powerful': 2, 'root': 2, 'force': 2, 'hungry': 2, 'perpetual': 2, 'welcome': 2, 'watch': 2, 'bitterness': 2, 'servant': 2, 'affairs': 2, 'thinks': 2, 'vassal': 2, 'bound': 2, 'suffer': 2, 'patience': 2, 'bide': 2, 'charter': 2, 'belong': 2, 'wait': 2, 'wits': 2, 'subjects': 2, 'goes': 2, 'crooked': 2, 'confound': 2, 'feeds': 2, 'shames': 2, 'idle': 2, 'remedy': 2, 'grounded': 2, 'antiquity': 2, 'king': 2, 'cost': 2, 'outworn': 2, 'soil': 2, 'ink': 2, 'cry': 2, 'lively': 2, 'veins': 2, 'last': 2, 'map': 2, 'gay': 2, 'shown': 2, 'guess': 2, 'measure': 2, 'defect': 2, 'crow': 2, 'pure': 2, 'passed': 2, 'tie': 2, 'envy': 2, 'fled': 2, 'nay': 2, 'remember': 2, 'wise': 2, 'devise': 2, 'untrue': 2, 'yellow': 2, 'ruined': 2, 'seest': 2, 'bail': 2, 'showers': 2, 'peace': 2, 'twixt': 2, 'doubting': 2, 'counting': 2, 'possessing': 2, 'glance': 2, 'aside': 2, 'compounds': 2, 'noted': 2, 'word': 2, 'telling': 2, 'learning': 2, 'ignorance': 2, 'added': 2, 'learned': 2, 'aid': 2, 'pays': 2, 'humble': 2, 'saucy': 2, 'bark': 2, 'worthless': 2, 'yield': 2, 'monument': 2, 'finding': 2, 'gross': 2, 'quill': 2, 'mute': 2, 'example': 2, 'comments': 2, 'affords': 2, 'praised': 2, 'something': 2, 'spirits': 2, 'giving': 2, 'riches': 2, 'comes': 2, 'dream': 2, 'bending': 2, 'injuries': 2, 'vantage': 2, 'desired': 2, 'walks': 2, 'bent': 2, 'bow': 2, 'garments': 2, 'hawks': 2, 'humour': 2, 'adjunct': 2, 'finds': 2, 'depends': 2, 'vex': 2, 'deceived': 2, 'altered': 2, 'creation': 2, 'sweetness': 2, 'lords': 2, 'excellence': 2, 'sport': 2, 'mansion': 2, 'esteemed': 2, 'deemed': 2, 'betray': 2, 'everywhere': 2, 'autumn': 2, 'unfathered': 2, 'lily': 2, 'dyed': 2, 'blushing': 2, 'esteem': 2, 'rise': 2, 'prevent': 2, 'neglect': 2, 'seems': 2, 'turned': 2, 'perfumes': 2, 'wondrous': 2, 'looked': 2, 'forfeit': 2, 'express': 2, 'divine': 2, 'bred': 2, 'frailties': 2, 'alas': 2, 'newer': 2, 'next': 2, 'guilty': 2, 'goddess': 2, 'drink': 2, 'potions': 2, 'bitter': 2, 'strive': 2, 'objects': 2, 'palate': 2, 'vows': 2, 'alters': 2, 'shaken': 2, 'unknown': 2, 'accuse': 2, 'level': 2, 'urge': 2, 'maladies': 2, 'shun': 2, 'policy': 2, 'ills': 2, 'healthful': 2, 'goodness': 2, 'hopes': 2, 'fever': 2, 'built': 2, 'unkindness': 2, 'becomes': 2, 'feeling': 2, 'wills': 2, 'tables': 2, 'bold': 2, 'discontent': 2, 'bore': 2, 'render': 2, 'fickle': 2, 'borrowed': 2, 'profaned': 2, 'mourners': 2, 'becoming': 2, 'jacks': 2, 'lust': 2, 'extreme': 2, 'sooner': 2, 'pursuit': 2, 'wires': 2, 'sound': 2, 'belied': 2, 'disdain': 2, 'mourning': 2, 'suit': 2, 'fulfil': 2, 'corrupt': 2, 'vainly': 2, 'despise': 2, 'dote': 2, 'broke': 2, 'chase': 2, 'follow': 2, 'fiend': 2, 'abhor': 2, 'cupid': 2, 'asleep': 2, 'sonnets': 1, 'william': 1, 'shakespeare': 1, 'substantial': 1, 'fuel': 1, 'famine': 1, 'foe': 1, 'herald': 1, 'gaudy': 1, 'buriest': 1, 'niggarding': 1, 'glutton': 1, 'forty': 1, 'dig': 1, 'trenches': 1, 'field': 1, 'livery': 1, 'gazed': 1, 'asked': 1, 'sunken': 1, 'eating': 1, 'thriftless': 1, 'deserved': 1, 'couldst': 1, 'proving': 1, 'succession': 1, 'warm': 1, 'viewest': 1, 'renewest': 1, 'beguile': 1, 'unbless': 1, 'uneared': 1, 'disdains': 1, 'tillage': 1, 'dies': 1, 'unthrifty': 1, 'loveliness': 1, 'legacy': 1, 'bequest': 1, 'frank': 1, 'largess': 1, 'profitless': 1, 'sums': 1, 'traffic': 1, 'acceptable': 1, 'tombed': 1, 'executor': 1, 'unfair': 1, 'fairly': 1, 'excel': 1, 'resting': 1, 'frost': 1, 'snowed': 1, 'distillation': 1, 'liquid': 1, 'prisoner': 1, 'bereft': 1, 'leese': 1, 'ragged': 1, 'deface': 1, 'vial': 1, 'killed': 1, 'forbidden': 1, 'usury': 1, 'happies': 1, 'loan': 1, 'refigured': 1, 'leaving': 1, 'willed': 1, 'orient': 1, 'lifts': 1, 'burning': 1, 'homage': 1, 'appearing': 1, 'climbed': 1, 'hill': 1, 'middle': 1, 'adore': 1, 'highmost': 1, 'car': 1, 'feeble': 1, 'reeleth': 1, 'duteous': 1, 'low': 1, 'tract': 1, 'noon': 1, 'diest': 1, 'get': 1, 'sadly': 1, 'gladly': 1, 'annoy': 1, 'tuned': 1, 'unions': 1, 'offend': 1, 'singleness': 1, 'string': 1, 'strikes': 1, 'ordering': 1, 'sire': 1, 'wet': 1, 'consum': 1, 'issueless': 1, 'hap': 1, 'makeless': 1, 'wife': 1, 'private': 1, 'unthrift': 1, 'shifts': 1, 'enjoys': 1, 'user': 1, 'destroys': 1, 'toward': 1, 'sits': 1, 'unprovident': 1, 'evident': 1, 'stick': 1, 'conspire': 1, 'seeking': 1, 'roof': 1, 'ruinate': 1, 'lodged': 1, 'hearted': 1, 'wane': 1, 'departest': 1, 'youngly': 1, 'convertest': 1, 'herein': 1, 'wisdom': 1, 'minded': 1, 'cease': 1, 'threescore': 1, 'harsh': 1, 'featureless': 1, 'barrenly': 1, 'perish': 1, 'endowed': 1, 'cherish': 1, 'carved': 1, 'seal': 1, 'meant': 1, 'print': 1, 'sunk': 1, 'sable': 1, 'curls': 1, 'silvered': 1, 'trees': 1, 'erst': 1, 'herd': 1, 'girded': 1, 'sheaves': 1, 'bier': 1, 'bristly': 1, 'beard': 1, 'semblance': 1, 'determination': 1, 'lets': 1, 'house': 1, 'uphold': 1, 'stormy': 1, 'gusts': 1, 'unthrifts': 1, 'astronomy': 1, 'luck': 1, 'plagues': 1, 'dearths': 1, 'quality': 1, 'pointing': 1, 'thunder': 1, 'predict': 1, 'derive': 1, 'together': 1, 'convert': 1, 'prognosticate': 1, 'consider': 1, 'moment': 1, 'presenteth': 1, 'secret': 1, 'perceive': 1, 'plants': 1, 'cheered': 1, 'sky': 1, 'vaunt': 1, 'decrease': 1, 'debateth': 1, 'sullied': 1, 'engraft': 1, 'mightier': 1, 'top': 1, 'gardens': 1, 'unset': 1, 'liker': 1, 'pupil': 1, 'hides': 1, 'touched': 1, 'earthly': 1, 'papers': 1, 'yellowed': 1, 'scorned': 1, 'rights': 1, 'termed': 1, 'stretched': 1, 'metre': 1, 'temperate': 1, 'rough': 1, 'darling': 1, 'dimmed': 1, 'declines': 1, 'chance': 1, 'untrimmed': 1, 'ow': 1, 'brag': 1, 'devouring': 1, 'lion': 1, 'paws': 1, 'devour': 1, 'brood': 1, 'teeth': 1, 'tiger': 1, 'jaws': 1, 'phoenix': 1, 'sorry': 1, 'fleet': 1, 'footed': 1, 'heinous': 1, 'carve': 1, 'untainted': 1, 'succeeding': 1, 'passion': 1, 'shifting': 1, 'rolling': 1, 'object': 1, 'whereupon': 1, 'gazeth': 1, 'hues': 1, 'steals': 1, 'amazeth': 1, 'defeated': 1, 'adding': 1, 'pricked': 1, 'stirred': 1, 'couplement': 1, 'gems': 1, 'rondure': 1, 'hems': 1, 'candles': 1, 'hearsay': 1, 'sell': 1, 'persuade': 1, 'furrows': 1, 'expiate': 1, 'seemly': 1, 'raiment': 1, 'elder': 1, 'thyself': 1, 'wary': 1, 'chary': 1, 'nurse': 1, 'faring': 1, 'presume': 1, 'unperfect': 1, 'actor': 1, 'weakens': 1, 'ceremony': 1, 'rite': 1, 'ercharged': 1, 'eloquence': 1, 'presagers': 1, 'recompense': 1, 'played': 1, 'stelled': 1, 'table': 1, 'perspective': 1, 'pictured': 1, 'shop': 1, 'hanging': 1, 'glazed': 1, 'peep': 1, 'titles': 1, 'favourites': 1, 'spread': 1, 'marigold': 1, 'painful': 1, 'warrior': 1, 'famoused': 1, 'victories': 1, 'foiled': 1, 'toiled': 1, 'lord': 1, 'vassalage': 1, 'knit': 1, 'written': 1, 'embassage': 1, 'naked': 1, 'whatsoever': 1, 'guides': 1, 'points': 1, 'graciously': 1, 'aspect': 1, 'puts': 1, 'apparel': 1, 'respose': 1, 'begins': 1, 'expired': 1, 'intend': 1, 'zealous': 1, 'drooping': 1, 'darkness': 1, 'imaginary': 1, 'presents': 1, 'ghastly': 1, 'quiet': 1, 'plight': 1, 'debarred': 1, 'oppression': 1, 'eased': 1, 'consent': 1, 'complain': 1, 'swart': 1, 'complexioned': 1, 'sparkling': 1, 'twire': 1, 'gild': 1, 'length': 1, 'beweep': 1, 'outcast': 1, 'trouble': 1, 'deaf': 1, 'bootless': 1, 'fate': 1, 'wishing': 1, 'featured': 1, 'desiring': 1, 'enjoy': 1, 'despising': 1, 'lark': 1, 'arising': 1, 'gate': 1, 'sessions': 1, 'summon': 1, 'sigh': 1, 'sought': 1, 'woes': 1, 'drown': 1, 'flow': 1, 'afresh': 1, 'cancelled': 1, 'grieve': 1, 'grievances': 1, 'foregone': 1, 'bemoaned': 1, 'paid': 1, 'losses': 1, 'restored': 1, 'endeared': 1, 'lacking': 1, 'reigns': 1, 'tear': 1, 'religious': 1, 'hidden': 1, 'trophies': 1, 'images': 1, 'bones': 1, 're': 1, 'bett': 1, 'outstripped': 1, 'exceeded': 1, 'march': 1, 'ranks': 1, 'equipage': 1, 'glorious': 1, 'tops': 1, 'kissing': 1, 'meadows': 1, 'streams': 1, 'permit': 1, 'ugly': 1, 'rack': 1, 'celestial': 1, 'forlorn': 1, 'visage': 1, 'early': 1, 'splendour': 1, 'region': 1, 'whit': 1, 'disdaineth': 1, 'suns': 1, 'staineth': 1, 'promise': 1, 'cloak': 1, 'ertake': 1, 'hiding': 1, 'brav': 1, 'ry': 1, 'smoke': 1, 'dry': 1, 'storm': 1, 'beaten': 1, 'heals': 1, 'cures': 1, 'repent': 1, 'offender': 1, 'relief': 1, 'pearl': 1, 'sheds': 1, 'grieved': 1, 'silver': 1, 'fountains': 1, 'mud': 1, 'loathsome': 1, 'authorizing': 1, 'corrupting': 1, 'salving': 1, 'excusing': 1, 'adverse': 1, 'party': 1, 'advocate': 1, 'commence': 1, 'civil': 1, 'accessary': 1, 'confess': 1, 'undivided': 1, 'blots': 1, 'separable': 1, 'alter': 1, 'sole': 1, 'acknowledge': 1, 'bewailed': 1, 'guilt': 1, 'decrepit': 1, 'active': 1, 'entitled': 1, 'engrafted': 1, 'sufficed': 1, 'pour': 1, 'excellent': 1, 'paper': 1, 'thanks': 1, 'perusal': 1, 'tenth': 1, 'nine': 1, 'rhymers': 1, 'invocate': 1, 'curious': 1, 'divided': 1, 'separation': 1, 'deserv': 1, 'entertain': 1, 'teachest': 1, 'yea': 1, 'receivest': 1, 'usest': 1, 'deceivest': 1, 'refusest': 1, 'forgive': 1, 'known': 1, 'spites': 1, 'befits': 1, 'follows': 1, 'won': 1, 'woos': 1, 'prevailed': 1, 'straying': 1, 'riot': 1, 'forced': 1, 'twofold': 1, 'hers': 1, 'tempting': 1, 'dearly': 1, 'wailing': 1, 'nearly': 1, 'offenders': 1, 'suff': 1, 'darkly': 1, 'directed': 1, 'unseeing': 1, 'imperfect': 1, 'distance': 1, 'space': 1, 'limits': 1, 'remote': 1, 'jump': 1, 'land': 1, 'kills': 1, 'lengths': 1, 'attend': 1, 'receiving': 1, 'badges': 1, 'purging': 1, 'wherever': 1, 'slide': 1, 'quicker': 1, 'embassy': 1, 'four': 1, 'sinks': 1, 'melancholy': 1, 'until': 1, 'composition': 1, 'recured': 1, 'messengers': 1, 'returned': 1, 'recounting': 1, 'divide': 1, 'bar': 1, 'freedom': 1, 'closet': 1, 'pierced': 1, 'crystal': 1, 'defendant': 1, 'appearance': 1, 'impanelled': 1, 'tenants': 1, 'verdict': 1, 'determined': 1, 'moiety': 1, 'betwixt': 1, 'league': 1, 'unto': 1, 'famished': 1, 'sighs': 1, 'smother': 1, 'banquet': 1, 'bids': 1, 'share': 1, 'move': 1, 'awakes': 1, 'trifle': 1, 'truest': 1, 'thrust': 1, 'wards': 1, 'trifles': 1, 'greatest': 1, 'closure': 1, 'defects': 1, 'utmost': 1, 'advised': 1, 'respects': 1, 'scarcely': 1, 'settled': 1, 'gravity': 1, 'ensconce': 1, 'uprear': 1, 'laws': 1, 'allege': 1, 'repose': 1, 'measured': 1, 'plods': 1, 'dully': 1, 'weight': 1, 'instinct': 1, 'rider': 1, 'provoke': 1, 'sometimes': 1, 'anger': 1, 'thrusts': 1, 'answers': 1, 'spurring': 1, 'onward': 1, 'bearer': 1, 'posting': 1, 'extremity': 1, 'mounted': 1, 'winged': 1, 'neigh': 1, 'fiery': 1, 'race': 1, 'jade': 1, 'went': 1, 'key': 1, 'blunting': 1, 'feasts': 1, 'solemn': 1, 'stones': 1, 'thinly': 1, 'placed': 1, 'carcanet': 1, 'wardrobe': 1, 'robe': 1, 'instant': 1, 'unfolding': 1, 'worthiness': 1, 'millions': 1, 'describe': 1, 'adonis': 1, 'poorly': 1, 'imitated': 1, 'helen': 1, 'grecian': 1, 'tires': 1, 'foison': 1, 'external': 1, 'deem': 1, 'blooms': 1, 'dye': 1, 'perfumed': 1, 'tincture': 1, 'wantonly': 1, 'discloses': 1, 'unwooed': 1, 'odours': 1, 'vade': 1, 'distills': 1, 'marble': 1, 'monuments': 1, 'contents': 1, 'unswept': 1, 'besmeared': 1, 'sluttish': 1, 'statues': 1, 'overturn': 1, 'broils': 1, 'masonry': 1, 'mars': 1, 'sword': 1, 'oblivious': 1, 'enmity': 1, 'room': 1, 'ending': 1, 'arise': 1, 'renew': 1, 'blunter': 1, 'allayed': 1, 'sharpened': 1, 'fulness': 1, 'dulness': 1, 'interim': 1, 'banks': 1, 'wished': 1, 'services': 1, 'require': 1, 'bid': 1, 'adieu': 1, 'jealous': 1, 'suppose': 1, 'crave': 1, 'beck': 1, 'tame': 1, 'sufferance': 1, 'accusing': 1, 'list': 1, 'privilage': 1, 'pardon': 1, 'waiting': 1, 'brains': 1, 'beguiled': 1, 'labouring': 1, 'amis': 1, 'backward': 1, 'hundred': 1, 'courses': 1, 'composed': 1, 'mended': 1, 'revolution': 1, 'admiring': 1, 'waves': 1, 'pebbled': 1, 'hasten': 1, 'sequent': 1, 'forwards': 1, 'contend': 1, 'nativity': 1, 'crawls': 1, 'maturity': 1, 'wherewith': 1, 'transfix': 1, 'flourish': 1, 'delves': 1, 'parallels': 1, 'rarities': 1, 'mow': 1, 'slumbers': 1, 'broken': 1, 'pry': 1, 'tenure': 1, 'jealousy': 1, 'awake': 1, 'defeat': 1, 'watchman': 1, 'wake': 1, 'possesseth': 1, 'define': 1, 'worths': 1, 'surmount': 1, 'indeed': 1, 'beated': 1, 'chopt': 1, 'tanned': 1, 'contrary': 1, 'iniquity': 1, 'crushed': 1, 'erworn': 1, 'drained': 1, 'travelled': 1, 'steepy': 1, 'vanishing': 1, 'confounding': 1, 'cut': 1, 'defaced': 1, 'towers': 1, 'rased': 1, 'kingdom': 1, 'firm': 1, 'watery': 1, 'increasing': 1, 'interchange': 1, 'confounded': 1, 'ruin': 1, 'ruminate': 1, 'choose': 1, 'boundless': 1, 'mortality': 1, 'ersways': 1, 'honey': 1, 'wrackful': 1, 'siege': 1, 'batt': 1, 'rocks': 1, 'impregnable': 1, 'stout': 1, 'gates': 1, 'decays': 1, 'fearful': 1, 'meditation': 1, 'spoil': 1, 'miracle': 1, 'restful': 1, 'beggar': 1, 'needy': 1, 'trimmed': 1, 'jollity': 1, 'purest': 1, 'unhappily': 1, 'shamefully': 1, 'misplaced': 1, 'rudely': 1, 'strumpeted': 1, 'wrongfully': 1, 'disgraced': 1, 'limping': 1, 'disabled': 1, 'authority': 1, 'doctor': 1, 'miscalled': 1, 'simplicity': 1, 'captive': 1, 'impiety': 1, 'achieve': 1, 'lace': 1, 'society': 1, 'imitate': 1, 'indirectly': 1, 'bankrupt': 1, 'beggared': 1, 'blush': 1, 'exchequer': 1, 'gains': 1, 'stores': 1, 'signs': 1, 'durst': 1, 'inhabit': 1, 'tresses': 1, 'sepulchres': 1, 'shorn': 1, 'fleece': 1, 'robbing': 1, 'dress': 1, 'yore': 1, 'voice': 1, 'uttering': 1, 'commend': 1, 'accents': 1, 'churls': 1, 'matcheth': 1, 'wooed': 1, 'vice': 1, 'unstained': 1, 'ambush': 1, 'victor': 1, 'charged': 1, 'enlarged': 1, 'kingdoms': 1, 'owe': 1, 'surly': 1, 'bell': 1, 'warning': 1, 'vilest': 1, 'perhaps': 1, 'compounded': 1, 'clay': 1, 'task': 1, 'recite': 1, 'willingly': 1, 'impart': 1, 'shamed': 1, 'few': 1, 'boughs': 1, 'choirs': 1, 'late': 1, 'sang': 1, 'twilight': 1, 'sunset': 1, 'fadeth': 1, 'seals': 1, 'glowing': 1, 'ashes': 1, 'expire': 1, 'consumed': 1, 'nourished': 1, 'perceiv': 1, 'arrest': 1, 'carry': 1, 'memorial': 1, 'reviewest': 1, 'review': 1, 'consecrate': 1, 'dregs': 1, 'coward': 1, 'contains': 1, 'remains': 1, 'food': 1, 'seasoned': 1, 'strife': 1, 'miser': 1, 'enjoyer': 1, 'filching': 1, 'bettered': 1, 'feasting': 1, 'clean': 1, 'starved': 1, 'pursuing': 1, 'surfeit': 1, 'gluttoning': 1, 'variation': 1, 'methods': 1, 'showing': 1, 'proceed': 1, 'always': 1, 'dressing': 1, 'spending': 1, 'already': 1, 'vacant': 1, 'imprint': 1, 'mouthed': 1, 'graves': 1, 'shady': 1, 'stealth': 1, 'progress': 1, 'contain': 1, 'commit': 1, 'blanks': 1, 'nursed': 1, 'delivered': 1, 'offices': 1, 'profit': 1, 'enrich': 1, 'invoked': 1, 'assistance': 1, 'alien': 1, 'poesy': 1, 'disperse': 1, 'aloft': 1, 'fly': 1, 'feathers': 1, 'wing': 1, 'compile': 1, 'arts': 1, 'graced': 1, 'advance': 1, 'decayed': 1, 'deserves': 1, 'travail': 1, 'worthier': 1, 'stole': 1, 'behaviour': 1, 'afford': 1, 'thank': 1, 'owes': 1, 'faint': 1, 'thereof': 1, 'spends': 1, 'proudest': 1, 'inferior': 1, 'broad': 1, 'wilfully': 1, 'shallowest': 1, 'afloat': 1, 'soundless': 1, 'wrecked': 1, 'boat': 1, 'tall': 1, 'building': 1, 'goodly': 1, 'epitaph': 1, 'forgotten': 1, 'immortal': 1, 'entombed': 1, 'breathers': 1, 'breathes': 1, 'mouths': 1, 'attaint': 1, 'erlook': 1, 'dedicated': 1, 'writers': 1, 'blessing': 1, 'limit': 1, 'enforced': 1, 'fresher': 1, 'stamp': 1, 'bettering': 1, 'devised': 1, 'strained': 1, 'rhetoric': 1, 'sympathized': 1, 'plain': 1, 'abused': 1, 'exceed': 1, 'debt': 1, 'slept': 1, 'extant': 1, 'modern': 1, 'impute': 1, 'impair': 1, 'confine': 1, 'immured': 1, 'equal': 1, 'lean': 1, 'penury': 1, 'writes': 1, 'dignifies': 1, 'counterpart': 1, 'admired': 1, 'blessings': 1, 'richly': 1, 'compiled': 1, 'phrase': 1, 'muses': 1, 'filed': 1, 'unlettered': 1, 'clerk': 1, 'amen': 1, 'hymn': 1, 'able': 1, 'polished': 1, 'refined': 1, 'hearing': 1, 'hindmost': 1, 'ripe': 1, 'inhearse': 1, 'struck': 1, 'compeers': 1, 'astonished': 1, 'affable': 1, 'familiar': 1, 'ghost': 1, 'gulls': 1, 'intelligence': 1, 'victors': 1, 'countenance': 1, 'enfeebled': 1, 'farewell': 1, 'estimate': 1, 'releasing': 1, 'determinate': 1, 'granting': 1, 'deserving': 1, 'patent': 1, 'swerving': 1, 'mistaking': 1, 'misprision': 1, 'waking': 1, 'disposed': 1, 'weakness': 1, 'concealed': 1, 'attainted': 1, 'gainer': 1, 'lameness': 1, 'halt': 1, 'strangle': 1, 'profane': 1, 'wronk': 1, 'debate': 1, 'join': 1, 'drop': 1, 'scaped': 1, 'rearward': 1, 'conquered': 1, 'windy': 1, 'rainy': 1, 'linger': 1, 'purposed': 1, 'overthrow': 1, 'petty': 1, 'griefs': 1, 'onset': 1, 'strains': 1, 'compared': 1, 'fangled': 1, 'hounds': 1, 'particulars': 1, 'richer': 1, 'prouder': 1, 'costs': 1, 'horses': 1, 'wretchcd': 1, 'term': 1, 'depend': 1, 'revolt': 1, 'supposing': 1, 'hatred': 1, 'history': 1, 'moods': 1, 'frowns': 1, 'decree': 1, 'workings': 1, 'eve': 1, 'apple': 1, 'hurt': 1, 'unmoved': 1, 'rightly': 1, 'inherit': 1, 'tibey': 1, 'owners': 1, 'stewards': 1, 'outbraves': 1, 'dignity': 1, 'sourest': 1, 'lilies': 1, 'fester': 1, 'fragrant': 1, 'spot': 1, 'budding': 1, 'enclose': 1, 'dispraise': 1, 'naming': 1, 'blesses': 1, 'vices': 1, 'habitation': 1, 'chose': 1, 'veil': 1, 'heed': 1, 'privilege': 1, 'hardest': 1, 'wantonness': 1, 'resort': 1, 'finger': 1, 'throned': 1, 'queen': 1, 'truths': 1, 'translated': 1, 'lambs': 1, 'stern': 1, 'wolf': 1, 'lamb': 1, 'translate': 1, 'gazers': 1, 'fleeting': 1, 'freezings': 1, 'felt': 1, 'december': 1, 'teeming': 1, 'big': 1, 'wanton': 1, 'burden': 1, 'widowed': 1, 'wombs': 1, 'abundant': 1, 'orphans': 1, 'fruit': 1, 'pleasures': 1, 'cheer': 1, 'dreading': 1, 'pied': 1, 'dressed': 1, 'trim': 1, 'saturn': 1, 'laughed': 1, 'leaped': 1, 'different': 1, 'lap': 1, 'vermilion': 1, 'figures': 1, 'forward': 1, 'smells': 1, 'purple': 1, 'soft': 1, 'dwells': 1, 'grossly': 1, 'condemned': 1, 'marjoram': 1, 'hair': 1, 'fearfully': 1, 'third': 1, 'annexed': 1, 'theft': 1, 'vengeful': 1, 'fury': 1, 'darkening': 1, 'forgetful': 1, 'redeem': 1, 'idly': 1, 'resty': 1, 'wrinkle': 1, 'graven': 1, 'satire': 1, 'spoils': 1, 'faster': 1, 'truant': 1, 'amends': 1, 'dignified': 1, 'intermixed': 1, 'ages': 1, 'office': 1, 'strengthened': 1, 'merchandized': 1, 'esteeming': 1, 'owner': 1, 'publish': 1, 'wont': 1, 'philomel': 1, 'front': 1, 'stops': 1, 'pipe': 1, 'pleasant': 1, 'mournful': 1, 'hush': 1, 'wild': 1, 'burthens': 1, 'bough': 1, 'appears': 1, 'dulling': 1, 'striving': 1, 'mar': 1, 'verses': 1, 'gifts': 1, 'eyed': 1, 'forests': 1, 'shook': 1, 'summers': 1, 'springs': 1, 'process': 1, 'junes': 1, 'burned': 1, 'figure': 1, 'perceived': 1, 'unbred': 1, 'idolatry': 1, 'idol': 1, 'alike': 1, 'songs': 1, 'expressing': 1, 'difference': 1, 'varying': 1, 'themes': 1, 'chronicle': 1, 'wasted': 1, 'descriptions': 1, 'wights': 1, 'beautiful': 1, 'ladies': 1, 'knights': 1, 'blazon': 1, 'lip': 1, 'prophecies': 1, 'prefiguring': 1, 'divining': 1, 'prophetic': 1, 'dreaming': 1, 'eclipse': 1, 'endured': 1, 'augurs': 1, 'presage': 1, 'incertainties': 1, 'crown': 1, 'proclaims': 1, 'olives': 1, 'endless': 1, 'drops': 1, 'balmy': 1, 'subscribes': 1, 'insults': 1, 'tribes': 1, 'crests': 1, 'tombs': 1, 'figured': 1, 'register': 1, 'prayers': 1, 'hallowed': 1, 'weighs': 1, 'necessary': 1, 'aye': 1, 'page': 1, 'qualify': 1, 'easy': 1, 'ranged': 1, 'travels': 1, 'exchanged': 1, 'reigned': 1, 'kinds': 1, 'preposterously': 1, 'stained': 1, 'universe': 1, 'motley': 1, 'gored': 1, 'sold': 1, 'cheap': 1, 'offences': 1, 'affections': 1, 'askance': 1, 'blenches': 1, 'essays': 1, 'grind': 1, 'try': 1, 'older': 1, 'harmful': 1, 'provide': 1, 'breeds': 1, 'subdued': 1, 'dyer': 1, 'renewed': 1, 'patient': 1, 'eisel': 1, 'penance': 1, 'correct': 1, 'correction': 1, 'assure': 1, 'impression': 1, 'scandal': 1, 'stamped': 1, 'steeled': 1, 'changes': 1, 'profound': 1, 'abysm': 1, 'throw': 1, 'voices': 1, 'adder': 1, 'critic': 1, 'flatterer': 1, 'stopped': 1, 'dispense': 1, 'besides': 1, 'governs': 1, 'about': 1, 'function': 1, 'partly': 1, 'effectually': 1, 'delivers': 1, 'bird': 1, 'latch': 1, 'vision': 1, 'rud': 1, 'gentlest': 1, 'deformed': 1, 'creature': 1, 'dove': 1, 'shapes': 1, 'feature': 1, 'incapable': 1, 'maketh': 1, 'monarch': 1, 'saith': 1, 'monsters': 1, 'indigest': 1, 'cherubins': 1, 'resemble': 1, 'creating': 1, 'beams': 1, 'assemble': 1, 'kingly': 1, 'drinks': 1, 'gust': 1, 'greeing': 1, 'cup': 1, 'poisoned': 1, 'lesser': 1, 'begin': 1, 'knew': 1, 'afterwards': 1, 'reckoning': 1, 'millioned': 1, 'accidents': 1, 'creep': 1, 'decrees': 1, 'tan': 1, 'intents': 1, 'divert': 1, 'alt': 1, 'fearing': 1, 'tyranny': 1, 'certain': 1, 'incertainty': 1, 'crowning': 1, 'marriage': 1, 'admit': 1, 'impediments': 1, 'alteration': 1, 'bends': 1, 'remover': 1, 'tempests': 1, 'rosy': 1, 'sickle': 1, 'compass': 1, 'weeks': 1, 'error': 1, 'scanted': 1, 'repay': 1, 'frequent': 1, 'purchased': 1, 'hoisted': 1, 'transport': 1, 'wilfulness': 1, 'surmise': 1, 'accumulate': 1, 'shoot': 1, 'wakened': 1, 'appeal': 1, 'eager': 1, 'sicken': 1, 'sickness': 1, 'purge': 1, 'cloying': 1, 'sauces': 1, 'welfare': 1, 'meetness': 1, 'diseased': 1, 'needing': 1, 'anticipate': 1, 'medicine': 1, 'cured': 1, 'lesson': 1, 'drugs': 1, 'poison': 1, 'feil': 1, 'drunk': 1, 'siren': 1, 'limbecks': 1, 'applying': 1, 'committed': 1, 'spheres': 1, 'fitted': 1, 'distraction': 1, 'madding': 1, 'rebuked': 1, 'befriends': 1, 'transgression': 1, 'nerves': 1, 'hammered': 1, 'y': 1, 'weigh': 1, 'suffered': 1, 'deepest': 1, 'hard': 1, 'hits': 1, 'tendered': 1, 'wounded': 1, 'bosoms': 1, 'fits': 1, 'fee': 1, 'ransoms': 1, 'reproach': 1, 'adulterate': 1, 'salutation': 1, 'sportive': 1, 'frailer': 1, 'spies': 1, 'abuses': 1, 'reckon': 1, 'bevel': 1, 'maintain': 1, 'badness': 1, 'charactered': 1, 'lasting': 1, 'beyond': 1, 'faculty': 1, 'subsist': 1, 'oblivion': 1, 'missed': 1, 'retention': 1, 'tallies': 1, 'score': 1, 'receive': 1, 'import': 1, 'forgetfulness': 1, 'pyramids': 1, 'novel': 1, 'dressings': 1, 'dates': 1, 'admire': 1, 'foist': 1, 'rather': 1, 'heard': 1, 'registers': 1, 'defy': 1, 'wond': 1, 'records': 1, 'continual': 1, 'gathered': 1, 'builded': 1, 'accident': 1, 'suffers': 1, 'smiling': 1, 'pomp': 1, 'falls': 1, 'blow': 1, 'thralled': 1, 'inviting': 1, 'heretic': 1, 'leases': 1, 'numbered': 1, 'hugely': 1, 'politic': 1, 'drowns': 1, 'fools': 1, 'extern': 1, 'honouring': 1, 'bases': 1, 'ruining': 1, 'dwellers': 1, 'paying': 1, 'rent': 1, 'compound': 1, 'forgoing': 1, 'savour': 1, 'pitiful': 1, 'thrivers': 1, 'gazing': 1, 'oblation': 1, 'mixed': 1, 'seconds': 1, 'suborned': 1, 'informer': 1, 'impeached': 1, 'waning': 1, 'withering': 1, 'wrack': 1, 'goest': 1, 'onwards': 1, 'minion': 1, 'detain': 1, 'delayed': 1, 'answered': 1, 'quietus': 1, 'counted': 1, 'successive': 1, 'slandered': 1, 'fairing': 1, 'bower': 1, 'raven': 1, 'suited': 1, 'slandering': 1, 'gently': 1, 'wiry': 1, 'harvest': 1, 'reap': 1, 'boldness': 1, 'tickled': 1, 'situation': 1, 'dancing': 1, 'chips': 1, 'walk': 1, 'gait': 1, 'savage': 1, 'enjoyed': 1, 'hunted': 1, 'hated': 1, 'swallowed': 1, 'bait': 1, 'taker': 1, 'bliss': 1, 'proposed': 1, 'coral': 1, 'snow': 1, 'breasts': 1, 'dun': 1, 'hairs': 1, 'damasked': 1, 'reeks': 1, 'treads': 1, 'tyrannous': 1, 'proudly': 1, 'err': 1, 'groans': 1, 'neck': 1, 'proceeds': 1, 'pitying': 1, 'ruth': 1, 'grey': 1, 'east': 1, 'ushers': 1, 'sober': 1, 'become': 1, 'beseem': 1, 'herself': 1, 'beshrew': 1, 'slavery': 1, 'harder': 1, 'engrossed': 1, 'forsaken': 1, 'fold': 1, 'crossed': 1, 'prison': 1, 'ward': 1, 'whoe': 1, 'rigour': 1, 'gaol': 1, 'perforce': 1, 'confessed': 1, 'mortgaged': 1, 'restore': 1, 'covetous': 1, 'surety': 1, 'bond': 1, 'fist': 1, 'bind': 1, 'statute': 1, 'sue': 1, 'debtor': 1, 'whole': 1, 'whoever': 1, 'boot': 1, 'plus': 1, 'spacious': 1, 'acceptance': 1, 'addeth': 1, 'beseechers': 1, 'admitted': 1, 'receipt': 1, 'reckoned': 1, 'untold': 1, 'partial': 1, 'anchored': 1, 'bay': 1, 'forged': 1, 'hooks': 1, 'several': 1, 'plot': 1, 'erred': 1, 'transferred': 1, 'swears': 1, 'untutored': 1, 'unlearned': 1, 'subtleties': 1, 'simply': 1, 'credit': 1, 'sides': 1, 'suppressed': 1, 'unjust': 1, 'habit': 1, 'flattered': 1, 'justify': 1, 'slay': 1, 'erpressed': 1, 'dart': 1, 'outright': 1, 'rid': 1, 'press': 1, 'manner': 1, 'testy': 1, 'news': 1, 'physicians': 1, 'madness': 1, 'wresting': 1, 'slanderers': 1, 'ears': 1, 'believed': 1, 'pleased': 1, 'cars': 1, 'tune': 1, 'delighted': 1, 'prone': 1, 'invited': 1, 'senses': 1, 'dissuade': 1, 'foolish': 1, 'unswayed': 1, 'likeness': 1, 'awards': 1, 'merits': 1, 'reproving': 1, 'scarlet': 1, 'ornaments': 1, 'sealed': 1, 'robbed': 1, 'beds': 1, 'revenues': 1, 'rents': 1, 'woo': 1, 'importune': 1, 'deserve': 1, 'pitied': 1, 'denied': 1, 'huswife': 1, 'runs': 1, 'feathered': 1, 'dispatch': 1, 'neglected': 1, 'busy': 1, 'prizing': 1, 'infant': 1, 'afar': 1, 'pray': 1, 'loud': 1, 'crying': 1, 'suggest': 1, 'worser': 1, 'coloured': 1, 'female': 1, 'tempteth': 1, 'saint': 1, 'devil': 1, 'wooing': 1, 'purity': 1, 'directly': 1, 'doubt': 1, 'breathed': 1, 'languished': 1, 'woeful': 1, 'mercy': 1, 'chiding': 1, 'followed': 1, 'flown': 1, 'threw': 1, 'saved': 1, 'saying': 1, 'centre': 1, 'rebel': 1, 'powers': 1, 'array': 1, 'dearth': 1, 'costly': 1, 'inheritors': 1, 'excess': 1, 'charge': 1, 'aggravate': 1, 'buy': 1, 'terms': 1, 'selling': 1, 'dross': 1, 'fed': 1, 'dying': 1, 'longing': 1, 'nurseth': 1, 'disease': 1, 'preserve': 1, 'uncertain': 1, 'sickly': 1, 'physician': 1, 'angry': 1, 'prescriptions': 1, 'desperate': 1, 'except': 1, 'frantic': 1, 'unrest': 1, 'discourse': 1, 'random': 1, 'correspondence': 1, 'censures': 1, 'falsely': 1, 'aright': 1, 'denote': 1, 'vexed': 1, 'watching': 1, 'marvel': 1, 'mistake': 1, 'sees': 1, 'clears': 1, 'partake': 1, 'hateth': 1, 'fawn': 1, 'lour': 1, 'revenge': 1, 'service': 1, 'worship': 1, 'commanded': 1, 'insufficiency': 1, 'brightness': 1, 'refuse': 1, 'warrantise': 1, 'exceeds': 1, 'unworthiness': 1, 'raised': 1, 'cheater': 1, 'betraying': 1, 'nobler': 1, 'treason': 1, 'stays': 1, 'rising': 1, 'drudge': 1, 'swearing': 1, 'act': 1, 'torn': 1, 'vowing': 1, 'breach': 1, 'twenty': 1, 'misuse': 1, 'honest': 1, 'enlighten': 1, 'blindness': 1, 'maid': 1, 'dian': 1, 'kindling': 1, 'quickly': 1, 'valley': 1, 'fountain': 1, 'endure': 1, 'seeting': 1, 'fired': 1, 'trial': 1, 'touch': 1, 'withal': 1, 'thither': 1, 'hied': 1, 'distempered': 1, 'lying': 1, 'inflaming': 1, 'nymphs': 1, 'vowed': 1, 'chaste': 1, 'tripping': 1, 'votary': 1, 'legions': 1, 'warmed': 1, 'sleeping': 1, 'virgin': 1, 'disarmed': 1, 'quenched': 1, 'cool': 1, 'discased': 1, 'thrall': 1, 'heats': 1, 'cools': 1})\n",
            "There are 3086 key values pairs\n",
            "The count for the word 'thee' is 162\n"
          ]
        }
      ],
      "source": [
        "\n",
        "def get_count(word_l):\n",
        "    word_count_dict = Counter(word_l)\n",
        "    return word_count_dict\n",
        "\n",
        "word_count_dict = get_count(word_l)\n",
        "print(\"an example key pair:\", word_count_dict)\n",
        "print(f\"There are {len(word_count_dict)} key values pairs\")\n",
        "print(f\"The count for the word 'thee' is {word_count_dict.get('thee',0)}\")\n"
      ]
    },
    {
      "cell_type": "code",
      "execution_count": 29,
      "id": "2e6a4fef",
      "metadata": {
        "id": "2e6a4fef",
        "outputId": "817b0aeb-7339-4052-9163-115f9c6d2c34",
        "colab": {
          "base_uri": "https://localhost:8080/"
        }
      },
      "outputs": [
        {
          "output_type": "stream",
          "name": "stdout",
          "text": [
            "Length of probs is 3086\n",
            "P('you') is 0.0062\n"
          ]
        }
      ],
      "source": [
        "\n",
        "def get_probs(word_count_dict):\n",
        "    probs = {} #empty set or dic\n",
        "    total = sum(word_count_dict.values())\n",
        "    for word in word_count_dict.keys():\n",
        "        probs[word] = word_count_dict[word] / total #word_count_dict[word] is the (and : 490) in the dic\n",
        "    return probs\n",
        "\n",
        "probs = get_probs(word_count_dict)\n",
        "print(f\"Length of probs is {len(probs)}\")\n",
        "print(f\"P('you') is {probs['you']:.4f}\")\n"
      ]
    },
    {
      "cell_type": "code",
      "source": [
        "def get_probs(word_count_dict):\n",
        "    probs = {}\n",
        "    total = sum(word_count_dict.values())\n",
        "    for word in word_count_dict.keys():\n",
        "        probs[word] = word_count_dict[word] / total\n",
        "    return probs\n",
        "\n",
        "probs = get_probs(word_count_dict)\n",
        "print(f\"Length of probs is {len(probs)}\")\n",
        "print(f\"P('of') is {probs['of']:.4f}\")"
      ],
      "metadata": {
        "id": "Ub4HOYcyt_ew",
        "outputId": "131ef6f9-a2c0-46d7-ec2b-447eef7c9bef",
        "colab": {
          "base_uri": "https://localhost:8080/"
        }
      },
      "id": "Ub4HOYcyt_ew",
      "execution_count": 35,
      "outputs": [
        {
          "output_type": "stream",
          "name": "stdout",
          "text": [
            "Length of probs is 3086\n",
            "P('of') is 0.0206\n"
          ]
        }
      ]
    },
    {
      "cell_type": "code",
      "execution_count": 36,
      "id": "a43a89e8",
      "metadata": {
        "id": "a43a89e8",
        "outputId": "c3e0eb7f-08f0-4b69-80d8-2ada57eef3f7",
        "colab": {
          "base_uri": "https://localhost:8080/",
          "height": 480
        }
      },
      "outputs": [
        {
          "output_type": "execute_result",
          "data": {
            "text/plain": [
              "<Axes: xlabel='word'>"
            ]
          },
          "metadata": {},
          "execution_count": 36
        },
        {
          "output_type": "display_data",
          "data": {
            "text/plain": [
              "<Figure size 640x480 with 1 Axes>"
            ],
            "image/png": "[encoded data removed]"
          },
          "metadata": {}
        }
      ],
      "source": [
        "\n",
        "# Display probability distribution\n",
        "prob_df = pd.DataFrame({'word': probs.keys(), 'probability': probs.values()}).sort_values(by='probability', ascending=False)\n",
        "prob_df.sample(5)\n",
        "\n",
        "prob_df.head().plot.bar(x='word', y='probability')\n"
      ]
    },
    {
      "cell_type": "markdown",
      "id": "623f1503",
      "metadata": {
        "id": "623f1503"
      },
      "source": [
        "### Architecture Part 4: Replace Misspells with Correction"
      ]
    },
    {
      "cell_type": "code",
      "execution_count": 38,
      "id": "5d4b05fe",
      "metadata": {
        "id": "5d4b05fe",
        "outputId": "84712540-e3e5-49b1-e67c-d9df0184906b",
        "colab": {
          "base_uri": "https://localhost:8080/",
          "height": 36
        }
      },
      "outputs": [
        {
          "output_type": "execute_result",
          "data": {
            "text/plain": [
              "'doing'"
            ],
            "application/vnd.google.colaboratory.intrinsic+json": {
              "type": "string"
            }
          },
          "metadata": {},
          "execution_count": 38
        }
      ],
      "source": [
        "\n",
        "def get_corrections(word, probs, vocab, n=2, verbose=False):\n",
        "    suggestions = [] # to store possible correction\n",
        "    n_best = [] # store the best suggestions based on thier probs\n",
        "\n",
        "    if word in probs.keys():\n",
        "        suggestions.append(word)\n",
        "    for w in edit_one_letter(word):\n",
        "        if len(suggestions) == n:\n",
        "            break\n",
        "        if w in probs.keys():\n",
        "            suggestions.append(w)\n",
        "    for w in edit_two_letters(word):\n",
        "        if len(suggestions) == n:\n",
        "            break\n",
        "        if w in probs.keys():\n",
        "            suggestions.append(w)\n",
        "\n",
        "    best_words = sorted({s: probs[s] for s in suggestions}.items(), key=lambda x: x[1], reverse=True)\n",
        "    n_best = best_words\n",
        "\n",
        "    if verbose: print(\"entered word = \", word, \"\\nsuggestions = \", suggestions)\n",
        "    return n_best\n",
        "\n",
        "def get_correct_word(word, vocab, probs, n):\n",
        "    corrections = get_corrections(word, probs, vocab, n, verbose=False)\n",
        "    if len(corrections) == 0: # if no correction are founf, it return the orihinal word\n",
        "        return word\n",
        "\n",
        "    final_word = corrections[0][0]\n",
        "    final_prob = corrections[0][1]\n",
        "    for i, word_prob in enumerate(corrections):\n",
        "        if word_prob[1] > final_prob:\n",
        "            final_word = word_prob[0]\n",
        "            final_prob = word_prob[1]\n",
        "    return final_word\n",
        "# vocab = Set of Unique words in the shakespeare text\n",
        "get_correct_word('goinng', vocab, probs, 100)\n"
      ]
    },
    {
      "cell_type": "markdown",
      "id": "59c73e5d",
      "metadata": {
        "id": "59c73e5d"
      },
      "source": [
        "## Final Auto-Correction Function"
      ]
    },
    {
      "cell_type": "code",
      "execution_count": 39,
      "id": "f8094f19",
      "metadata": {
        "id": "f8094f19"
      },
      "outputs": [],
      "source": [
        "\n",
        "def autocorrect(sentence, vocab, probs):\n",
        "    print(\"Input sentence : \", sentence)\n",
        "    wrong_words = find_wrong_word(sentence, vocab)\n",
        "    print(\"Wrong words : \", wrong_words)\n",
        "    correct_words = []\n",
        "    for word in sentence.strip().lower().split(\" \"):\n",
        "        if word in wrong_words:\n",
        "            correct_word = get_correct_word(word, vocab, probs, 15)\n",
        "            word = correct_word\n",
        "        correct_words.append(word)\n",
        "    print(\"Output Sentence : \", \" \".join(correct_words).capitalize())\n",
        "\n"
      ]
    },
    {
      "cell_type": "markdown",
      "source": [
        "##Demo"
      ],
      "metadata": {
        "id": "zxtqvOLIrxw9"
      },
      "id": "zxtqvOLIrxw9"
    },
    {
      "cell_type": "code",
      "source": [
        "autocorrect(\"he is goinng well\", vocab, probs)\n"
      ],
      "metadata": {
        "id": "tkEDEb8vrpH-",
        "outputId": "d60ed33b-7325-48f1-b51c-7ef1a7154cc4",
        "colab": {
          "base_uri": "https://localhost:8080/"
        }
      },
      "id": "tkEDEb8vrpH-",
      "execution_count": 40,
      "outputs": [
        {
          "output_type": "stream",
          "name": "stdout",
          "text": [
            "Input sentence :  he is goinng well\n",
            "Wrong words :  ['goinng']\n",
            "Output Sentence :  He is doing well\n"
          ]
        }
      ]
    },
    {
      "cell_type": "code",
      "source": [
        "autocorrect(\"honsty is the best pooliccy\", vocab, probs)\n"
      ],
      "metadata": {
        "id": "8LVPRDNIr-X5",
        "outputId": "7b071f51-480c-450b-b249-629811608e2c",
        "colab": {
          "base_uri": "https://localhost:8080/"
        }
      },
      "id": "8LVPRDNIr-X5",
      "execution_count": 41,
      "outputs": [
        {
          "output_type": "stream",
          "name": "stdout",
          "text": [
            "Input sentence :  honsty is the best pooliccy\n",
            "Wrong words :  ['honsty', 'pooliccy']\n",
            "Output Sentence :  Honey is the best policy\n"
          ]
        }
      ]
    },
    {
      "cell_type": "code",
      "source": [
        "autocorrect(\"life is a diink annd lve is a druug\", vocab, probs)"
      ],
      "metadata": {
        "id": "fDd0-AEIsB_k",
        "outputId": "004846a6-b5f7-4aac-a308-71142975fa5f",
        "colab": {
          "base_uri": "https://localhost:8080/"
        }
      },
      "id": "fDd0-AEIsB_k",
      "execution_count": 42,
      "outputs": [
        {
          "output_type": "stream",
          "name": "stdout",
          "text": [
            "Input sentence :  life is a diink annd lve is a druug\n",
            "Wrong words :  ['diink', 'annd', 'lve', 'druug']\n",
            "Output Sentence :  Life is a think and love is a drudge\n"
          ]
        }
      ]
    },
    {
      "cell_type": "markdown",
      "source": [
        "[Source](https://www.kaggle.com/code/pashupatigupta/project-statistical-auto-correct-system#Auto-correct-systems) for this tutorial."
      ],
      "metadata": {
        "id": "oJhA8B9SsGv7"
      },
      "id": "oJhA8B9SsGv7"
    }
  ],
  "metadata": {
    "colab": {
      "provenance": [],
      "include_colab_link": true
    },
    "language_info": {
      "name": "python"
    },
    "kernelspec": {
      "name": "python3",
      "display_name": "Python 3"
    }
  },
  "nbformat": 4,
  "nbformat_minor": 5
}